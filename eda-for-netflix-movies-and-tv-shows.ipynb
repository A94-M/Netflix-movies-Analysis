{
 "cells": [
  {
   "cell_type": "markdown",
   "id": "bb7b9da5",
   "metadata": {
    "papermill": {
     "duration": 0.017676,
     "end_time": "2024-01-18T13:44:36.110487",
     "exception": false,
     "start_time": "2024-01-18T13:44:36.092811",
     "status": "completed"
    },
    "tags": []
   },
   "source": [
    "\n",
    "<h1 style=\"text-align: center;\">Hello! Welcome to my notebook❤️\n"
   ]
  },
  {
   "cell_type": "markdown",
   "id": "8db08e89",
   "metadata": {
    "papermill": {
     "duration": 0.016557,
     "end_time": "2024-01-18T13:44:36.143913",
     "exception": false,
     "start_time": "2024-01-18T13:44:36.127356",
     "status": "completed"
    },
    "tags": []
   },
   "source": [
    "<img src=\"https://revenue-hub.com/wp-content/uploads/2020/07/netflix-hotels-can-learn.jpg\" alt=\"Udemy Image\" width=\"800\" height=\"800\" style=\"display: block; margin: auto;\">"
   ]
  },
  {
   "cell_type": "markdown",
   "id": "8ddf7c67",
   "metadata": {
    "papermill": {
     "duration": 0.016614,
     "end_time": "2024-01-18T13:44:36.176812",
     "exception": false,
     "start_time": "2024-01-18T13:44:36.160198",
     "status": "completed"
    },
    "tags": []
   },
   "source": [
    "# Importing Libraries"
   ]
  },
  {
   "cell_type": "code",
   "execution_count": 1,
   "id": "95d1a921",
   "metadata": {
    "execution": {
     "iopub.execute_input": "2024-01-18T13:44:36.213863Z",
     "iopub.status.busy": "2024-01-18T13:44:36.213420Z",
     "iopub.status.idle": "2024-01-18T13:44:39.116865Z",
     "shell.execute_reply": "2024-01-18T13:44:39.113939Z"
    },
    "papermill": {
     "duration": 2.928633,
     "end_time": "2024-01-18T13:44:39.122831",
     "exception": false,
     "start_time": "2024-01-18T13:44:36.194198",
     "status": "completed"
    },
    "tags": []
   },
   "outputs": [
    {
     "name": "stdout",
     "output_type": "stream",
     "text": [
      "/kaggle/input/netflix-shows/netflix_titles.csv\n"
     ]
    }
   ],
   "source": [
    "# This Python 3 environment comes with many helpful analytics libraries installed\n",
    "# It is defined by the kaggle/python Docker image: https://github.com/kaggle/docker-python\n",
    "# For example, here's several helpful packages to load\n",
    "\n",
    "import numpy as np # linear algebra\n",
    "import pandas as pd # data processing, CSV file I/O (e.g. pd.read_csv)\n",
    "import matplotlib.pyplot as plt\n",
    "import seaborn as sns\n",
    "\n",
    "# Input data files are available in the read-only \"../input/\" directory\n",
    "# For example, running this (by clicking run or pressing Shift+Enter) will list all files under the input directory\n",
    "\n",
    "import os\n",
    "for dirname, _, filenames in os.walk('/kaggle/input'):\n",
    "    for filename in filenames:\n",
    "        print(os.path.join(dirname, filename))\n",
    "\n",
    "# You can write up to 20GB to the current directory (/kaggle/working/) that gets preserved as output when you create a version using \"Save & Run All\" \n",
    "# You can also write temporary files to /kaggle/temp/, but they won't be saved outside of the current session"
   ]
  },
  {
   "cell_type": "markdown",
   "id": "68a1125f",
   "metadata": {
    "papermill": {
     "duration": 0.017296,
     "end_time": "2024-01-18T13:44:39.162608",
     "exception": false,
     "start_time": "2024-01-18T13:44:39.145312",
     "status": "completed"
    },
    "tags": []
   },
   "source": [
    "# Reading Data"
   ]
  },
  {
   "cell_type": "code",
   "execution_count": 2,
   "id": "ecb8ea23",
   "metadata": {
    "execution": {
     "iopub.execute_input": "2024-01-18T13:44:39.205967Z",
     "iopub.status.busy": "2024-01-18T13:44:39.205393Z",
     "iopub.status.idle": "2024-01-18T13:44:39.349806Z",
     "shell.execute_reply": "2024-01-18T13:44:39.348408Z"
    },
    "papermill": {
     "duration": 0.170712,
     "end_time": "2024-01-18T13:44:39.352798",
     "exception": false,
     "start_time": "2024-01-18T13:44:39.182086",
     "status": "completed"
    },
    "tags": []
   },
   "outputs": [],
   "source": [
    "df=pd.read_csv('/kaggle/input/netflix-shows/netflix_titles.csv')"
   ]
  },
  {
   "cell_type": "markdown",
   "id": "86f20dd0",
   "metadata": {
    "execution": {
     "iopub.execute_input": "2024-01-07T11:21:27.727305Z",
     "iopub.status.busy": "2024-01-07T11:21:27.726874Z",
     "iopub.status.idle": "2024-01-07T11:21:27.735567Z",
     "shell.execute_reply": "2024-01-07T11:21:27.733796Z",
     "shell.execute_reply.started": "2024-01-07T11:21:27.727270Z"
    },
    "papermill": {
     "duration": 0.017918,
     "end_time": "2024-01-18T13:44:39.390837",
     "exception": false,
     "start_time": "2024-01-18T13:44:39.372919",
     "status": "completed"
    },
    "tags": []
   },
   "source": [
    "# Data Cleaning ,Exploratory and Analysis "
   ]
  },
  {
   "cell_type": "code",
   "execution_count": 3,
   "id": "6f2a8bb1",
   "metadata": {
    "execution": {
     "iopub.execute_input": "2024-01-18T13:44:39.517811Z",
     "iopub.status.busy": "2024-01-18T13:44:39.516149Z",
     "iopub.status.idle": "2024-01-18T13:44:39.547356Z",
     "shell.execute_reply": "2024-01-18T13:44:39.546303Z"
    },
    "papermill": {
     "duration": 0.143602,
     "end_time": "2024-01-18T13:44:39.550499",
     "exception": false,
     "start_time": "2024-01-18T13:44:39.406897",
     "status": "completed"
    },
    "tags": []
   },
   "outputs": [
    {
     "data": {
      "text/html": [
       "<div>\n",
       "<style scoped>\n",
       "    .dataframe tbody tr th:only-of-type {\n",
       "        vertical-align: middle;\n",
       "    }\n",
       "\n",
       "    .dataframe tbody tr th {\n",
       "        vertical-align: top;\n",
       "    }\n",
       "\n",
       "    .dataframe thead th {\n",
       "        text-align: right;\n",
       "    }\n",
       "</style>\n",
       "<table border=\"1\" class=\"dataframe\">\n",
       "  <thead>\n",
       "    <tr style=\"text-align: right;\">\n",
       "      <th></th>\n",
       "      <th>show_id</th>\n",
       "      <th>type</th>\n",
       "      <th>title</th>\n",
       "      <th>director</th>\n",
       "      <th>cast</th>\n",
       "      <th>country</th>\n",
       "      <th>date_added</th>\n",
       "      <th>release_year</th>\n",
       "      <th>rating</th>\n",
       "      <th>duration</th>\n",
       "      <th>listed_in</th>\n",
       "      <th>description</th>\n",
       "    </tr>\n",
       "  </thead>\n",
       "  <tbody>\n",
       "    <tr>\n",
       "      <th>0</th>\n",
       "      <td>s1</td>\n",
       "      <td>Movie</td>\n",
       "      <td>Dick Johnson Is Dead</td>\n",
       "      <td>Kirsten Johnson</td>\n",
       "      <td>NaN</td>\n",
       "      <td>United States</td>\n",
       "      <td>September 25, 2021</td>\n",
       "      <td>2020</td>\n",
       "      <td>PG-13</td>\n",
       "      <td>90 min</td>\n",
       "      <td>Documentaries</td>\n",
       "      <td>As her father nears the end of his life, filmm...</td>\n",
       "    </tr>\n",
       "    <tr>\n",
       "      <th>1</th>\n",
       "      <td>s2</td>\n",
       "      <td>TV Show</td>\n",
       "      <td>Blood &amp; Water</td>\n",
       "      <td>NaN</td>\n",
       "      <td>Ama Qamata, Khosi Ngema, Gail Mabalane, Thaban...</td>\n",
       "      <td>South Africa</td>\n",
       "      <td>September 24, 2021</td>\n",
       "      <td>2021</td>\n",
       "      <td>TV-MA</td>\n",
       "      <td>2 Seasons</td>\n",
       "      <td>International TV Shows, TV Dramas, TV Mysteries</td>\n",
       "      <td>After crossing paths at a party, a Cape Town t...</td>\n",
       "    </tr>\n",
       "    <tr>\n",
       "      <th>2</th>\n",
       "      <td>s3</td>\n",
       "      <td>TV Show</td>\n",
       "      <td>Ganglands</td>\n",
       "      <td>Julien Leclercq</td>\n",
       "      <td>Sami Bouajila, Tracy Gotoas, Samuel Jouy, Nabi...</td>\n",
       "      <td>NaN</td>\n",
       "      <td>September 24, 2021</td>\n",
       "      <td>2021</td>\n",
       "      <td>TV-MA</td>\n",
       "      <td>1 Season</td>\n",
       "      <td>Crime TV Shows, International TV Shows, TV Act...</td>\n",
       "      <td>To protect his family from a powerful drug lor...</td>\n",
       "    </tr>\n",
       "    <tr>\n",
       "      <th>3</th>\n",
       "      <td>s4</td>\n",
       "      <td>TV Show</td>\n",
       "      <td>Jailbirds New Orleans</td>\n",
       "      <td>NaN</td>\n",
       "      <td>NaN</td>\n",
       "      <td>NaN</td>\n",
       "      <td>September 24, 2021</td>\n",
       "      <td>2021</td>\n",
       "      <td>TV-MA</td>\n",
       "      <td>1 Season</td>\n",
       "      <td>Docuseries, Reality TV</td>\n",
       "      <td>Feuds, flirtations and toilet talk go down amo...</td>\n",
       "    </tr>\n",
       "    <tr>\n",
       "      <th>4</th>\n",
       "      <td>s5</td>\n",
       "      <td>TV Show</td>\n",
       "      <td>Kota Factory</td>\n",
       "      <td>NaN</td>\n",
       "      <td>Mayur More, Jitendra Kumar, Ranjan Raj, Alam K...</td>\n",
       "      <td>India</td>\n",
       "      <td>September 24, 2021</td>\n",
       "      <td>2021</td>\n",
       "      <td>TV-MA</td>\n",
       "      <td>2 Seasons</td>\n",
       "      <td>International TV Shows, Romantic TV Shows, TV ...</td>\n",
       "      <td>In a city of coaching centers known to train I...</td>\n",
       "    </tr>\n",
       "  </tbody>\n",
       "</table>\n",
       "</div>"
      ],
      "text/plain": [
       "  show_id     type                  title         director  \\\n",
       "0      s1    Movie   Dick Johnson Is Dead  Kirsten Johnson   \n",
       "1      s2  TV Show          Blood & Water              NaN   \n",
       "2      s3  TV Show              Ganglands  Julien Leclercq   \n",
       "3      s4  TV Show  Jailbirds New Orleans              NaN   \n",
       "4      s5  TV Show           Kota Factory              NaN   \n",
       "\n",
       "                                                cast        country  \\\n",
       "0                                                NaN  United States   \n",
       "1  Ama Qamata, Khosi Ngema, Gail Mabalane, Thaban...   South Africa   \n",
       "2  Sami Bouajila, Tracy Gotoas, Samuel Jouy, Nabi...            NaN   \n",
       "3                                                NaN            NaN   \n",
       "4  Mayur More, Jitendra Kumar, Ranjan Raj, Alam K...          India   \n",
       "\n",
       "           date_added  release_year rating   duration  \\\n",
       "0  September 25, 2021          2020  PG-13     90 min   \n",
       "1  September 24, 2021          2021  TV-MA  2 Seasons   \n",
       "2  September 24, 2021          2021  TV-MA   1 Season   \n",
       "3  September 24, 2021          2021  TV-MA   1 Season   \n",
       "4  September 24, 2021          2021  TV-MA  2 Seasons   \n",
       "\n",
       "                                           listed_in  \\\n",
       "0                                      Documentaries   \n",
       "1    International TV Shows, TV Dramas, TV Mysteries   \n",
       "2  Crime TV Shows, International TV Shows, TV Act...   \n",
       "3                             Docuseries, Reality TV   \n",
       "4  International TV Shows, Romantic TV Shows, TV ...   \n",
       "\n",
       "                                         description  \n",
       "0  As her father nears the end of his life, filmm...  \n",
       "1  After crossing paths at a party, a Cape Town t...  \n",
       "2  To protect his family from a powerful drug lor...  \n",
       "3  Feuds, flirtations and toilet talk go down amo...  \n",
       "4  In a city of coaching centers known to train I...  "
      ]
     },
     "execution_count": 3,
     "metadata": {},
     "output_type": "execute_result"
    }
   ],
   "source": [
    "df.head() #first 5 rows \n",
    "#df.iloc[:5,:] #another way"
   ]
  },
  {
   "cell_type": "code",
   "execution_count": 4,
   "id": "efa3b796",
   "metadata": {
    "execution": {
     "iopub.execute_input": "2024-01-18T13:44:39.588557Z",
     "iopub.status.busy": "2024-01-18T13:44:39.587895Z",
     "iopub.status.idle": "2024-01-18T13:44:39.598582Z",
     "shell.execute_reply": "2024-01-18T13:44:39.596942Z"
    },
    "papermill": {
     "duration": 0.034448,
     "end_time": "2024-01-18T13:44:39.601578",
     "exception": false,
     "start_time": "2024-01-18T13:44:39.567130",
     "status": "completed"
    },
    "tags": []
   },
   "outputs": [
    {
     "data": {
      "text/plain": [
       "(8807, 12)"
      ]
     },
     "execution_count": 4,
     "metadata": {},
     "output_type": "execute_result"
    }
   ],
   "source": [
    "df.shape #(rows,cols)"
   ]
  },
  {
   "cell_type": "code",
   "execution_count": 5,
   "id": "97efb349",
   "metadata": {
    "execution": {
     "iopub.execute_input": "2024-01-18T13:44:39.638397Z",
     "iopub.status.busy": "2024-01-18T13:44:39.638005Z",
     "iopub.status.idle": "2024-01-18T13:44:39.648182Z",
     "shell.execute_reply": "2024-01-18T13:44:39.646394Z"
    },
    "papermill": {
     "duration": 0.032336,
     "end_time": "2024-01-18T13:44:39.652452",
     "exception": false,
     "start_time": "2024-01-18T13:44:39.620116",
     "status": "completed"
    },
    "tags": []
   },
   "outputs": [
    {
     "data": {
      "text/plain": [
       "105684"
      ]
     },
     "execution_count": 5,
     "metadata": {},
     "output_type": "execute_result"
    }
   ],
   "source": [
    "#show no of total values in the dataset\n",
    "df.size "
   ]
  },
  {
   "cell_type": "code",
   "execution_count": 6,
   "id": "adf5304b",
   "metadata": {
    "execution": {
     "iopub.execute_input": "2024-01-18T13:44:39.710343Z",
     "iopub.status.busy": "2024-01-18T13:44:39.709442Z",
     "iopub.status.idle": "2024-01-18T13:44:39.898420Z",
     "shell.execute_reply": "2024-01-18T13:44:39.897111Z"
    },
    "papermill": {
     "duration": 0.222197,
     "end_time": "2024-01-18T13:44:39.901467",
     "exception": false,
     "start_time": "2024-01-18T13:44:39.679270",
     "status": "completed"
    },
    "tags": []
   },
   "outputs": [
    {
     "data": {
      "text/html": [
       "<div>\n",
       "<style scoped>\n",
       "    .dataframe tbody tr th:only-of-type {\n",
       "        vertical-align: middle;\n",
       "    }\n",
       "\n",
       "    .dataframe tbody tr th {\n",
       "        vertical-align: top;\n",
       "    }\n",
       "\n",
       "    .dataframe thead th {\n",
       "        text-align: right;\n",
       "    }\n",
       "</style>\n",
       "<table border=\"1\" class=\"dataframe\">\n",
       "  <thead>\n",
       "    <tr style=\"text-align: right;\">\n",
       "      <th></th>\n",
       "      <th>show_id</th>\n",
       "      <th>type</th>\n",
       "      <th>title</th>\n",
       "      <th>director</th>\n",
       "      <th>cast</th>\n",
       "      <th>country</th>\n",
       "      <th>date_added</th>\n",
       "      <th>rating</th>\n",
       "      <th>duration</th>\n",
       "      <th>listed_in</th>\n",
       "      <th>description</th>\n",
       "    </tr>\n",
       "  </thead>\n",
       "  <tbody>\n",
       "    <tr>\n",
       "      <th>count</th>\n",
       "      <td>8807</td>\n",
       "      <td>8807</td>\n",
       "      <td>8807</td>\n",
       "      <td>6173</td>\n",
       "      <td>7982</td>\n",
       "      <td>7976</td>\n",
       "      <td>8797</td>\n",
       "      <td>8803</td>\n",
       "      <td>8804</td>\n",
       "      <td>8807</td>\n",
       "      <td>8807</td>\n",
       "    </tr>\n",
       "    <tr>\n",
       "      <th>unique</th>\n",
       "      <td>8807</td>\n",
       "      <td>2</td>\n",
       "      <td>8807</td>\n",
       "      <td>4528</td>\n",
       "      <td>7692</td>\n",
       "      <td>748</td>\n",
       "      <td>1767</td>\n",
       "      <td>17</td>\n",
       "      <td>220</td>\n",
       "      <td>514</td>\n",
       "      <td>8775</td>\n",
       "    </tr>\n",
       "    <tr>\n",
       "      <th>top</th>\n",
       "      <td>s1</td>\n",
       "      <td>Movie</td>\n",
       "      <td>Dick Johnson Is Dead</td>\n",
       "      <td>Rajiv Chilaka</td>\n",
       "      <td>David Attenborough</td>\n",
       "      <td>United States</td>\n",
       "      <td>January 1, 2020</td>\n",
       "      <td>TV-MA</td>\n",
       "      <td>1 Season</td>\n",
       "      <td>Dramas, International Movies</td>\n",
       "      <td>Paranormal activity at a lush, abandoned prope...</td>\n",
       "    </tr>\n",
       "    <tr>\n",
       "      <th>freq</th>\n",
       "      <td>1</td>\n",
       "      <td>6131</td>\n",
       "      <td>1</td>\n",
       "      <td>19</td>\n",
       "      <td>19</td>\n",
       "      <td>2818</td>\n",
       "      <td>109</td>\n",
       "      <td>3207</td>\n",
       "      <td>1793</td>\n",
       "      <td>362</td>\n",
       "      <td>4</td>\n",
       "    </tr>\n",
       "  </tbody>\n",
       "</table>\n",
       "</div>"
      ],
      "text/plain": [
       "       show_id   type                 title       director  \\\n",
       "count     8807   8807                  8807           6173   \n",
       "unique    8807      2                  8807           4528   \n",
       "top         s1  Movie  Dick Johnson Is Dead  Rajiv Chilaka   \n",
       "freq         1   6131                     1             19   \n",
       "\n",
       "                      cast        country       date_added rating  duration  \\\n",
       "count                 7982           7976             8797   8803      8804   \n",
       "unique                7692            748             1767     17       220   \n",
       "top     David Attenborough  United States  January 1, 2020  TV-MA  1 Season   \n",
       "freq                    19           2818              109   3207      1793   \n",
       "\n",
       "                           listed_in  \\\n",
       "count                           8807   \n",
       "unique                           514   \n",
       "top     Dramas, International Movies   \n",
       "freq                             362   \n",
       "\n",
       "                                              description  \n",
       "count                                                8807  \n",
       "unique                                               8775  \n",
       "top     Paranormal activity at a lush, abandoned prope...  \n",
       "freq                                                    4  "
      ]
     },
     "execution_count": 6,
     "metadata": {},
     "output_type": "execute_result"
    }
   ],
   "source": [
    "#Checking statistics of columns for the int64 data type\n",
    "df.describe(include=['object'])"
   ]
  },
  {
   "cell_type": "code",
   "execution_count": 7,
   "id": "29ee9251",
   "metadata": {
    "execution": {
     "iopub.execute_input": "2024-01-18T13:44:39.942142Z",
     "iopub.status.busy": "2024-01-18T13:44:39.941703Z",
     "iopub.status.idle": "2024-01-18T13:44:39.951665Z",
     "shell.execute_reply": "2024-01-18T13:44:39.950381Z"
    },
    "papermill": {
     "duration": 0.034339,
     "end_time": "2024-01-18T13:44:39.953787",
     "exception": false,
     "start_time": "2024-01-18T13:44:39.919448",
     "status": "completed"
    },
    "tags": []
   },
   "outputs": [
    {
     "data": {
      "text/plain": [
       "(8807, 12)"
      ]
     },
     "execution_count": 7,
     "metadata": {},
     "output_type": "execute_result"
    }
   ],
   "source": [
    "df.shape"
   ]
  },
  {
   "cell_type": "code",
   "execution_count": 8,
   "id": "86f8f05b",
   "metadata": {
    "execution": {
     "iopub.execute_input": "2024-01-18T13:44:39.999608Z",
     "iopub.status.busy": "2024-01-18T13:44:39.998746Z",
     "iopub.status.idle": "2024-01-18T13:44:40.012882Z",
     "shell.execute_reply": "2024-01-18T13:44:40.012067Z"
    },
    "papermill": {
     "duration": 0.04396,
     "end_time": "2024-01-18T13:44:40.016219",
     "exception": false,
     "start_time": "2024-01-18T13:44:39.972259",
     "status": "completed"
    },
    "tags": []
   },
   "outputs": [
    {
     "data": {
      "text/plain": [
       "8807"
      ]
     },
     "execution_count": 8,
     "metadata": {},
     "output_type": "execute_result"
    }
   ],
   "source": [
    "df['show_id'].nunique() # unique val in 'show_id' col each no of rows so we can use it as an index"
   ]
  },
  {
   "cell_type": "code",
   "execution_count": 9,
   "id": "387c5a84",
   "metadata": {
    "execution": {
     "iopub.execute_input": "2024-01-18T13:44:40.060990Z",
     "iopub.status.busy": "2024-01-18T13:44:40.060572Z",
     "iopub.status.idle": "2024-01-18T13:44:40.071045Z",
     "shell.execute_reply": "2024-01-18T13:44:40.069338Z"
    },
    "papermill": {
     "duration": 0.037865,
     "end_time": "2024-01-18T13:44:40.073644",
     "exception": false,
     "start_time": "2024-01-18T13:44:40.035779",
     "status": "completed"
    },
    "tags": []
   },
   "outputs": [],
   "source": [
    "df.set_index('show_id', inplace=True)"
   ]
  },
  {
   "cell_type": "markdown",
   "id": "bc4aed9b",
   "metadata": {
    "execution": {
     "iopub.execute_input": "2024-01-07T11:22:19.127582Z",
     "iopub.status.busy": "2024-01-07T11:22:19.127123Z",
     "iopub.status.idle": "2024-01-07T11:22:19.135682Z",
     "shell.execute_reply": "2024-01-07T11:22:19.133800Z",
     "shell.execute_reply.started": "2024-01-07T11:22:19.127547Z"
    },
    "papermill": {
     "duration": 0.019261,
     "end_time": "2024-01-18T13:44:40.114554",
     "exception": false,
     "start_time": "2024-01-18T13:44:40.095293",
     "status": "completed"
    },
    "tags": []
   },
   "source": [
    "# Checking For Duplicated Values"
   ]
  },
  {
   "cell_type": "code",
   "execution_count": 10,
   "id": "9e05e58c",
   "metadata": {
    "execution": {
     "iopub.execute_input": "2024-01-18T13:44:40.159541Z",
     "iopub.status.busy": "2024-01-18T13:44:40.159095Z",
     "iopub.status.idle": "2024-01-18T13:44:40.202948Z",
     "shell.execute_reply": "2024-01-18T13:44:40.201342Z"
    },
    "papermill": {
     "duration": 0.0734,
     "end_time": "2024-01-18T13:44:40.206139",
     "exception": false,
     "start_time": "2024-01-18T13:44:40.132739",
     "status": "completed"
    },
    "tags": []
   },
   "outputs": [
    {
     "data": {
      "text/html": [
       "<div>\n",
       "<style scoped>\n",
       "    .dataframe tbody tr th:only-of-type {\n",
       "        vertical-align: middle;\n",
       "    }\n",
       "\n",
       "    .dataframe tbody tr th {\n",
       "        vertical-align: top;\n",
       "    }\n",
       "\n",
       "    .dataframe thead th {\n",
       "        text-align: right;\n",
       "    }\n",
       "</style>\n",
       "<table border=\"1\" class=\"dataframe\">\n",
       "  <thead>\n",
       "    <tr style=\"text-align: right;\">\n",
       "      <th></th>\n",
       "      <th>type</th>\n",
       "      <th>title</th>\n",
       "      <th>director</th>\n",
       "      <th>cast</th>\n",
       "      <th>country</th>\n",
       "      <th>date_added</th>\n",
       "      <th>release_year</th>\n",
       "      <th>rating</th>\n",
       "      <th>duration</th>\n",
       "      <th>listed_in</th>\n",
       "      <th>description</th>\n",
       "    </tr>\n",
       "    <tr>\n",
       "      <th>show_id</th>\n",
       "      <th></th>\n",
       "      <th></th>\n",
       "      <th></th>\n",
       "      <th></th>\n",
       "      <th></th>\n",
       "      <th></th>\n",
       "      <th></th>\n",
       "      <th></th>\n",
       "      <th></th>\n",
       "      <th></th>\n",
       "      <th></th>\n",
       "    </tr>\n",
       "  </thead>\n",
       "  <tbody>\n",
       "  </tbody>\n",
       "</table>\n",
       "</div>"
      ],
      "text/plain": [
       "Empty DataFrame\n",
       "Columns: [type, title, director, cast, country, date_added, release_year, rating, duration, listed_in, description]\n",
       "Index: []"
      ]
     },
     "execution_count": 10,
     "metadata": {},
     "output_type": "execute_result"
    }
   ],
   "source": [
    "df[df.duplicated()]"
   ]
  },
  {
   "cell_type": "code",
   "execution_count": 11,
   "id": "c743a126",
   "metadata": {
    "execution": {
     "iopub.execute_input": "2024-01-18T13:44:40.250220Z",
     "iopub.status.busy": "2024-01-18T13:44:40.249759Z",
     "iopub.status.idle": "2024-01-18T13:44:40.271034Z",
     "shell.execute_reply": "2024-01-18T13:44:40.269383Z"
    },
    "papermill": {
     "duration": 0.043017,
     "end_time": "2024-01-18T13:44:40.273497",
     "exception": false,
     "start_time": "2024-01-18T13:44:40.230480",
     "status": "completed"
    },
    "tags": []
   },
   "outputs": [
    {
     "name": "stdout",
     "output_type": "stream",
     "text": [
      "Count of Duplicated rows is : 0\n"
     ]
    }
   ],
   "source": [
    "num_duplicated_rows = df.duplicated().sum()\n",
    "print(\"Count of Duplicated rows is :\",num_duplicated_rows)"
   ]
  },
  {
   "cell_type": "markdown",
   "id": "1759a449",
   "metadata": {
    "papermill": {
     "duration": 0.016907,
     "end_time": "2024-01-18T13:44:40.308509",
     "exception": false,
     "start_time": "2024-01-18T13:44:40.291602",
     "status": "completed"
    },
    "tags": []
   },
   "source": [
    "<h6>Data doesn't contain any duplicated rows"
   ]
  },
  {
   "cell_type": "markdown",
   "id": "642a42df",
   "metadata": {
    "execution": {
     "iopub.execute_input": "2024-01-07T11:23:29.935078Z",
     "iopub.status.busy": "2024-01-07T11:23:29.934649Z",
     "iopub.status.idle": "2024-01-07T11:23:29.943051Z",
     "shell.execute_reply": "2024-01-07T11:23:29.941281Z",
     "shell.execute_reply.started": "2024-01-07T11:23:29.935044Z"
    },
    "papermill": {
     "duration": 0.021305,
     "end_time": "2024-01-18T13:44:40.346813",
     "exception": false,
     "start_time": "2024-01-18T13:44:40.325508",
     "status": "completed"
    },
    "tags": []
   },
   "source": [
    "# Checking For NULL Values and Data Types"
   ]
  },
  {
   "cell_type": "code",
   "execution_count": 12,
   "id": "00d68820",
   "metadata": {
    "execution": {
     "iopub.execute_input": "2024-01-18T13:44:40.395020Z",
     "iopub.status.busy": "2024-01-18T13:44:40.394266Z",
     "iopub.status.idle": "2024-01-18T13:44:41.027430Z",
     "shell.execute_reply": "2024-01-18T13:44:41.025958Z"
    },
    "papermill": {
     "duration": 0.658337,
     "end_time": "2024-01-18T13:44:41.030696",
     "exception": false,
     "start_time": "2024-01-18T13:44:40.372359",
     "status": "completed"
    },
    "tags": []
   },
   "outputs": [
    {
     "data": {
      "text/plain": [
       "<Axes: ylabel='show_id'>"
      ]
     },
     "execution_count": 12,
     "metadata": {},
     "output_type": "execute_result"
    },
    {
     "data": {
      "image/png": "[encoded data removed]",
      "text/plain": [
       "<Figure size 640x480 with 2 Axes>"
      ]
     },
     "metadata": {},
     "output_type": "display_data"
    }
   ],
   "source": [
    "sns.heatmap(df.isnull()) # from this chart we can realize that 5 cols have Null values {'director' ,'cast' ,'country','date_added','duration'}"
   ]
  },
  {
   "cell_type": "code",
   "execution_count": 13,
   "id": "7e685f33",
   "metadata": {
    "execution": {
     "iopub.execute_input": "2024-01-18T13:44:41.079841Z",
     "iopub.status.busy": "2024-01-18T13:44:41.079416Z",
     "iopub.status.idle": "2024-01-18T13:44:41.104886Z",
     "shell.execute_reply": "2024-01-18T13:44:41.103115Z"
    },
    "papermill": {
     "duration": 0.05377,
     "end_time": "2024-01-18T13:44:41.108442",
     "exception": false,
     "start_time": "2024-01-18T13:44:41.054672",
     "status": "completed"
    },
    "tags": []
   },
   "outputs": [
    {
     "name": "stdout",
     "output_type": "stream",
     "text": [
      "<class 'pandas.core.frame.DataFrame'>\n",
      "Index: 8807 entries, s1 to s8807\n",
      "Data columns (total 11 columns):\n",
      " #   Column        Non-Null Count  Dtype \n",
      "---  ------        --------------  ----- \n",
      " 0   type          8807 non-null   object\n",
      " 1   title         8807 non-null   object\n",
      " 2   director      6173 non-null   object\n",
      " 3   cast          7982 non-null   object\n",
      " 4   country       7976 non-null   object\n",
      " 5   date_added    8797 non-null   object\n",
      " 6   release_year  8807 non-null   int64 \n",
      " 7   rating        8803 non-null   object\n",
      " 8   duration      8804 non-null   object\n",
      " 9   listed_in     8807 non-null   object\n",
      " 10  description   8807 non-null   object\n",
      "dtypes: int64(1), object(10)\n",
      "memory usage: 825.7+ KB\n"
     ]
    }
   ],
   "source": [
    "df.info()  #shows  col name , no of NUll values , Data Types"
   ]
  },
  {
   "cell_type": "code",
   "execution_count": 14,
   "id": "7004ebc8",
   "metadata": {
    "execution": {
     "iopub.execute_input": "2024-01-18T13:44:41.149491Z",
     "iopub.status.busy": "2024-01-18T13:44:41.148759Z",
     "iopub.status.idle": "2024-01-18T13:44:41.160036Z",
     "shell.execute_reply": "2024-01-18T13:44:41.159037Z"
    },
    "papermill": {
     "duration": 0.034258,
     "end_time": "2024-01-18T13:44:41.161989",
     "exception": false,
     "start_time": "2024-01-18T13:44:41.127731",
     "status": "completed"
    },
    "tags": []
   },
   "outputs": [
    {
     "data": {
      "text/plain": [
       "4307"
      ]
     },
     "execution_count": 14,
     "metadata": {},
     "output_type": "execute_result"
    }
   ],
   "source": [
    "# Total number of null values in the dataframe \n",
    "df.isnull().sum().sum() "
   ]
  },
  {
   "cell_type": "code",
   "execution_count": 15,
   "id": "dbd7dd01",
   "metadata": {
    "execution": {
     "iopub.execute_input": "2024-01-18T13:44:41.201524Z",
     "iopub.status.busy": "2024-01-18T13:44:41.201052Z",
     "iopub.status.idle": "2024-01-18T13:44:41.213788Z",
     "shell.execute_reply": "2024-01-18T13:44:41.211592Z"
    },
    "papermill": {
     "duration": 0.037025,
     "end_time": "2024-01-18T13:44:41.216722",
     "exception": false,
     "start_time": "2024-01-18T13:44:41.179697",
     "status": "completed"
    },
    "tags": []
   },
   "outputs": [
    {
     "name": "stdout",
     "output_type": "stream",
     "text": [
      "Col 'cast' contains     : ( 825 ) Null value\n",
      "Col 'director' contains : ( 2634 ) Null value\n",
      "Col 'director' contains : ( 831 ) Null value\n"
     ]
    }
   ],
   "source": [
    "print(\"Col 'cast' contains     : (\",df['cast'].isnull().sum() ,\") Null value\")\n",
    "print(\"Col 'director' contains : (\",df['director'].isnull().sum() ,\") Null value\")\n",
    "print(\"Col 'director' contains : (\",df['country'].isnull().sum() ,\") Null value\")"
   ]
  },
  {
   "cell_type": "markdown",
   "id": "ab5791bf",
   "metadata": {
    "papermill": {
     "duration": 0.019771,
     "end_time": "2024-01-18T13:44:41.255395",
     "exception": false,
     "start_time": "2024-01-18T13:44:41.235624",
     "status": "completed"
    },
    "tags": []
   },
   "source": [
    "<h6>they have many Null values so droping rows that have cast Null will affect the data \n"
   ]
  },
  {
   "cell_type": "code",
   "execution_count": 16,
   "id": "9824ddcd",
   "metadata": {
    "execution": {
     "iopub.execute_input": "2024-01-18T13:44:41.297746Z",
     "iopub.status.busy": "2024-01-18T13:44:41.296629Z",
     "iopub.status.idle": "2024-01-18T13:44:41.320563Z",
     "shell.execute_reply": "2024-01-18T13:44:41.319810Z"
    },
    "papermill": {
     "duration": 0.046858,
     "end_time": "2024-01-18T13:44:41.322438",
     "exception": false,
     "start_time": "2024-01-18T13:44:41.275580",
     "status": "completed"
    },
    "tags": []
   },
   "outputs": [
    {
     "data": {
      "text/html": [
       "<div>\n",
       "<style scoped>\n",
       "    .dataframe tbody tr th:only-of-type {\n",
       "        vertical-align: middle;\n",
       "    }\n",
       "\n",
       "    .dataframe tbody tr th {\n",
       "        vertical-align: top;\n",
       "    }\n",
       "\n",
       "    .dataframe thead th {\n",
       "        text-align: right;\n",
       "    }\n",
       "</style>\n",
       "<table border=\"1\" class=\"dataframe\">\n",
       "  <thead>\n",
       "    <tr style=\"text-align: right;\">\n",
       "      <th></th>\n",
       "      <th>type</th>\n",
       "      <th>title</th>\n",
       "      <th>director</th>\n",
       "      <th>cast</th>\n",
       "      <th>country</th>\n",
       "      <th>date_added</th>\n",
       "      <th>release_year</th>\n",
       "      <th>rating</th>\n",
       "      <th>duration</th>\n",
       "      <th>listed_in</th>\n",
       "      <th>description</th>\n",
       "    </tr>\n",
       "    <tr>\n",
       "      <th>show_id</th>\n",
       "      <th></th>\n",
       "      <th></th>\n",
       "      <th></th>\n",
       "      <th></th>\n",
       "      <th></th>\n",
       "      <th></th>\n",
       "      <th></th>\n",
       "      <th></th>\n",
       "      <th></th>\n",
       "      <th></th>\n",
       "      <th></th>\n",
       "    </tr>\n",
       "  </thead>\n",
       "  <tbody>\n",
       "    <tr>\n",
       "      <th>s1</th>\n",
       "      <td>Movie</td>\n",
       "      <td>Dick Johnson Is Dead</td>\n",
       "      <td>Kirsten Johnson</td>\n",
       "      <td>Unknown</td>\n",
       "      <td>United States</td>\n",
       "      <td>September 25, 2021</td>\n",
       "      <td>2020</td>\n",
       "      <td>PG-13</td>\n",
       "      <td>90 min</td>\n",
       "      <td>Documentaries</td>\n",
       "      <td>As her father nears the end of his life, filmm...</td>\n",
       "    </tr>\n",
       "    <tr>\n",
       "      <th>s2</th>\n",
       "      <td>TV Show</td>\n",
       "      <td>Blood &amp; Water</td>\n",
       "      <td>Unknown</td>\n",
       "      <td>Ama Qamata, Khosi Ngema, Gail Mabalane, Thaban...</td>\n",
       "      <td>South Africa</td>\n",
       "      <td>September 24, 2021</td>\n",
       "      <td>2021</td>\n",
       "      <td>TV-MA</td>\n",
       "      <td>2 Seasons</td>\n",
       "      <td>International TV Shows, TV Dramas, TV Mysteries</td>\n",
       "      <td>After crossing paths at a party, a Cape Town t...</td>\n",
       "    </tr>\n",
       "    <tr>\n",
       "      <th>s3</th>\n",
       "      <td>TV Show</td>\n",
       "      <td>Ganglands</td>\n",
       "      <td>Julien Leclercq</td>\n",
       "      <td>Sami Bouajila, Tracy Gotoas, Samuel Jouy, Nabi...</td>\n",
       "      <td>Unknown</td>\n",
       "      <td>September 24, 2021</td>\n",
       "      <td>2021</td>\n",
       "      <td>TV-MA</td>\n",
       "      <td>1 Season</td>\n",
       "      <td>Crime TV Shows, International TV Shows, TV Act...</td>\n",
       "      <td>To protect his family from a powerful drug lor...</td>\n",
       "    </tr>\n",
       "    <tr>\n",
       "      <th>s4</th>\n",
       "      <td>TV Show</td>\n",
       "      <td>Jailbirds New Orleans</td>\n",
       "      <td>Unknown</td>\n",
       "      <td>Unknown</td>\n",
       "      <td>Unknown</td>\n",
       "      <td>September 24, 2021</td>\n",
       "      <td>2021</td>\n",
       "      <td>TV-MA</td>\n",
       "      <td>1 Season</td>\n",
       "      <td>Docuseries, Reality TV</td>\n",
       "      <td>Feuds, flirtations and toilet talk go down amo...</td>\n",
       "    </tr>\n",
       "    <tr>\n",
       "      <th>s5</th>\n",
       "      <td>TV Show</td>\n",
       "      <td>Kota Factory</td>\n",
       "      <td>Unknown</td>\n",
       "      <td>Mayur More, Jitendra Kumar, Ranjan Raj, Alam K...</td>\n",
       "      <td>India</td>\n",
       "      <td>September 24, 2021</td>\n",
       "      <td>2021</td>\n",
       "      <td>TV-MA</td>\n",
       "      <td>2 Seasons</td>\n",
       "      <td>International TV Shows, Romantic TV Shows, TV ...</td>\n",
       "      <td>In a city of coaching centers known to train I...</td>\n",
       "    </tr>\n",
       "    <tr>\n",
       "      <th>...</th>\n",
       "      <td>...</td>\n",
       "      <td>...</td>\n",
       "      <td>...</td>\n",
       "      <td>...</td>\n",
       "      <td>...</td>\n",
       "      <td>...</td>\n",
       "      <td>...</td>\n",
       "      <td>...</td>\n",
       "      <td>...</td>\n",
       "      <td>...</td>\n",
       "      <td>...</td>\n",
       "    </tr>\n",
       "    <tr>\n",
       "      <th>s8803</th>\n",
       "      <td>Movie</td>\n",
       "      <td>Zodiac</td>\n",
       "      <td>David Fincher</td>\n",
       "      <td>Mark Ruffalo, Jake Gyllenhaal, Robert Downey J...</td>\n",
       "      <td>United States</td>\n",
       "      <td>November 20, 2019</td>\n",
       "      <td>2007</td>\n",
       "      <td>R</td>\n",
       "      <td>158 min</td>\n",
       "      <td>Cult Movies, Dramas, Thrillers</td>\n",
       "      <td>A political cartoonist, a crime reporter and a...</td>\n",
       "    </tr>\n",
       "    <tr>\n",
       "      <th>s8804</th>\n",
       "      <td>TV Show</td>\n",
       "      <td>Zombie Dumb</td>\n",
       "      <td>Unknown</td>\n",
       "      <td>Unknown</td>\n",
       "      <td>Unknown</td>\n",
       "      <td>July 1, 2019</td>\n",
       "      <td>2018</td>\n",
       "      <td>TV-Y7</td>\n",
       "      <td>2 Seasons</td>\n",
       "      <td>Kids' TV, Korean TV Shows, TV Comedies</td>\n",
       "      <td>While living alone in a spooky town, a young g...</td>\n",
       "    </tr>\n",
       "    <tr>\n",
       "      <th>s8805</th>\n",
       "      <td>Movie</td>\n",
       "      <td>Zombieland</td>\n",
       "      <td>Ruben Fleischer</td>\n",
       "      <td>Jesse Eisenberg, Woody Harrelson, Emma Stone, ...</td>\n",
       "      <td>United States</td>\n",
       "      <td>November 1, 2019</td>\n",
       "      <td>2009</td>\n",
       "      <td>R</td>\n",
       "      <td>88 min</td>\n",
       "      <td>Comedies, Horror Movies</td>\n",
       "      <td>Looking to survive in a world taken over by zo...</td>\n",
       "    </tr>\n",
       "    <tr>\n",
       "      <th>s8806</th>\n",
       "      <td>Movie</td>\n",
       "      <td>Zoom</td>\n",
       "      <td>Peter Hewitt</td>\n",
       "      <td>Tim Allen, Courteney Cox, Chevy Chase, Kate Ma...</td>\n",
       "      <td>United States</td>\n",
       "      <td>January 11, 2020</td>\n",
       "      <td>2006</td>\n",
       "      <td>PG</td>\n",
       "      <td>88 min</td>\n",
       "      <td>Children &amp; Family Movies, Comedies</td>\n",
       "      <td>Dragged from civilian life, a former superhero...</td>\n",
       "    </tr>\n",
       "    <tr>\n",
       "      <th>s8807</th>\n",
       "      <td>Movie</td>\n",
       "      <td>Zubaan</td>\n",
       "      <td>Mozez Singh</td>\n",
       "      <td>Vicky Kaushal, Sarah-Jane Dias, Raaghav Chanan...</td>\n",
       "      <td>India</td>\n",
       "      <td>March 2, 2019</td>\n",
       "      <td>2015</td>\n",
       "      <td>TV-14</td>\n",
       "      <td>111 min</td>\n",
       "      <td>Dramas, International Movies, Music &amp; Musicals</td>\n",
       "      <td>A scrappy but poor boy worms his way into a ty...</td>\n",
       "    </tr>\n",
       "  </tbody>\n",
       "</table>\n",
       "<p>8807 rows × 11 columns</p>\n",
       "</div>"
      ],
      "text/plain": [
       "            type                  title         director  \\\n",
       "show_id                                                    \n",
       "s1         Movie   Dick Johnson Is Dead  Kirsten Johnson   \n",
       "s2       TV Show          Blood & Water         Unknown    \n",
       "s3       TV Show              Ganglands  Julien Leclercq   \n",
       "s4       TV Show  Jailbirds New Orleans         Unknown    \n",
       "s5       TV Show           Kota Factory         Unknown    \n",
       "...          ...                    ...              ...   \n",
       "s8803      Movie                 Zodiac    David Fincher   \n",
       "s8804    TV Show            Zombie Dumb         Unknown    \n",
       "s8805      Movie             Zombieland  Ruben Fleischer   \n",
       "s8806      Movie                   Zoom     Peter Hewitt   \n",
       "s8807      Movie                 Zubaan      Mozez Singh   \n",
       "\n",
       "                                                      cast        country  \\\n",
       "show_id                                                                     \n",
       "s1                                                Unknown   United States   \n",
       "s2       Ama Qamata, Khosi Ngema, Gail Mabalane, Thaban...   South Africa   \n",
       "s3       Sami Bouajila, Tracy Gotoas, Samuel Jouy, Nabi...       Unknown    \n",
       "s4                                                Unknown        Unknown    \n",
       "s5       Mayur More, Jitendra Kumar, Ranjan Raj, Alam K...          India   \n",
       "...                                                    ...            ...   \n",
       "s8803    Mark Ruffalo, Jake Gyllenhaal, Robert Downey J...  United States   \n",
       "s8804                                             Unknown        Unknown    \n",
       "s8805    Jesse Eisenberg, Woody Harrelson, Emma Stone, ...  United States   \n",
       "s8806    Tim Allen, Courteney Cox, Chevy Chase, Kate Ma...  United States   \n",
       "s8807    Vicky Kaushal, Sarah-Jane Dias, Raaghav Chanan...          India   \n",
       "\n",
       "                 date_added  release_year rating   duration  \\\n",
       "show_id                                                       \n",
       "s1       September 25, 2021          2020  PG-13     90 min   \n",
       "s2       September 24, 2021          2021  TV-MA  2 Seasons   \n",
       "s3       September 24, 2021          2021  TV-MA   1 Season   \n",
       "s4       September 24, 2021          2021  TV-MA   1 Season   \n",
       "s5       September 24, 2021          2021  TV-MA  2 Seasons   \n",
       "...                     ...           ...    ...        ...   \n",
       "s8803     November 20, 2019          2007      R    158 min   \n",
       "s8804          July 1, 2019          2018  TV-Y7  2 Seasons   \n",
       "s8805      November 1, 2019          2009      R     88 min   \n",
       "s8806      January 11, 2020          2006     PG     88 min   \n",
       "s8807         March 2, 2019          2015  TV-14    111 min   \n",
       "\n",
       "                                                 listed_in  \\\n",
       "show_id                                                      \n",
       "s1                                           Documentaries   \n",
       "s2         International TV Shows, TV Dramas, TV Mysteries   \n",
       "s3       Crime TV Shows, International TV Shows, TV Act...   \n",
       "s4                                  Docuseries, Reality TV   \n",
       "s5       International TV Shows, Romantic TV Shows, TV ...   \n",
       "...                                                    ...   \n",
       "s8803                       Cult Movies, Dramas, Thrillers   \n",
       "s8804               Kids' TV, Korean TV Shows, TV Comedies   \n",
       "s8805                              Comedies, Horror Movies   \n",
       "s8806                   Children & Family Movies, Comedies   \n",
       "s8807       Dramas, International Movies, Music & Musicals   \n",
       "\n",
       "                                               description  \n",
       "show_id                                                     \n",
       "s1       As her father nears the end of his life, filmm...  \n",
       "s2       After crossing paths at a party, a Cape Town t...  \n",
       "s3       To protect his family from a powerful drug lor...  \n",
       "s4       Feuds, flirtations and toilet talk go down amo...  \n",
       "s5       In a city of coaching centers known to train I...  \n",
       "...                                                    ...  \n",
       "s8803    A political cartoonist, a crime reporter and a...  \n",
       "s8804    While living alone in a spooky town, a young g...  \n",
       "s8805    Looking to survive in a world taken over by zo...  \n",
       "s8806    Dragged from civilian life, a former superhero...  \n",
       "s8807    A scrappy but poor boy worms his way into a ty...  \n",
       "\n",
       "[8807 rows x 11 columns]"
      ]
     },
     "execution_count": 16,
     "metadata": {},
     "output_type": "execute_result"
    }
   ],
   "source": [
    "#replacing Null Values in these cols by\"Unkown\" val\n",
    "\n",
    "df[['director', 'cast', 'country']] = df[['director', 'cast', 'country']].replace(np.nan, \"Unknown \")\n",
    "df"
   ]
  },
  {
   "cell_type": "code",
   "execution_count": 17,
   "id": "602561c3",
   "metadata": {
    "execution": {
     "iopub.execute_input": "2024-01-18T13:44:41.363105Z",
     "iopub.status.busy": "2024-01-18T13:44:41.362417Z",
     "iopub.status.idle": "2024-01-18T13:44:41.385556Z",
     "shell.execute_reply": "2024-01-18T13:44:41.384025Z"
    },
    "papermill": {
     "duration": 0.047408,
     "end_time": "2024-01-18T13:44:41.388346",
     "exception": false,
     "start_time": "2024-01-18T13:44:41.340938",
     "status": "completed"
    },
    "tags": []
   },
   "outputs": [
    {
     "data": {
      "text/html": [
       "<div>\n",
       "<style scoped>\n",
       "    .dataframe tbody tr th:only-of-type {\n",
       "        vertical-align: middle;\n",
       "    }\n",
       "\n",
       "    .dataframe tbody tr th {\n",
       "        vertical-align: top;\n",
       "    }\n",
       "\n",
       "    .dataframe thead th {\n",
       "        text-align: right;\n",
       "    }\n",
       "</style>\n",
       "<table border=\"1\" class=\"dataframe\">\n",
       "  <thead>\n",
       "    <tr style=\"text-align: right;\">\n",
       "      <th></th>\n",
       "      <th>type</th>\n",
       "      <th>title</th>\n",
       "      <th>director</th>\n",
       "      <th>cast</th>\n",
       "      <th>country</th>\n",
       "      <th>date_added</th>\n",
       "      <th>release_year</th>\n",
       "      <th>rating</th>\n",
       "      <th>duration</th>\n",
       "      <th>listed_in</th>\n",
       "      <th>description</th>\n",
       "    </tr>\n",
       "    <tr>\n",
       "      <th>show_id</th>\n",
       "      <th></th>\n",
       "      <th></th>\n",
       "      <th></th>\n",
       "      <th></th>\n",
       "      <th></th>\n",
       "      <th></th>\n",
       "      <th></th>\n",
       "      <th></th>\n",
       "      <th></th>\n",
       "      <th></th>\n",
       "      <th></th>\n",
       "    </tr>\n",
       "  </thead>\n",
       "  <tbody>\n",
       "    <tr>\n",
       "      <th>s1</th>\n",
       "      <td>Movie</td>\n",
       "      <td>Dick Johnson Is Dead</td>\n",
       "      <td>Kirsten Johnson</td>\n",
       "      <td>Unknown</td>\n",
       "      <td>United States</td>\n",
       "      <td>September 25, 2021</td>\n",
       "      <td>2020</td>\n",
       "      <td>PG-13</td>\n",
       "      <td>90 min</td>\n",
       "      <td>Documentaries</td>\n",
       "      <td>As her father nears the end of his life, filmm...</td>\n",
       "    </tr>\n",
       "    <tr>\n",
       "      <th>s2</th>\n",
       "      <td>TV Show</td>\n",
       "      <td>Blood &amp; Water</td>\n",
       "      <td>Unknown</td>\n",
       "      <td>Ama Qamata, Khosi Ngema, Gail Mabalane, Thaban...</td>\n",
       "      <td>South Africa</td>\n",
       "      <td>September 24, 2021</td>\n",
       "      <td>2021</td>\n",
       "      <td>TV-MA</td>\n",
       "      <td>2 Seasons</td>\n",
       "      <td>International TV Shows, TV Dramas, TV Mysteries</td>\n",
       "      <td>After crossing paths at a party, a Cape Town t...</td>\n",
       "    </tr>\n",
       "    <tr>\n",
       "      <th>s3</th>\n",
       "      <td>TV Show</td>\n",
       "      <td>Ganglands</td>\n",
       "      <td>Julien Leclercq</td>\n",
       "      <td>Sami Bouajila, Tracy Gotoas, Samuel Jouy, Nabi...</td>\n",
       "      <td>Unknown</td>\n",
       "      <td>September 24, 2021</td>\n",
       "      <td>2021</td>\n",
       "      <td>TV-MA</td>\n",
       "      <td>1 Season</td>\n",
       "      <td>Crime TV Shows, International TV Shows, TV Act...</td>\n",
       "      <td>To protect his family from a powerful drug lor...</td>\n",
       "    </tr>\n",
       "    <tr>\n",
       "      <th>s4</th>\n",
       "      <td>TV Show</td>\n",
       "      <td>Jailbirds New Orleans</td>\n",
       "      <td>Unknown</td>\n",
       "      <td>Unknown</td>\n",
       "      <td>Unknown</td>\n",
       "      <td>September 24, 2021</td>\n",
       "      <td>2021</td>\n",
       "      <td>TV-MA</td>\n",
       "      <td>1 Season</td>\n",
       "      <td>Docuseries, Reality TV</td>\n",
       "      <td>Feuds, flirtations and toilet talk go down amo...</td>\n",
       "    </tr>\n",
       "    <tr>\n",
       "      <th>s5</th>\n",
       "      <td>TV Show</td>\n",
       "      <td>Kota Factory</td>\n",
       "      <td>Unknown</td>\n",
       "      <td>Mayur More, Jitendra Kumar, Ranjan Raj, Alam K...</td>\n",
       "      <td>India</td>\n",
       "      <td>September 24, 2021</td>\n",
       "      <td>2021</td>\n",
       "      <td>TV-MA</td>\n",
       "      <td>2 Seasons</td>\n",
       "      <td>International TV Shows, Romantic TV Shows, TV ...</td>\n",
       "      <td>In a city of coaching centers known to train I...</td>\n",
       "    </tr>\n",
       "    <tr>\n",
       "      <th>...</th>\n",
       "      <td>...</td>\n",
       "      <td>...</td>\n",
       "      <td>...</td>\n",
       "      <td>...</td>\n",
       "      <td>...</td>\n",
       "      <td>...</td>\n",
       "      <td>...</td>\n",
       "      <td>...</td>\n",
       "      <td>...</td>\n",
       "      <td>...</td>\n",
       "      <td>...</td>\n",
       "    </tr>\n",
       "    <tr>\n",
       "      <th>s8803</th>\n",
       "      <td>Movie</td>\n",
       "      <td>Zodiac</td>\n",
       "      <td>David Fincher</td>\n",
       "      <td>Mark Ruffalo, Jake Gyllenhaal, Robert Downey J...</td>\n",
       "      <td>United States</td>\n",
       "      <td>November 20, 2019</td>\n",
       "      <td>2007</td>\n",
       "      <td>R</td>\n",
       "      <td>158 min</td>\n",
       "      <td>Cult Movies, Dramas, Thrillers</td>\n",
       "      <td>A political cartoonist, a crime reporter and a...</td>\n",
       "    </tr>\n",
       "    <tr>\n",
       "      <th>s8804</th>\n",
       "      <td>TV Show</td>\n",
       "      <td>Zombie Dumb</td>\n",
       "      <td>Unknown</td>\n",
       "      <td>Unknown</td>\n",
       "      <td>Unknown</td>\n",
       "      <td>July 1, 2019</td>\n",
       "      <td>2018</td>\n",
       "      <td>TV-Y7</td>\n",
       "      <td>2 Seasons</td>\n",
       "      <td>Kids' TV, Korean TV Shows, TV Comedies</td>\n",
       "      <td>While living alone in a spooky town, a young g...</td>\n",
       "    </tr>\n",
       "    <tr>\n",
       "      <th>s8805</th>\n",
       "      <td>Movie</td>\n",
       "      <td>Zombieland</td>\n",
       "      <td>Ruben Fleischer</td>\n",
       "      <td>Jesse Eisenberg, Woody Harrelson, Emma Stone, ...</td>\n",
       "      <td>United States</td>\n",
       "      <td>November 1, 2019</td>\n",
       "      <td>2009</td>\n",
       "      <td>R</td>\n",
       "      <td>88 min</td>\n",
       "      <td>Comedies, Horror Movies</td>\n",
       "      <td>Looking to survive in a world taken over by zo...</td>\n",
       "    </tr>\n",
       "    <tr>\n",
       "      <th>s8806</th>\n",
       "      <td>Movie</td>\n",
       "      <td>Zoom</td>\n",
       "      <td>Peter Hewitt</td>\n",
       "      <td>Tim Allen, Courteney Cox, Chevy Chase, Kate Ma...</td>\n",
       "      <td>United States</td>\n",
       "      <td>January 11, 2020</td>\n",
       "      <td>2006</td>\n",
       "      <td>PG</td>\n",
       "      <td>88 min</td>\n",
       "      <td>Children &amp; Family Movies, Comedies</td>\n",
       "      <td>Dragged from civilian life, a former superhero...</td>\n",
       "    </tr>\n",
       "    <tr>\n",
       "      <th>s8807</th>\n",
       "      <td>Movie</td>\n",
       "      <td>Zubaan</td>\n",
       "      <td>Mozez Singh</td>\n",
       "      <td>Vicky Kaushal, Sarah-Jane Dias, Raaghav Chanan...</td>\n",
       "      <td>India</td>\n",
       "      <td>March 2, 2019</td>\n",
       "      <td>2015</td>\n",
       "      <td>TV-14</td>\n",
       "      <td>111 min</td>\n",
       "      <td>Dramas, International Movies, Music &amp; Musicals</td>\n",
       "      <td>A scrappy but poor boy worms his way into a ty...</td>\n",
       "    </tr>\n",
       "  </tbody>\n",
       "</table>\n",
       "<p>8790 rows × 11 columns</p>\n",
       "</div>"
      ],
      "text/plain": [
       "            type                  title         director  \\\n",
       "show_id                                                    \n",
       "s1         Movie   Dick Johnson Is Dead  Kirsten Johnson   \n",
       "s2       TV Show          Blood & Water         Unknown    \n",
       "s3       TV Show              Ganglands  Julien Leclercq   \n",
       "s4       TV Show  Jailbirds New Orleans         Unknown    \n",
       "s5       TV Show           Kota Factory         Unknown    \n",
       "...          ...                    ...              ...   \n",
       "s8803      Movie                 Zodiac    David Fincher   \n",
       "s8804    TV Show            Zombie Dumb         Unknown    \n",
       "s8805      Movie             Zombieland  Ruben Fleischer   \n",
       "s8806      Movie                   Zoom     Peter Hewitt   \n",
       "s8807      Movie                 Zubaan      Mozez Singh   \n",
       "\n",
       "                                                      cast        country  \\\n",
       "show_id                                                                     \n",
       "s1                                                Unknown   United States   \n",
       "s2       Ama Qamata, Khosi Ngema, Gail Mabalane, Thaban...   South Africa   \n",
       "s3       Sami Bouajila, Tracy Gotoas, Samuel Jouy, Nabi...       Unknown    \n",
       "s4                                                Unknown        Unknown    \n",
       "s5       Mayur More, Jitendra Kumar, Ranjan Raj, Alam K...          India   \n",
       "...                                                    ...            ...   \n",
       "s8803    Mark Ruffalo, Jake Gyllenhaal, Robert Downey J...  United States   \n",
       "s8804                                             Unknown        Unknown    \n",
       "s8805    Jesse Eisenberg, Woody Harrelson, Emma Stone, ...  United States   \n",
       "s8806    Tim Allen, Courteney Cox, Chevy Chase, Kate Ma...  United States   \n",
       "s8807    Vicky Kaushal, Sarah-Jane Dias, Raaghav Chanan...          India   \n",
       "\n",
       "                 date_added  release_year rating   duration  \\\n",
       "show_id                                                       \n",
       "s1       September 25, 2021          2020  PG-13     90 min   \n",
       "s2       September 24, 2021          2021  TV-MA  2 Seasons   \n",
       "s3       September 24, 2021          2021  TV-MA   1 Season   \n",
       "s4       September 24, 2021          2021  TV-MA   1 Season   \n",
       "s5       September 24, 2021          2021  TV-MA  2 Seasons   \n",
       "...                     ...           ...    ...        ...   \n",
       "s8803     November 20, 2019          2007      R    158 min   \n",
       "s8804          July 1, 2019          2018  TV-Y7  2 Seasons   \n",
       "s8805      November 1, 2019          2009      R     88 min   \n",
       "s8806      January 11, 2020          2006     PG     88 min   \n",
       "s8807         March 2, 2019          2015  TV-14    111 min   \n",
       "\n",
       "                                                 listed_in  \\\n",
       "show_id                                                      \n",
       "s1                                           Documentaries   \n",
       "s2         International TV Shows, TV Dramas, TV Mysteries   \n",
       "s3       Crime TV Shows, International TV Shows, TV Act...   \n",
       "s4                                  Docuseries, Reality TV   \n",
       "s5       International TV Shows, Romantic TV Shows, TV ...   \n",
       "...                                                    ...   \n",
       "s8803                       Cult Movies, Dramas, Thrillers   \n",
       "s8804               Kids' TV, Korean TV Shows, TV Comedies   \n",
       "s8805                              Comedies, Horror Movies   \n",
       "s8806                   Children & Family Movies, Comedies   \n",
       "s8807       Dramas, International Movies, Music & Musicals   \n",
       "\n",
       "                                               description  \n",
       "show_id                                                     \n",
       "s1       As her father nears the end of his life, filmm...  \n",
       "s2       After crossing paths at a party, a Cape Town t...  \n",
       "s3       To protect his family from a powerful drug lor...  \n",
       "s4       Feuds, flirtations and toilet talk go down amo...  \n",
       "s5       In a city of coaching centers known to train I...  \n",
       "...                                                    ...  \n",
       "s8803    A political cartoonist, a crime reporter and a...  \n",
       "s8804    While living alone in a spooky town, a young g...  \n",
       "s8805    Looking to survive in a world taken over by zo...  \n",
       "s8806    Dragged from civilian life, a former superhero...  \n",
       "s8807    A scrappy but poor boy worms his way into a ty...  \n",
       "\n",
       "[8790 rows x 11 columns]"
      ]
     },
     "execution_count": 17,
     "metadata": {},
     "output_type": "execute_result"
    }
   ],
   "source": [
    "#drop rows that contain \"rating\" or \"duration\" or \"date_added\" Null Value\n",
    "df.dropna(subset=['rating','duration','date_added'],inplace =True) \n",
    "df"
   ]
  },
  {
   "cell_type": "code",
   "execution_count": 18,
   "id": "b8202c9b",
   "metadata": {
    "execution": {
     "iopub.execute_input": "2024-01-18T13:44:41.433832Z",
     "iopub.status.busy": "2024-01-18T13:44:41.432858Z",
     "iopub.status.idle": "2024-01-18T13:44:41.450667Z",
     "shell.execute_reply": "2024-01-18T13:44:41.448293Z"
    },
    "papermill": {
     "duration": 0.044107,
     "end_time": "2024-01-18T13:44:41.454162",
     "exception": false,
     "start_time": "2024-01-18T13:44:41.410055",
     "status": "completed"
    },
    "tags": []
   },
   "outputs": [
    {
     "data": {
      "text/plain": [
       "type            0\n",
       "title           0\n",
       "director        0\n",
       "cast            0\n",
       "country         0\n",
       "date_added      0\n",
       "release_year    0\n",
       "rating          0\n",
       "duration        0\n",
       "listed_in       0\n",
       "description     0\n",
       "dtype: int64"
      ]
     },
     "execution_count": 18,
     "metadata": {},
     "output_type": "execute_result"
    }
   ],
   "source": [
    "df.isnull().sum() #Done✅✅"
   ]
  },
  {
   "cell_type": "markdown",
   "id": "97a80ed8",
   "metadata": {
    "papermill": {
     "duration": 0.02292,
     "end_time": "2024-01-18T13:44:41.499888",
     "exception": false,
     "start_time": "2024-01-18T13:44:41.476968",
     "status": "completed"
    },
    "tags": []
   },
   "source": [
    "<h6> Now Data does not contain any Null Values"
   ]
  },
  {
   "cell_type": "markdown",
   "id": "1bbb5a4d",
   "metadata": {
    "papermill": {
     "duration": 0.02378,
     "end_time": "2024-01-18T13:44:41.559004",
     "exception": false,
     "start_time": "2024-01-18T13:44:41.535224",
     "status": "completed"
    },
    "tags": []
   },
   "source": [
    "<h3>COL \"date_added\""
   ]
  },
  {
   "cell_type": "code",
   "execution_count": 19,
   "id": "8a198181",
   "metadata": {
    "execution": {
     "iopub.execute_input": "2024-01-18T13:44:41.605217Z",
     "iopub.status.busy": "2024-01-18T13:44:41.604471Z",
     "iopub.status.idle": "2024-01-18T13:44:41.613149Z",
     "shell.execute_reply": "2024-01-18T13:44:41.611211Z"
    },
    "papermill": {
     "duration": 0.035254,
     "end_time": "2024-01-18T13:44:41.615822",
     "exception": false,
     "start_time": "2024-01-18T13:44:41.580568",
     "status": "completed"
    },
    "tags": []
   },
   "outputs": [
    {
     "data": {
      "text/plain": [
       "dtype('O')"
      ]
     },
     "execution_count": 19,
     "metadata": {},
     "output_type": "execute_result"
    }
   ],
   "source": [
    "df[ 'date_added'].dtype "
   ]
  },
  {
   "cell_type": "code",
   "execution_count": 20,
   "id": "a4367a00",
   "metadata": {
    "execution": {
     "iopub.execute_input": "2024-01-18T13:44:41.662359Z",
     "iopub.status.busy": "2024-01-18T13:44:41.661589Z",
     "iopub.status.idle": "2024-01-18T13:44:45.508715Z",
     "shell.execute_reply": "2024-01-18T13:44:45.507280Z"
    },
    "papermill": {
     "duration": 3.87178,
     "end_time": "2024-01-18T13:44:45.510826",
     "exception": false,
     "start_time": "2024-01-18T13:44:41.639046",
     "status": "completed"
    },
    "tags": []
   },
   "outputs": [
    {
     "data": {
      "text/plain": [
       "dtype('<M8[ns]')"
      ]
     },
     "execution_count": 20,
     "metadata": {},
     "output_type": "execute_result"
    }
   ],
   "source": [
    "#convert its Data Type from \"object\" to \"Date\"\n",
    "df[ 'date_added']= df['date_added'].apply(pd.to_datetime)\n",
    "df[ 'date_added'].dtype "
   ]
  },
  {
   "cell_type": "code",
   "execution_count": 21,
   "id": "28e85b4e",
   "metadata": {
    "execution": {
     "iopub.execute_input": "2024-01-18T13:44:45.550422Z",
     "iopub.status.busy": "2024-01-18T13:44:45.550002Z",
     "iopub.status.idle": "2024-01-18T13:44:45.562921Z",
     "shell.execute_reply": "2024-01-18T13:44:45.561712Z"
    },
    "papermill": {
     "duration": 0.036351,
     "end_time": "2024-01-18T13:44:45.565980",
     "exception": false,
     "start_time": "2024-01-18T13:44:45.529629",
     "status": "completed"
    },
    "tags": []
   },
   "outputs": [
    {
     "data": {
      "text/plain": [
       "show_id\n",
       "s1       2021\n",
       "s2       2021\n",
       "s3       2021\n",
       "s4       2021\n",
       "s5       2021\n",
       "         ... \n",
       "s8803    2019\n",
       "s8804    2019\n",
       "s8805    2019\n",
       "s8806    2020\n",
       "s8807    2019\n",
       "Name: loading_Year, Length: 8790, dtype: int32"
      ]
     },
     "execution_count": 21,
     "metadata": {},
     "output_type": "execute_result"
    }
   ],
   "source": [
    "#splilting Year from date_added col\n",
    "df['loading_Year'] = df ['date_added'].dt.year\n",
    "df['loading_Year'] "
   ]
  },
  {
   "cell_type": "code",
   "execution_count": 22,
   "id": "4453a542",
   "metadata": {
    "execution": {
     "iopub.execute_input": "2024-01-18T13:44:45.614733Z",
     "iopub.status.busy": "2024-01-18T13:44:45.614304Z",
     "iopub.status.idle": "2024-01-18T13:44:45.628113Z",
     "shell.execute_reply": "2024-01-18T13:44:45.626899Z"
    },
    "papermill": {
     "duration": 0.041624,
     "end_time": "2024-01-18T13:44:45.631276",
     "exception": false,
     "start_time": "2024-01-18T13:44:45.589652",
     "status": "completed"
    },
    "tags": []
   },
   "outputs": [
    {
     "data": {
      "text/plain": [
       "show_id\n",
       "s1       September\n",
       "s2       September\n",
       "s3       September\n",
       "s4       September\n",
       "s5       September\n",
       "           ...    \n",
       "s8803     November\n",
       "s8804         July\n",
       "s8805     November\n",
       "s8806      January\n",
       "s8807        March\n",
       "Name: loading_Month, Length: 8790, dtype: object"
      ]
     },
     "execution_count": 22,
     "metadata": {},
     "output_type": "execute_result"
    }
   ],
   "source": [
    "#splilting month from date_added col and covert val to Month name\n",
    "df['loading_Month']= df ['date_added'].dt.month_name()\n",
    "df['loading_Month']"
   ]
  },
  {
   "cell_type": "code",
   "execution_count": 23,
   "id": "b2139db5",
   "metadata": {
    "execution": {
     "iopub.execute_input": "2024-01-18T13:44:45.676394Z",
     "iopub.status.busy": "2024-01-18T13:44:45.675973Z",
     "iopub.status.idle": "2024-01-18T13:44:45.689337Z",
     "shell.execute_reply": "2024-01-18T13:44:45.687680Z"
    },
    "papermill": {
     "duration": 0.039293,
     "end_time": "2024-01-18T13:44:45.692201",
     "exception": false,
     "start_time": "2024-01-18T13:44:45.652908",
     "status": "completed"
    },
    "tags": []
   },
   "outputs": [],
   "source": [
    "#Now we can drop \"date_added\" col\n",
    "df.drop(\"date_added\",axis=1,inplace=True)"
   ]
  },
  {
   "cell_type": "code",
   "execution_count": 24,
   "id": "9a8b1787",
   "metadata": {
    "execution": {
     "iopub.execute_input": "2024-01-18T13:44:45.741552Z",
     "iopub.status.busy": "2024-01-18T13:44:45.741056Z",
     "iopub.status.idle": "2024-01-18T13:44:45.766095Z",
     "shell.execute_reply": "2024-01-18T13:44:45.764946Z"
    },
    "papermill": {
     "duration": 0.053306,
     "end_time": "2024-01-18T13:44:45.768496",
     "exception": false,
     "start_time": "2024-01-18T13:44:45.715190",
     "status": "completed"
    },
    "tags": []
   },
   "outputs": [
    {
     "data": {
      "text/html": [
       "<div>\n",
       "<style scoped>\n",
       "    .dataframe tbody tr th:only-of-type {\n",
       "        vertical-align: middle;\n",
       "    }\n",
       "\n",
       "    .dataframe tbody tr th {\n",
       "        vertical-align: top;\n",
       "    }\n",
       "\n",
       "    .dataframe thead th {\n",
       "        text-align: right;\n",
       "    }\n",
       "</style>\n",
       "<table border=\"1\" class=\"dataframe\">\n",
       "  <thead>\n",
       "    <tr style=\"text-align: right;\">\n",
       "      <th></th>\n",
       "      <th>release_year</th>\n",
       "      <th>loading_Year</th>\n",
       "    </tr>\n",
       "  </thead>\n",
       "  <tbody>\n",
       "    <tr>\n",
       "      <th>count</th>\n",
       "      <td>8790.000000</td>\n",
       "      <td>8790.000000</td>\n",
       "    </tr>\n",
       "    <tr>\n",
       "      <th>mean</th>\n",
       "      <td>2014.183163</td>\n",
       "      <td>2018.873606</td>\n",
       "    </tr>\n",
       "    <tr>\n",
       "      <th>std</th>\n",
       "      <td>8.825466</td>\n",
       "      <td>1.573568</td>\n",
       "    </tr>\n",
       "    <tr>\n",
       "      <th>min</th>\n",
       "      <td>1925.000000</td>\n",
       "      <td>2008.000000</td>\n",
       "    </tr>\n",
       "    <tr>\n",
       "      <th>25%</th>\n",
       "      <td>2013.000000</td>\n",
       "      <td>2018.000000</td>\n",
       "    </tr>\n",
       "    <tr>\n",
       "      <th>50%</th>\n",
       "      <td>2017.000000</td>\n",
       "      <td>2019.000000</td>\n",
       "    </tr>\n",
       "    <tr>\n",
       "      <th>75%</th>\n",
       "      <td>2019.000000</td>\n",
       "      <td>2020.000000</td>\n",
       "    </tr>\n",
       "    <tr>\n",
       "      <th>max</th>\n",
       "      <td>2021.000000</td>\n",
       "      <td>2021.000000</td>\n",
       "    </tr>\n",
       "  </tbody>\n",
       "</table>\n",
       "</div>"
      ],
      "text/plain": [
       "       release_year  loading_Year\n",
       "count   8790.000000   8790.000000\n",
       "mean    2014.183163   2018.873606\n",
       "std        8.825466      1.573568\n",
       "min     1925.000000   2008.000000\n",
       "25%     2013.000000   2018.000000\n",
       "50%     2017.000000   2019.000000\n",
       "75%     2019.000000   2020.000000\n",
       "max     2021.000000   2021.000000"
      ]
     },
     "execution_count": 24,
     "metadata": {},
     "output_type": "execute_result"
    }
   ],
   "source": [
    "#Checking statistics of columns for the int data type\n",
    "df.describe(include=['int'])"
   ]
  },
  {
   "cell_type": "markdown",
   "id": "38c0c619",
   "metadata": {
    "execution": {
     "iopub.execute_input": "2024-01-07T15:51:17.477004Z",
     "iopub.status.busy": "2024-01-07T15:51:17.476611Z",
     "iopub.status.idle": "2024-01-07T15:51:17.484371Z",
     "shell.execute_reply": "2024-01-07T15:51:17.482737Z",
     "shell.execute_reply.started": "2024-01-07T15:51:17.476973Z"
    },
    "papermill": {
     "duration": 0.024471,
     "end_time": "2024-01-18T13:44:45.814981",
     "exception": false,
     "start_time": "2024-01-18T13:44:45.790510",
     "status": "completed"
    },
    "tags": []
   },
   "source": [
    "<h3>Split duration col "
   ]
  },
  {
   "cell_type": "code",
   "execution_count": 25,
   "id": "73014f2f",
   "metadata": {
    "execution": {
     "iopub.execute_input": "2024-01-18T13:44:45.857312Z",
     "iopub.status.busy": "2024-01-18T13:44:45.855784Z",
     "iopub.status.idle": "2024-01-18T13:44:45.867818Z",
     "shell.execute_reply": "2024-01-18T13:44:45.866440Z"
    },
    "papermill": {
     "duration": 0.035354,
     "end_time": "2024-01-18T13:44:45.869977",
     "exception": false,
     "start_time": "2024-01-18T13:44:45.834623",
     "status": "completed"
    },
    "tags": []
   },
   "outputs": [
    {
     "data": {
      "text/plain": [
       "array(['90 min', '2 Seasons', '1 Season', '91 min', '125 min',\n",
       "       '9 Seasons', '104 min', '127 min', '4 Seasons', '67 min', '94 min',\n",
       "       '5 Seasons', '161 min', '61 min', '166 min', '147 min', '103 min',\n",
       "       '97 min', '106 min', '111 min', '3 Seasons', '110 min', '105 min',\n",
       "       '96 min', '124 min', '116 min', '98 min', '23 min', '115 min',\n",
       "       '122 min', '99 min', '88 min', '100 min', '6 Seasons', '102 min',\n",
       "       '93 min', '95 min', '85 min', '83 min', '113 min', '13 min',\n",
       "       '182 min', '48 min', '145 min', '87 min', '92 min', '80 min',\n",
       "       '117 min', '128 min', '119 min', '143 min', '114 min', '118 min',\n",
       "       '108 min', '63 min', '121 min', '142 min', '154 min', '120 min',\n",
       "       '82 min', '109 min', '101 min', '86 min', '229 min', '76 min',\n",
       "       '89 min', '156 min', '112 min', '107 min', '129 min', '135 min',\n",
       "       '136 min', '165 min', '150 min', '133 min', '70 min', '84 min',\n",
       "       '140 min', '78 min', '7 Seasons', '64 min', '59 min', '139 min',\n",
       "       '69 min', '148 min', '189 min', '141 min', '130 min', '138 min',\n",
       "       '81 min', '132 min', '10 Seasons', '123 min', '65 min', '68 min',\n",
       "       '66 min', '62 min', '74 min', '131 min', '39 min', '46 min',\n",
       "       '38 min', '8 Seasons', '17 Seasons', '126 min', '155 min',\n",
       "       '159 min', '137 min', '12 min', '273 min', '36 min', '34 min',\n",
       "       '77 min', '60 min', '49 min', '58 min', '72 min', '204 min',\n",
       "       '212 min', '25 min', '73 min', '29 min', '47 min', '32 min',\n",
       "       '35 min', '71 min', '149 min', '33 min', '15 min', '54 min',\n",
       "       '224 min', '162 min', '37 min', '75 min', '79 min', '55 min',\n",
       "       '158 min', '164 min', '173 min', '181 min', '185 min', '21 min',\n",
       "       '24 min', '51 min', '151 min', '42 min', '22 min', '134 min',\n",
       "       '177 min', '13 Seasons', '52 min', '14 min', '53 min', '8 min',\n",
       "       '57 min', '28 min', '50 min', '9 min', '26 min', '45 min',\n",
       "       '171 min', '27 min', '44 min', '146 min', '20 min', '157 min',\n",
       "       '17 min', '203 min', '41 min', '30 min', '194 min', '15 Seasons',\n",
       "       '233 min', '237 min', '230 min', '195 min', '253 min', '152 min',\n",
       "       '190 min', '160 min', '208 min', '180 min', '144 min', '5 min',\n",
       "       '174 min', '170 min', '192 min', '209 min', '187 min', '172 min',\n",
       "       '16 min', '186 min', '11 min', '193 min', '176 min', '56 min',\n",
       "       '169 min', '40 min', '10 min', '3 min', '168 min', '312 min',\n",
       "       '153 min', '214 min', '31 min', '163 min', '19 min', '12 Seasons',\n",
       "       '179 min', '11 Seasons', '43 min', '200 min', '196 min', '167 min',\n",
       "       '178 min', '228 min', '18 min', '205 min', '201 min', '191 min'],\n",
       "      dtype=object)"
      ]
     },
     "execution_count": 25,
     "metadata": {},
     "output_type": "execute_result"
    }
   ],
   "source": [
    "df['duration'].unique()"
   ]
  },
  {
   "cell_type": "code",
   "execution_count": 26,
   "id": "a6126f0b",
   "metadata": {
    "execution": {
     "iopub.execute_input": "2024-01-18T13:44:45.913982Z",
     "iopub.status.busy": "2024-01-18T13:44:45.913531Z",
     "iopub.status.idle": "2024-01-18T13:44:45.938458Z",
     "shell.execute_reply": "2024-01-18T13:44:45.937270Z"
    },
    "papermill": {
     "duration": 0.04887,
     "end_time": "2024-01-18T13:44:45.940800",
     "exception": false,
     "start_time": "2024-01-18T13:44:45.891930",
     "status": "completed"
    },
    "tags": []
   },
   "outputs": [],
   "source": [
    "df[['Minutes','Units']]=df['duration'].str.split(' ',expand=True)"
   ]
  },
  {
   "cell_type": "code",
   "execution_count": 27,
   "id": "d1303868",
   "metadata": {
    "execution": {
     "iopub.execute_input": "2024-01-18T13:44:45.994328Z",
     "iopub.status.busy": "2024-01-18T13:44:45.992885Z",
     "iopub.status.idle": "2024-01-18T13:44:46.020163Z",
     "shell.execute_reply": "2024-01-18T13:44:46.019251Z"
    },
    "papermill": {
     "duration": 0.057116,
     "end_time": "2024-01-18T13:44:46.023140",
     "exception": false,
     "start_time": "2024-01-18T13:44:45.966024",
     "status": "completed"
    },
    "tags": []
   },
   "outputs": [
    {
     "data": {
      "text/plain": [
       "show_id\n",
       "s1        90\n",
       "s2         2\n",
       "s3         1\n",
       "s4         1\n",
       "s5         2\n",
       "        ... \n",
       "s8803    158\n",
       "s8804      2\n",
       "s8805     88\n",
       "s8806     88\n",
       "s8807    111\n",
       "Name: Minutes, Length: 8790, dtype: int64"
      ]
     },
     "execution_count": 27,
     "metadata": {},
     "output_type": "execute_result"
    }
   ],
   "source": [
    "#Spliting\n",
    "df[['Minutes','Units']]=df['duration'].str.split(' ',expand=True)\n",
    "#convert type\n",
    "df['Minutes'].astype(int)"
   ]
  },
  {
   "cell_type": "markdown",
   "id": "e7bdb98b",
   "metadata": {
    "papermill": {
     "duration": 0.025971,
     "end_time": "2024-01-18T13:44:46.071610",
     "exception": false,
     "start_time": "2024-01-18T13:44:46.045639",
     "status": "completed"
    },
    "tags": []
   },
   "source": [
    "# Cleaning Done✅✅\n",
    "# It is time to  make a deep Exploratoration with some Visalizations📊📈📉"
   ]
  },
  {
   "cell_type": "code",
   "execution_count": 28,
   "id": "968e49f6",
   "metadata": {
    "execution": {
     "iopub.execute_input": "2024-01-18T13:44:46.124492Z",
     "iopub.status.busy": "2024-01-18T13:44:46.123708Z",
     "iopub.status.idle": "2024-01-18T13:44:46.136215Z",
     "shell.execute_reply": "2024-01-18T13:44:46.135313Z"
    },
    "papermill": {
     "duration": 0.038314,
     "end_time": "2024-01-18T13:44:46.138438",
     "exception": false,
     "start_time": "2024-01-18T13:44:46.100124",
     "status": "completed"
    },
    "tags": []
   },
   "outputs": [
    {
     "data": {
      "text/html": [
       "<div>\n",
       "<style scoped>\n",
       "    .dataframe tbody tr th:only-of-type {\n",
       "        vertical-align: middle;\n",
       "    }\n",
       "\n",
       "    .dataframe tbody tr th {\n",
       "        vertical-align: top;\n",
       "    }\n",
       "\n",
       "    .dataframe thead th {\n",
       "        text-align: right;\n",
       "    }\n",
       "</style>\n",
       "<table border=\"1\" class=\"dataframe\">\n",
       "  <thead>\n",
       "    <tr style=\"text-align: right;\">\n",
       "      <th></th>\n",
       "      <th>loading_Year</th>\n",
       "      <th>release_year</th>\n",
       "    </tr>\n",
       "    <tr>\n",
       "      <th>show_id</th>\n",
       "      <th></th>\n",
       "      <th></th>\n",
       "    </tr>\n",
       "  </thead>\n",
       "  <tbody>\n",
       "    <tr>\n",
       "      <th>s1</th>\n",
       "      <td>2021</td>\n",
       "      <td>2020</td>\n",
       "    </tr>\n",
       "    <tr>\n",
       "      <th>s2</th>\n",
       "      <td>2021</td>\n",
       "      <td>2021</td>\n",
       "    </tr>\n",
       "    <tr>\n",
       "      <th>s3</th>\n",
       "      <td>2021</td>\n",
       "      <td>2021</td>\n",
       "    </tr>\n",
       "    <tr>\n",
       "      <th>s4</th>\n",
       "      <td>2021</td>\n",
       "      <td>2021</td>\n",
       "    </tr>\n",
       "    <tr>\n",
       "      <th>s5</th>\n",
       "      <td>2021</td>\n",
       "      <td>2021</td>\n",
       "    </tr>\n",
       "    <tr>\n",
       "      <th>...</th>\n",
       "      <td>...</td>\n",
       "      <td>...</td>\n",
       "    </tr>\n",
       "    <tr>\n",
       "      <th>s8803</th>\n",
       "      <td>2019</td>\n",
       "      <td>2007</td>\n",
       "    </tr>\n",
       "    <tr>\n",
       "      <th>s8804</th>\n",
       "      <td>2019</td>\n",
       "      <td>2018</td>\n",
       "    </tr>\n",
       "    <tr>\n",
       "      <th>s8805</th>\n",
       "      <td>2019</td>\n",
       "      <td>2009</td>\n",
       "    </tr>\n",
       "    <tr>\n",
       "      <th>s8806</th>\n",
       "      <td>2020</td>\n",
       "      <td>2006</td>\n",
       "    </tr>\n",
       "    <tr>\n",
       "      <th>s8807</th>\n",
       "      <td>2019</td>\n",
       "      <td>2015</td>\n",
       "    </tr>\n",
       "  </tbody>\n",
       "</table>\n",
       "<p>8790 rows × 2 columns</p>\n",
       "</div>"
      ],
      "text/plain": [
       "         loading_Year  release_year\n",
       "show_id                            \n",
       "s1               2021          2020\n",
       "s2               2021          2021\n",
       "s3               2021          2021\n",
       "s4               2021          2021\n",
       "s5               2021          2021\n",
       "...               ...           ...\n",
       "s8803            2019          2007\n",
       "s8804            2019          2018\n",
       "s8805            2019          2009\n",
       "s8806            2020          2006\n",
       "s8807            2019          2015\n",
       "\n",
       "[8790 rows x 2 columns]"
      ]
     },
     "execution_count": 28,
     "metadata": {},
     "output_type": "execute_result"
    }
   ],
   "source": [
    "df_temp=df[['loading_Year','release_year']]\n",
    "df_temp"
   ]
  },
  {
   "cell_type": "code",
   "execution_count": 29,
   "id": "58204da7",
   "metadata": {
    "execution": {
     "iopub.execute_input": "2024-01-18T13:44:46.182993Z",
     "iopub.status.busy": "2024-01-18T13:44:46.182180Z",
     "iopub.status.idle": "2024-01-18T13:44:46.461016Z",
     "shell.execute_reply": "2024-01-18T13:44:46.458418Z"
    },
    "papermill": {
     "duration": 0.304669,
     "end_time": "2024-01-18T13:44:46.464487",
     "exception": false,
     "start_time": "2024-01-18T13:44:46.159818",
     "status": "completed"
    },
    "tags": []
   },
   "outputs": [
    {
     "data": {
      "image/png": "[encoded data removed]",
      "text/plain": [
       "<Figure size 1000x600 with 2 Axes>"
      ]
     },
     "metadata": {},
     "output_type": "display_data"
    }
   ],
   "source": [
    "plt.figure(figsize=(10, 6))\n",
    "sns.heatmap(df_temp.corr(), annot=True) ##visualizing relationships or patterns in a dataset\n",
    "plt.show()"
   ]
  },
  {
   "cell_type": "markdown",
   "id": "6c9bd498",
   "metadata": {
    "papermill": {
     "duration": 0.022156,
     "end_time": "2024-01-18T13:44:46.508342",
     "exception": false,
     "start_time": "2024-01-18T13:44:46.486186",
     "status": "completed"
    },
    "tags": []
   },
   "source": [
    "<h3>no of Movies & TV shows that loaded for each Year"
   ]
  },
  {
   "cell_type": "code",
   "execution_count": 30,
   "id": "4f909a5d",
   "metadata": {
    "execution": {
     "iopub.execute_input": "2024-01-18T13:44:46.552449Z",
     "iopub.status.busy": "2024-01-18T13:44:46.551973Z",
     "iopub.status.idle": "2024-01-18T13:44:46.566484Z",
     "shell.execute_reply": "2024-01-18T13:44:46.565154Z"
    },
    "papermill": {
     "duration": 0.039761,
     "end_time": "2024-01-18T13:44:46.569256",
     "exception": false,
     "start_time": "2024-01-18T13:44:46.529495",
     "status": "completed"
    },
    "tags": []
   },
   "outputs": [
    {
     "data": {
      "text/html": [
       "<div>\n",
       "<style scoped>\n",
       "    .dataframe tbody tr th:only-of-type {\n",
       "        vertical-align: middle;\n",
       "    }\n",
       "\n",
       "    .dataframe tbody tr th {\n",
       "        vertical-align: top;\n",
       "    }\n",
       "\n",
       "    .dataframe thead th {\n",
       "        text-align: right;\n",
       "    }\n",
       "</style>\n",
       "<table border=\"1\" class=\"dataframe\">\n",
       "  <thead>\n",
       "    <tr style=\"text-align: right;\">\n",
       "      <th></th>\n",
       "      <th>loading_Year</th>\n",
       "      <th>count</th>\n",
       "    </tr>\n",
       "  </thead>\n",
       "  <tbody>\n",
       "    <tr>\n",
       "      <th>0</th>\n",
       "      <td>2019</td>\n",
       "      <td>2016</td>\n",
       "    </tr>\n",
       "    <tr>\n",
       "      <th>1</th>\n",
       "      <td>2020</td>\n",
       "      <td>1879</td>\n",
       "    </tr>\n",
       "    <tr>\n",
       "      <th>2</th>\n",
       "      <td>2018</td>\n",
       "      <td>1648</td>\n",
       "    </tr>\n",
       "    <tr>\n",
       "      <th>3</th>\n",
       "      <td>2021</td>\n",
       "      <td>1498</td>\n",
       "    </tr>\n",
       "    <tr>\n",
       "      <th>4</th>\n",
       "      <td>2017</td>\n",
       "      <td>1185</td>\n",
       "    </tr>\n",
       "    <tr>\n",
       "      <th>5</th>\n",
       "      <td>2016</td>\n",
       "      <td>426</td>\n",
       "    </tr>\n",
       "    <tr>\n",
       "      <th>6</th>\n",
       "      <td>2015</td>\n",
       "      <td>82</td>\n",
       "    </tr>\n",
       "    <tr>\n",
       "      <th>7</th>\n",
       "      <td>2014</td>\n",
       "      <td>24</td>\n",
       "    </tr>\n",
       "    <tr>\n",
       "      <th>8</th>\n",
       "      <td>2011</td>\n",
       "      <td>13</td>\n",
       "    </tr>\n",
       "    <tr>\n",
       "      <th>9</th>\n",
       "      <td>2013</td>\n",
       "      <td>11</td>\n",
       "    </tr>\n",
       "    <tr>\n",
       "      <th>10</th>\n",
       "      <td>2012</td>\n",
       "      <td>3</td>\n",
       "    </tr>\n",
       "    <tr>\n",
       "      <th>11</th>\n",
       "      <td>2009</td>\n",
       "      <td>2</td>\n",
       "    </tr>\n",
       "    <tr>\n",
       "      <th>12</th>\n",
       "      <td>2008</td>\n",
       "      <td>2</td>\n",
       "    </tr>\n",
       "    <tr>\n",
       "      <th>13</th>\n",
       "      <td>2010</td>\n",
       "      <td>1</td>\n",
       "    </tr>\n",
       "  </tbody>\n",
       "</table>\n",
       "</div>"
      ],
      "text/plain": [
       "    loading_Year  count\n",
       "0           2019   2016\n",
       "1           2020   1879\n",
       "2           2018   1648\n",
       "3           2021   1498\n",
       "4           2017   1185\n",
       "5           2016    426\n",
       "6           2015     82\n",
       "7           2014     24\n",
       "8           2011     13\n",
       "9           2013     11\n",
       "10          2012      3\n",
       "11          2009      2\n",
       "12          2008      2\n",
       "13          2010      1"
      ]
     },
     "execution_count": 30,
     "metadata": {},
     "output_type": "execute_result"
    }
   ],
   "source": [
    "df['loading_Year'].value_counts().reset_index(name='count')"
   ]
  },
  {
   "cell_type": "code",
   "execution_count": 31,
   "id": "5a1cd4f9",
   "metadata": {
    "execution": {
     "iopub.execute_input": "2024-01-18T13:44:46.613648Z",
     "iopub.status.busy": "2024-01-18T13:44:46.612901Z",
     "iopub.status.idle": "2024-01-18T13:44:47.018497Z",
     "shell.execute_reply": "2024-01-18T13:44:47.017101Z"
    },
    "papermill": {
     "duration": 0.43125,
     "end_time": "2024-01-18T13:44:47.020844",
     "exception": false,
     "start_time": "2024-01-18T13:44:46.589594",
     "status": "completed"
    },
    "tags": []
   },
   "outputs": [
    {
     "data": {
      "image/png": "[encoded data removed]",
      "text/plain": [
       "<Figure size 1000x600 with 1 Axes>"
      ]
     },
     "metadata": {},
     "output_type": "display_data"
    }
   ],
   "source": [
    "plt.figure(figsize=(10, 6))\n",
    "sns.histplot(data=df, x='loading_Year', bins=20, kde=True, color='skyblue')\n",
    "plt.title('Distribution of Loading Years')\n",
    "plt.xlabel('Loading Year')\n",
    "plt.ylabel('Frequency')\n",
    "plt.show()"
   ]
  },
  {
   "cell_type": "code",
   "execution_count": 32,
   "id": "7f27c594",
   "metadata": {
    "execution": {
     "iopub.execute_input": "2024-01-18T13:44:47.073763Z",
     "iopub.status.busy": "2024-01-18T13:44:47.073188Z",
     "iopub.status.idle": "2024-01-18T13:44:47.741195Z",
     "shell.execute_reply": "2024-01-18T13:44:47.737848Z"
    },
    "papermill": {
     "duration": 0.699596,
     "end_time": "2024-01-18T13:44:47.745866",
     "exception": false,
     "start_time": "2024-01-18T13:44:47.046270",
     "status": "completed"
    },
    "tags": []
   },
   "outputs": [
    {
     "data": {
      "image/png": "[encoded data removed]",
      "text/plain": [
       "<Figure size 1000x600 with 1 Axes>"
      ]
     },
     "metadata": {},
     "output_type": "display_data"
    }
   ],
   "source": [
    "df_temp=df['release_year'].sort_values().head(150)\n",
    "sns.set(style=\"whitegrid\")\n",
    "plt.figure(figsize=(10, 6))\n",
    "sns.countplot(x=df_temp, palette='viridis')\n",
    "plt.xlabel('Loading Year')\n",
    "plt.ylabel('Count')\n",
    "plt.title('Distribution of Relaese Years')\n",
    "plt.xticks(rotation=90)  # Rotate x-axis labels f\n",
    "\n",
    "plt.show()\n"
   ]
  },
  {
   "cell_type": "markdown",
   "id": "b2641c0d",
   "metadata": {
    "papermill": {
     "duration": 0.025287,
     "end_time": "2024-01-18T13:44:47.795608",
     "exception": false,
     "start_time": "2024-01-18T13:44:47.770321",
     "status": "completed"
    },
    "tags": []
   },
   "source": [
    "<h3>How many Movies & TV Shows are in the dataset?"
   ]
  },
  {
   "cell_type": "code",
   "execution_count": 33,
   "id": "0121cffe",
   "metadata": {
    "execution": {
     "iopub.execute_input": "2024-01-18T13:44:47.849092Z",
     "iopub.status.busy": "2024-01-18T13:44:47.847859Z",
     "iopub.status.idle": "2024-01-18T13:44:47.861828Z",
     "shell.execute_reply": "2024-01-18T13:44:47.859666Z"
    },
    "papermill": {
     "duration": 0.046809,
     "end_time": "2024-01-18T13:44:47.864780",
     "exception": false,
     "start_time": "2024-01-18T13:44:47.817971",
     "status": "completed"
    },
    "tags": []
   },
   "outputs": [
    {
     "data": {
      "text/plain": [
       "array(['Movie', 'TV Show'], dtype=object)"
      ]
     },
     "execution_count": 33,
     "metadata": {},
     "output_type": "execute_result"
    }
   ],
   "source": [
    "df['type'].unique()"
   ]
  },
  {
   "cell_type": "code",
   "execution_count": 34,
   "id": "7d776d47",
   "metadata": {
    "execution": {
     "iopub.execute_input": "2024-01-18T13:44:47.915588Z",
     "iopub.status.busy": "2024-01-18T13:44:47.913763Z",
     "iopub.status.idle": "2024-01-18T13:44:47.926568Z",
     "shell.execute_reply": "2024-01-18T13:44:47.925832Z"
    },
    "papermill": {
     "duration": 0.04078,
     "end_time": "2024-01-18T13:44:47.928420",
     "exception": false,
     "start_time": "2024-01-18T13:44:47.887640",
     "status": "completed"
    },
    "tags": []
   },
   "outputs": [
    {
     "data": {
      "text/html": [
       "<div>\n",
       "<style scoped>\n",
       "    .dataframe tbody tr th:only-of-type {\n",
       "        vertical-align: middle;\n",
       "    }\n",
       "\n",
       "    .dataframe tbody tr th {\n",
       "        vertical-align: top;\n",
       "    }\n",
       "\n",
       "    .dataframe thead th {\n",
       "        text-align: right;\n",
       "    }\n",
       "</style>\n",
       "<table border=\"1\" class=\"dataframe\">\n",
       "  <thead>\n",
       "    <tr style=\"text-align: right;\">\n",
       "      <th></th>\n",
       "      <th>type</th>\n",
       "      <th>count</th>\n",
       "    </tr>\n",
       "  </thead>\n",
       "  <tbody>\n",
       "    <tr>\n",
       "      <th>0</th>\n",
       "      <td>Movie</td>\n",
       "      <td>6126</td>\n",
       "    </tr>\n",
       "    <tr>\n",
       "      <th>1</th>\n",
       "      <td>TV Show</td>\n",
       "      <td>2664</td>\n",
       "    </tr>\n",
       "  </tbody>\n",
       "</table>\n",
       "</div>"
      ],
      "text/plain": [
       "      type  count\n",
       "0    Movie   6126\n",
       "1  TV Show   2664"
      ]
     },
     "execution_count": 34,
     "metadata": {},
     "output_type": "execute_result"
    }
   ],
   "source": [
    "type_counts=df.groupby('type')['type'].count().reset_index(name='count')\n",
    "#type_counts=df['type'].value_counts().reset_index(name='count') #another way\n",
    "type_counts"
   ]
  },
  {
   "cell_type": "code",
   "execution_count": 35,
   "id": "d0a122b9",
   "metadata": {
    "execution": {
     "iopub.execute_input": "2024-01-18T13:44:47.978093Z",
     "iopub.status.busy": "2024-01-18T13:44:47.977435Z",
     "iopub.status.idle": "2024-01-18T13:44:48.239752Z",
     "shell.execute_reply": "2024-01-18T13:44:48.237997Z"
    },
    "papermill": {
     "duration": 0.289178,
     "end_time": "2024-01-18T13:44:48.242641",
     "exception": false,
     "start_time": "2024-01-18T13:44:47.953463",
     "status": "completed"
    },
    "tags": []
   },
   "outputs": [
    {
     "name": "stderr",
     "output_type": "stream",
     "text": [
      "/tmp/ipykernel_19/408895320.py:3: FutureWarning: \n",
      "\n",
      "The `ci` parameter is deprecated. Use `errorbar=None` for the same effect.\n",
      "\n",
      "  sns.barplot(x=type_counts['type'],y= type_counts['count'],  palette='Set2', ci=None)\n"
     ]
    },
    {
     "data": {
      "image/png": "[encoded data removed]",
      "text/plain": [
       "<Figure size 1000x600 with 1 Axes>"
      ]
     },
     "metadata": {},
     "output_type": "display_data"
    }
   ],
   "source": [
    "sns.set(style=\"whitegrid\")\n",
    "plt.figure(figsize=(10, 6))\n",
    "sns.barplot(x=type_counts['type'],y= type_counts['count'],  palette='Set2', ci=None)\n",
    "plt.xlabel('Content Type')\n",
    "plt.ylabel('Count')\n",
    "plt.title('Distribution of Content Types')\n",
    "plt.show()"
   ]
  },
  {
   "cell_type": "markdown",
   "id": "8a66cc23",
   "metadata": {
    "papermill": {
     "duration": 0.025225,
     "end_time": "2024-01-18T13:44:48.291995",
     "exception": false,
     "start_time": "2024-01-18T13:44:48.266770",
     "status": "completed"
    },
    "tags": []
   },
   "source": [
    "<h3>How many and what movies that released in 2000"
   ]
  },
  {
   "cell_type": "code",
   "execution_count": 36,
   "id": "a60e331f",
   "metadata": {
    "execution": {
     "iopub.execute_input": "2024-01-18T13:44:48.345972Z",
     "iopub.status.busy": "2024-01-18T13:44:48.345487Z",
     "iopub.status.idle": "2024-01-18T13:44:48.355960Z",
     "shell.execute_reply": "2024-01-18T13:44:48.353929Z"
    },
    "papermill": {
     "duration": 0.040553,
     "end_time": "2024-01-18T13:44:48.359639",
     "exception": false,
     "start_time": "2024-01-18T13:44:48.319086",
     "status": "completed"
    },
    "tags": []
   },
   "outputs": [
    {
     "data": {
      "text/plain": [
       "Index(['type', 'title', 'director', 'cast', 'country', 'release_year',\n",
       "       'rating', 'duration', 'listed_in', 'description', 'loading_Year',\n",
       "       'loading_Month', 'Minutes', 'Units'],\n",
       "      dtype='object')"
      ]
     },
     "execution_count": 36,
     "metadata": {},
     "output_type": "execute_result"
    }
   ],
   "source": [
    "df.columns"
   ]
  },
  {
   "cell_type": "code",
   "execution_count": 37,
   "id": "dc7a7076",
   "metadata": {
    "execution": {
     "iopub.execute_input": "2024-01-18T13:44:48.425756Z",
     "iopub.status.busy": "2024-01-18T13:44:48.425047Z",
     "iopub.status.idle": "2024-01-18T13:44:48.467582Z",
     "shell.execute_reply": "2024-01-18T13:44:48.465861Z"
    },
    "papermill": {
     "duration": 0.082846,
     "end_time": "2024-01-18T13:44:48.470926",
     "exception": false,
     "start_time": "2024-01-18T13:44:48.388080",
     "status": "completed"
    },
    "tags": []
   },
   "outputs": [
    {
     "data": {
      "text/html": [
       "<div>\n",
       "<style scoped>\n",
       "    .dataframe tbody tr th:only-of-type {\n",
       "        vertical-align: middle;\n",
       "    }\n",
       "\n",
       "    .dataframe tbody tr th {\n",
       "        vertical-align: top;\n",
       "    }\n",
       "\n",
       "    .dataframe thead th {\n",
       "        text-align: right;\n",
       "    }\n",
       "</style>\n",
       "<table border=\"1\" class=\"dataframe\">\n",
       "  <thead>\n",
       "    <tr style=\"text-align: right;\">\n",
       "      <th></th>\n",
       "      <th>type</th>\n",
       "      <th>title</th>\n",
       "      <th>director</th>\n",
       "      <th>cast</th>\n",
       "      <th>country</th>\n",
       "      <th>release_year</th>\n",
       "      <th>rating</th>\n",
       "      <th>duration</th>\n",
       "      <th>listed_in</th>\n",
       "      <th>description</th>\n",
       "      <th>loading_Year</th>\n",
       "      <th>loading_Month</th>\n",
       "      <th>Minutes</th>\n",
       "      <th>Units</th>\n",
       "    </tr>\n",
       "    <tr>\n",
       "      <th>show_id</th>\n",
       "      <th></th>\n",
       "      <th></th>\n",
       "      <th></th>\n",
       "      <th></th>\n",
       "      <th></th>\n",
       "      <th></th>\n",
       "      <th></th>\n",
       "      <th></th>\n",
       "      <th></th>\n",
       "      <th></th>\n",
       "      <th></th>\n",
       "      <th></th>\n",
       "      <th></th>\n",
       "      <th></th>\n",
       "    </tr>\n",
       "  </thead>\n",
       "  <tbody>\n",
       "    <tr>\n",
       "      <th>s181</th>\n",
       "      <td>Movie</td>\n",
       "      <td>The Nutty Professor II: The Klumps</td>\n",
       "      <td>Peter Segal</td>\n",
       "      <td>Eddie Murphy, Janet Jackson, Larry Miller, Joh...</td>\n",
       "      <td>Unknown</td>\n",
       "      <td>2000</td>\n",
       "      <td>PG-13</td>\n",
       "      <td>107 min</td>\n",
       "      <td>Comedies, Romantic Movies</td>\n",
       "      <td>After getting engaged, Sherman Klump prepares ...</td>\n",
       "      <td>2021</td>\n",
       "      <td>September</td>\n",
       "      <td>107</td>\n",
       "      <td>min</td>\n",
       "    </tr>\n",
       "    <tr>\n",
       "      <th>s351</th>\n",
       "      <td>Movie</td>\n",
       "      <td>Space Cowboys</td>\n",
       "      <td>Clint Eastwood</td>\n",
       "      <td>Clint Eastwood, Tommy Lee Jones, Donald Suther...</td>\n",
       "      <td>United States</td>\n",
       "      <td>2000</td>\n",
       "      <td>PG-13</td>\n",
       "      <td>130 min</td>\n",
       "      <td>Action &amp; Adventure, Dramas, Sci-Fi &amp; Fantasy</td>\n",
       "      <td>A retired engineer agrees to help NASA prevent...</td>\n",
       "      <td>2021</td>\n",
       "      <td>August</td>\n",
       "      <td>130</td>\n",
       "      <td>min</td>\n",
       "    </tr>\n",
       "    <tr>\n",
       "      <th>s360</th>\n",
       "      <td>Movie</td>\n",
       "      <td>The Original Kings of Comedy</td>\n",
       "      <td>Spike Lee</td>\n",
       "      <td>Steve Harvey, D.L. Hughley, Cedric the Enterta...</td>\n",
       "      <td>United States</td>\n",
       "      <td>2000</td>\n",
       "      <td>R</td>\n",
       "      <td>111 min</td>\n",
       "      <td>Stand-Up Comedy</td>\n",
       "      <td>Comedians Steve Harvey, Cedric the Entertainer...</td>\n",
       "      <td>2021</td>\n",
       "      <td>August</td>\n",
       "      <td>111</td>\n",
       "      <td>min</td>\n",
       "    </tr>\n",
       "    <tr>\n",
       "      <th>s567</th>\n",
       "      <td>Movie</td>\n",
       "      <td>Charlie's Angels</td>\n",
       "      <td>McG</td>\n",
       "      <td>Cameron Diaz, Drew Barrymore, Lucy Liu, Bill M...</td>\n",
       "      <td>United States, Germany</td>\n",
       "      <td>2000</td>\n",
       "      <td>PG-13</td>\n",
       "      <td>98 min</td>\n",
       "      <td>Action &amp; Adventure, Comedies</td>\n",
       "      <td>A tight-knit trio of specially trained agents ...</td>\n",
       "      <td>2021</td>\n",
       "      <td>July</td>\n",
       "      <td>98</td>\n",
       "      <td>min</td>\n",
       "    </tr>\n",
       "    <tr>\n",
       "      <th>s594</th>\n",
       "      <td>Movie</td>\n",
       "      <td>Snow Day</td>\n",
       "      <td>Chris Koch</td>\n",
       "      <td>Chris Elliott, Mark Webber, Jean Smart, Schuyl...</td>\n",
       "      <td>United States</td>\n",
       "      <td>2000</td>\n",
       "      <td>PG</td>\n",
       "      <td>89 min</td>\n",
       "      <td>Children &amp; Family Movies, Comedies</td>\n",
       "      <td>When a snow day shuts down the whole town, the...</td>\n",
       "      <td>2021</td>\n",
       "      <td>July</td>\n",
       "      <td>89</td>\n",
       "      <td>min</td>\n",
       "    </tr>\n",
       "    <tr>\n",
       "      <th>s780</th>\n",
       "      <td>Movie</td>\n",
       "      <td>Battlefield Earth</td>\n",
       "      <td>Roger Christian</td>\n",
       "      <td>John Travolta, Barry Pepper, Forest Whitaker, ...</td>\n",
       "      <td>United States</td>\n",
       "      <td>2000</td>\n",
       "      <td>PG-13</td>\n",
       "      <td>118 min</td>\n",
       "      <td>Action &amp; Adventure, Cult Movies, Sci-Fi &amp; Fantasy</td>\n",
       "      <td>In the year 3000, an alien race known as the P...</td>\n",
       "      <td>2021</td>\n",
       "      <td>June</td>\n",
       "      <td>118</td>\n",
       "      <td>min</td>\n",
       "    </tr>\n",
       "    <tr>\n",
       "      <th>s953</th>\n",
       "      <td>Movie</td>\n",
       "      <td>The Whole Nine Yards</td>\n",
       "      <td>Jonathan Lynn</td>\n",
       "      <td>Bruce Willis, Matthew Perry, Rosanna Arquette,...</td>\n",
       "      <td>United States</td>\n",
       "      <td>2000</td>\n",
       "      <td>R</td>\n",
       "      <td>99 min</td>\n",
       "      <td>Action &amp; Adventure, Comedies</td>\n",
       "      <td>An unhappily married dentist becomes mixed up ...</td>\n",
       "      <td>2021</td>\n",
       "      <td>May</td>\n",
       "      <td>99</td>\n",
       "      <td>min</td>\n",
       "    </tr>\n",
       "    <tr>\n",
       "      <th>s3473</th>\n",
       "      <td>Movie</td>\n",
       "      <td>Rugrats in Paris: The Movie</td>\n",
       "      <td>Stig Bergqvist, Paul Demeyer</td>\n",
       "      <td>Elizabeth Daily, Tara Strong, Cheryl Chase, Ch...</td>\n",
       "      <td>Germany, United States</td>\n",
       "      <td>2000</td>\n",
       "      <td>G</td>\n",
       "      <td>79 min</td>\n",
       "      <td>Children &amp; Family Movies, Comedies</td>\n",
       "      <td>The Rugrats take to the big screen and visit P...</td>\n",
       "      <td>2019</td>\n",
       "      <td>October</td>\n",
       "      <td>79</td>\n",
       "      <td>min</td>\n",
       "    </tr>\n",
       "    <tr>\n",
       "      <th>s4546</th>\n",
       "      <td>Movie</td>\n",
       "      <td>Monty Python: Before the Flying Circus</td>\n",
       "      <td>Will Yapp</td>\n",
       "      <td>Graham Chapman, Eric Idle, Terry Jones, Michae...</td>\n",
       "      <td>United Kingdom</td>\n",
       "      <td>2000</td>\n",
       "      <td>TV-MA</td>\n",
       "      <td>56 min</td>\n",
       "      <td>Comedies, Documentaries</td>\n",
       "      <td>Discover how six seemingly ordinary but suprem...</td>\n",
       "      <td>2018</td>\n",
       "      <td>October</td>\n",
       "      <td>56</td>\n",
       "      <td>min</td>\n",
       "    </tr>\n",
       "    <tr>\n",
       "      <th>s4724</th>\n",
       "      <td>Movie</td>\n",
       "      <td>Fiza</td>\n",
       "      <td>Khalid Mohamed</td>\n",
       "      <td>Karisma Kapoor, Jaya Bhaduri, Hrithik Roshan, ...</td>\n",
       "      <td>India</td>\n",
       "      <td>2000</td>\n",
       "      <td>TV-14</td>\n",
       "      <td>163 min</td>\n",
       "      <td>Dramas, International Movies, Music &amp; Musicals</td>\n",
       "      <td>Fiza's brother disappears during Mumbai's horr...</td>\n",
       "      <td>2018</td>\n",
       "      <td>August</td>\n",
       "      <td>163</td>\n",
       "      <td>min</td>\n",
       "    </tr>\n",
       "    <tr>\n",
       "      <th>s4957</th>\n",
       "      <td>Movie</td>\n",
       "      <td>Phir Bhi Dil Hai Hindustani</td>\n",
       "      <td>Aziz Mirza</td>\n",
       "      <td>Shah Rukh Khan, Juhi Chawla, Paresh Rawal, Sat...</td>\n",
       "      <td>India</td>\n",
       "      <td>2000</td>\n",
       "      <td>TV-14</td>\n",
       "      <td>159 min</td>\n",
       "      <td>Comedies, Dramas, International Movies</td>\n",
       "      <td>In this Bollywood entertainment, two journalis...</td>\n",
       "      <td>2018</td>\n",
       "      <td>April</td>\n",
       "      <td>159</td>\n",
       "      <td>min</td>\n",
       "    </tr>\n",
       "    <tr>\n",
       "      <th>s5954</th>\n",
       "      <td>Movie</td>\n",
       "      <td>Joseph: King of Dreams</td>\n",
       "      <td>Rob LaDuca, Robert C. Ramirez</td>\n",
       "      <td>Ben Affleck, Mark Hamill, Richard Herd, Mauree...</td>\n",
       "      <td>United States, France, United Kingdom</td>\n",
       "      <td>2000</td>\n",
       "      <td>TV-PG</td>\n",
       "      <td>75 min</td>\n",
       "      <td>Children &amp; Family Movies, Dramas, Faith &amp; Spir...</td>\n",
       "      <td>With his gift of dream interpretation and his ...</td>\n",
       "      <td>2011</td>\n",
       "      <td>September</td>\n",
       "      <td>75</td>\n",
       "      <td>min</td>\n",
       "    </tr>\n",
       "    <tr>\n",
       "      <th>s6007</th>\n",
       "      <td>Movie</td>\n",
       "      <td>28 Days</td>\n",
       "      <td>Betty Thomas</td>\n",
       "      <td>Sandra Bullock, Viggo Mortensen, Dominic West,...</td>\n",
       "      <td>United States</td>\n",
       "      <td>2000</td>\n",
       "      <td>PG-13</td>\n",
       "      <td>104 min</td>\n",
       "      <td>Comedies, Dramas</td>\n",
       "      <td>After her drunken antics result in property da...</td>\n",
       "      <td>2020</td>\n",
       "      <td>September</td>\n",
       "      <td>104</td>\n",
       "      <td>min</td>\n",
       "    </tr>\n",
       "    <tr>\n",
       "      <th>s6148</th>\n",
       "      <td>Movie</td>\n",
       "      <td>American Psycho</td>\n",
       "      <td>Mary Harron</td>\n",
       "      <td>Christian Bale, Willem Dafoe, Jared Leto, Rees...</td>\n",
       "      <td>United States, Canada</td>\n",
       "      <td>2000</td>\n",
       "      <td>R</td>\n",
       "      <td>102 min</td>\n",
       "      <td>Comedies, Cult Movies, Dramas</td>\n",
       "      <td>With chiseled good looks that belie his insani...</td>\n",
       "      <td>2019</td>\n",
       "      <td>September</td>\n",
       "      <td>102</td>\n",
       "      <td>min</td>\n",
       "    </tr>\n",
       "    <tr>\n",
       "      <th>s6155</th>\n",
       "      <td>Movie</td>\n",
       "      <td>An American Tail: The Treasures of Manhattan I...</td>\n",
       "      <td>Larry Latham</td>\n",
       "      <td>Thomas Dekker, Dom DeLuise, Pat Musick, Nehemi...</td>\n",
       "      <td>United States</td>\n",
       "      <td>2000</td>\n",
       "      <td>G</td>\n",
       "      <td>79 min</td>\n",
       "      <td>Children &amp; Family Movies</td>\n",
       "      <td>When Fievel and friends go hunting for buried ...</td>\n",
       "      <td>2018</td>\n",
       "      <td>April</td>\n",
       "      <td>79</td>\n",
       "      <td>min</td>\n",
       "    </tr>\n",
       "    <tr>\n",
       "      <th>s6312</th>\n",
       "      <td>Movie</td>\n",
       "      <td>Billy Elliot</td>\n",
       "      <td>Stephen Daldry</td>\n",
       "      <td>Jamie Bell, Gary Lewis, Stuart Wells, Billy Fa...</td>\n",
       "      <td>United Kingdom, France</td>\n",
       "      <td>2000</td>\n",
       "      <td>R</td>\n",
       "      <td>110 min</td>\n",
       "      <td>Dramas, Independent Movies, International Movies</td>\n",
       "      <td>When a boy trades boxing school for ballet les...</td>\n",
       "      <td>2019</td>\n",
       "      <td>February</td>\n",
       "      <td>110</td>\n",
       "      <td>min</td>\n",
       "    </tr>\n",
       "    <tr>\n",
       "      <th>s6438</th>\n",
       "      <td>Movie</td>\n",
       "      <td>Center Stage</td>\n",
       "      <td>Nicholas Hytner</td>\n",
       "      <td>Amanda Schull, Zoe Saldana, Susan May Pratt, P...</td>\n",
       "      <td>United States</td>\n",
       "      <td>2000</td>\n",
       "      <td>PG-13</td>\n",
       "      <td>116 min</td>\n",
       "      <td>Dramas</td>\n",
       "      <td>Vying for a spot in the American Ballet Compan...</td>\n",
       "      <td>2020</td>\n",
       "      <td>January</td>\n",
       "      <td>116</td>\n",
       "      <td>min</td>\n",
       "    </tr>\n",
       "    <tr>\n",
       "      <th>s6441</th>\n",
       "      <td>Movie</td>\n",
       "      <td>Chal Mere Bhai</td>\n",
       "      <td>David Dhawan</td>\n",
       "      <td>Sanjay Dutt, Salman Khan, Karisma Kapoor, Dali...</td>\n",
       "      <td>India</td>\n",
       "      <td>2000</td>\n",
       "      <td>TV-14</td>\n",
       "      <td>132 min</td>\n",
       "      <td>Comedies, International Movies, Romantic Movies</td>\n",
       "      <td>When a secretary saves her tycoon boss's life,...</td>\n",
       "      <td>2019</td>\n",
       "      <td>December</td>\n",
       "      <td>132</td>\n",
       "      <td>min</td>\n",
       "    </tr>\n",
       "    <tr>\n",
       "      <th>s6544</th>\n",
       "      <td>Movie</td>\n",
       "      <td>Crouching Tiger, Hidden Dragon</td>\n",
       "      <td>Ang Lee</td>\n",
       "      <td>Chow Yun Fat, Michelle Yeoh, Zhang Ziyi, Chang...</td>\n",
       "      <td>Taiwan, Hong Kong, United States, China</td>\n",
       "      <td>2000</td>\n",
       "      <td>PG-13</td>\n",
       "      <td>120 min</td>\n",
       "      <td>Action &amp; Adventure, International Movies, Roma...</td>\n",
       "      <td>A young woman in ancient China longs for an ad...</td>\n",
       "      <td>2019</td>\n",
       "      <td>March</td>\n",
       "      <td>120</td>\n",
       "      <td>min</td>\n",
       "    </tr>\n",
       "    <tr>\n",
       "      <th>s6644</th>\n",
       "      <td>Movie</td>\n",
       "      <td>Dragonheart: A New Beginning</td>\n",
       "      <td>Doug Lefler</td>\n",
       "      <td>Christopher Masterson, Harry Van Gorkum, Rona ...</td>\n",
       "      <td>United States</td>\n",
       "      <td>2000</td>\n",
       "      <td>PG</td>\n",
       "      <td>84 min</td>\n",
       "      <td>Action &amp; Adventure, Sci-Fi &amp; Fantasy</td>\n",
       "      <td>This sequel introduces Draco the dragon's offs...</td>\n",
       "      <td>2020</td>\n",
       "      <td>January</td>\n",
       "      <td>84</td>\n",
       "      <td>min</td>\n",
       "    </tr>\n",
       "    <tr>\n",
       "      <th>s6754</th>\n",
       "      <td>Movie</td>\n",
       "      <td>Final Destination</td>\n",
       "      <td>James Wong</td>\n",
       "      <td>Devon Sawa, Ali Larter, Kerr Smith, Kristen Cl...</td>\n",
       "      <td>United States</td>\n",
       "      <td>2000</td>\n",
       "      <td>R</td>\n",
       "      <td>98 min</td>\n",
       "      <td>Cult Movies, Horror Movies, Thrillers</td>\n",
       "      <td>After narrowly avoiding a fatal plane explosio...</td>\n",
       "      <td>2020</td>\n",
       "      <td>January</td>\n",
       "      <td>98</td>\n",
       "      <td>min</td>\n",
       "    </tr>\n",
       "    <tr>\n",
       "      <th>s6913</th>\n",
       "      <td>Movie</td>\n",
       "      <td>Hamara Dil Aapke Paas Hai</td>\n",
       "      <td>Satish Kaushik</td>\n",
       "      <td>Anil Kapoor, Aishwarya Rai Bachchan, Sonali Be...</td>\n",
       "      <td>India</td>\n",
       "      <td>2000</td>\n",
       "      <td>TV-14</td>\n",
       "      <td>158 min</td>\n",
       "      <td>Dramas, International Movies, Music &amp; Musicals</td>\n",
       "      <td>Love blooms when kind-hearted Avinash takes in...</td>\n",
       "      <td>2018</td>\n",
       "      <td>March</td>\n",
       "      <td>158</td>\n",
       "      <td>min</td>\n",
       "    </tr>\n",
       "    <tr>\n",
       "      <th>s7014</th>\n",
       "      <td>Movie</td>\n",
       "      <td>How the Grinch Stole Christmas</td>\n",
       "      <td>Ron Howard</td>\n",
       "      <td>Jim Carrey, Taylor Momsen, Jeffrey Tambor, Chr...</td>\n",
       "      <td>United States</td>\n",
       "      <td>2000</td>\n",
       "      <td>PG</td>\n",
       "      <td>105 min</td>\n",
       "      <td>Children &amp; Family Movies, Comedies</td>\n",
       "      <td>The Grinch decides to rob Whoville of Christma...</td>\n",
       "      <td>2017</td>\n",
       "      <td>June</td>\n",
       "      <td>105</td>\n",
       "      <td>min</td>\n",
       "    </tr>\n",
       "    <tr>\n",
       "      <th>s7248</th>\n",
       "      <td>Movie</td>\n",
       "      <td>Kya Kehna</td>\n",
       "      <td>Kundan Shah</td>\n",
       "      <td>Preity Zinta, Saif Ali Khan, Anupam Kher, Fari...</td>\n",
       "      <td>India</td>\n",
       "      <td>2000</td>\n",
       "      <td>TV-PG</td>\n",
       "      <td>149 min</td>\n",
       "      <td>Dramas, International Movies, Romantic Movies</td>\n",
       "      <td>A young university student's world is shaken a...</td>\n",
       "      <td>2018</td>\n",
       "      <td>April</td>\n",
       "      <td>149</td>\n",
       "      <td>min</td>\n",
       "    </tr>\n",
       "    <tr>\n",
       "      <th>s7317</th>\n",
       "      <td>Movie</td>\n",
       "      <td>Little Nicky</td>\n",
       "      <td>Steve Brill</td>\n",
       "      <td>Adam Sandler, Patricia Arquette, Harvey Keitel...</td>\n",
       "      <td>United States</td>\n",
       "      <td>2000</td>\n",
       "      <td>PG-13</td>\n",
       "      <td>90 min</td>\n",
       "      <td>Comedies</td>\n",
       "      <td>The devil sends his sweet son Nicky to Earth t...</td>\n",
       "      <td>2020</td>\n",
       "      <td>December</td>\n",
       "      <td>90</td>\n",
       "      <td>min</td>\n",
       "    </tr>\n",
       "    <tr>\n",
       "      <th>s7703</th>\n",
       "      <td>Movie</td>\n",
       "      <td>Papa the Great</td>\n",
       "      <td>Bhagyaraj</td>\n",
       "      <td>Krishan Kumar, Nagma, Satya Prakash, Master Bo...</td>\n",
       "      <td>India</td>\n",
       "      <td>2000</td>\n",
       "      <td>TV-PG</td>\n",
       "      <td>137 min</td>\n",
       "      <td>Comedies, Dramas, International Movies</td>\n",
       "      <td>After witnessing a murder, a meek family man m...</td>\n",
       "      <td>2017</td>\n",
       "      <td>December</td>\n",
       "      <td>137</td>\n",
       "      <td>min</td>\n",
       "    </tr>\n",
       "    <tr>\n",
       "      <th>s7802</th>\n",
       "      <td>Movie</td>\n",
       "      <td>Pukar</td>\n",
       "      <td>Rajkumar Santoshi</td>\n",
       "      <td>Anil Kapoor, Madhuri Dixit, Namrata Shirodkar,...</td>\n",
       "      <td>India</td>\n",
       "      <td>2000</td>\n",
       "      <td>TV-14</td>\n",
       "      <td>165 min</td>\n",
       "      <td>Action &amp; Adventure, Dramas, International Movies</td>\n",
       "      <td>A notorious terrorist manipulates an Indian ar...</td>\n",
       "      <td>2018</td>\n",
       "      <td>March</td>\n",
       "      <td>165</td>\n",
       "      <td>min</td>\n",
       "    </tr>\n",
       "    <tr>\n",
       "      <th>s7956</th>\n",
       "      <td>Movie</td>\n",
       "      <td>Scary Movie</td>\n",
       "      <td>Keenen Ivory Wayans</td>\n",
       "      <td>Anna Faris, Jon Abrahams, Shannon Elizabeth, S...</td>\n",
       "      <td>United States</td>\n",
       "      <td>2000</td>\n",
       "      <td>R</td>\n",
       "      <td>88 min</td>\n",
       "      <td>Comedies, Horror Movies</td>\n",
       "      <td>The Wayans brothers spoof some of Hollywood's ...</td>\n",
       "      <td>2020</td>\n",
       "      <td>January</td>\n",
       "      <td>88</td>\n",
       "      <td>min</td>\n",
       "    </tr>\n",
       "    <tr>\n",
       "      <th>s7963</th>\n",
       "      <td>Movie</td>\n",
       "      <td>Scream 3</td>\n",
       "      <td>Wes Craven</td>\n",
       "      <td>David Arquette, Neve Campbell, Courteney Cox, ...</td>\n",
       "      <td>United States</td>\n",
       "      <td>2000</td>\n",
       "      <td>R</td>\n",
       "      <td>117 min</td>\n",
       "      <td>Horror Movies</td>\n",
       "      <td>This installment of the tongue-in-cheek horror...</td>\n",
       "      <td>2019</td>\n",
       "      <td>July</td>\n",
       "      <td>117</td>\n",
       "      <td>min</td>\n",
       "    </tr>\n",
       "    <tr>\n",
       "      <th>s8197</th>\n",
       "      <td>Movie</td>\n",
       "      <td>The Art of War</td>\n",
       "      <td>Christian Duguay</td>\n",
       "      <td>Wesley Snipes, Anne Archer, Maury Chaykin, Mar...</td>\n",
       "      <td>United States, Canada</td>\n",
       "      <td>2000</td>\n",
       "      <td>R</td>\n",
       "      <td>117 min</td>\n",
       "      <td>Action &amp; Adventure</td>\n",
       "      <td>Framed for the murder of an ambassador, a form...</td>\n",
       "      <td>2020</td>\n",
       "      <td>July</td>\n",
       "      <td>117</td>\n",
       "      <td>min</td>\n",
       "    </tr>\n",
       "    <tr>\n",
       "      <th>s8306</th>\n",
       "      <td>Movie</td>\n",
       "      <td>The Flintstones in Viva Rock Vegas</td>\n",
       "      <td>Brian Levant</td>\n",
       "      <td>Mark Addy, Stephen Baldwin, Kristen Johnston, ...</td>\n",
       "      <td>United States</td>\n",
       "      <td>2000</td>\n",
       "      <td>PG</td>\n",
       "      <td>91 min</td>\n",
       "      <td>Children &amp; Family Movies, Comedies, Romantic M...</td>\n",
       "      <td>Yabba-dabba-doo! Digital dinosaurs rule the da...</td>\n",
       "      <td>2019</td>\n",
       "      <td>October</td>\n",
       "      <td>91</td>\n",
       "      <td>min</td>\n",
       "    </tr>\n",
       "    <tr>\n",
       "      <th>s8723</th>\n",
       "      <td>Movie</td>\n",
       "      <td>What Lies Beneath</td>\n",
       "      <td>Robert Zemeckis</td>\n",
       "      <td>Harrison Ford, Michelle Pfeiffer, Diana Scarwi...</td>\n",
       "      <td>United States</td>\n",
       "      <td>2000</td>\n",
       "      <td>PG-13</td>\n",
       "      <td>130 min</td>\n",
       "      <td>Horror Movies, Thrillers</td>\n",
       "      <td>When Claire Spencer starts hearing ghostly voi...</td>\n",
       "      <td>2020</td>\n",
       "      <td>January</td>\n",
       "      <td>130</td>\n",
       "      <td>min</td>\n",
       "    </tr>\n",
       "    <tr>\n",
       "      <th>s8730</th>\n",
       "      <td>Movie</td>\n",
       "      <td>Where the Money Is</td>\n",
       "      <td>Marek Kanievska</td>\n",
       "      <td>Paul Newman, Linda Fiorentino, Dermot Mulroney...</td>\n",
       "      <td>Germany, United States, United Kingdom, Canada</td>\n",
       "      <td>2000</td>\n",
       "      <td>PG-13</td>\n",
       "      <td>89 min</td>\n",
       "      <td>Action &amp; Adventure, Comedies, Dramas</td>\n",
       "      <td>Paul Newman proves he's still got prodigious a...</td>\n",
       "      <td>2020</td>\n",
       "      <td>January</td>\n",
       "      <td>89</td>\n",
       "      <td>min</td>\n",
       "    </tr>\n",
       "  </tbody>\n",
       "</table>\n",
       "</div>"
      ],
      "text/plain": [
       "          type                                              title  \\\n",
       "show_id                                                             \n",
       "s181     Movie                 The Nutty Professor II: The Klumps   \n",
       "s351     Movie                                      Space Cowboys   \n",
       "s360     Movie                       The Original Kings of Comedy   \n",
       "s567     Movie                                   Charlie's Angels   \n",
       "s594     Movie                                           Snow Day   \n",
       "s780     Movie                                  Battlefield Earth   \n",
       "s953     Movie                               The Whole Nine Yards   \n",
       "s3473    Movie                        Rugrats in Paris: The Movie   \n",
       "s4546    Movie             Monty Python: Before the Flying Circus   \n",
       "s4724    Movie                                               Fiza   \n",
       "s4957    Movie                        Phir Bhi Dil Hai Hindustani   \n",
       "s5954    Movie                             Joseph: King of Dreams   \n",
       "s6007    Movie                                            28 Days   \n",
       "s6148    Movie                                    American Psycho   \n",
       "s6155    Movie  An American Tail: The Treasures of Manhattan I...   \n",
       "s6312    Movie                                       Billy Elliot   \n",
       "s6438    Movie                                       Center Stage   \n",
       "s6441    Movie                                     Chal Mere Bhai   \n",
       "s6544    Movie                     Crouching Tiger, Hidden Dragon   \n",
       "s6644    Movie                       Dragonheart: A New Beginning   \n",
       "s6754    Movie                                  Final Destination   \n",
       "s6913    Movie                          Hamara Dil Aapke Paas Hai   \n",
       "s7014    Movie                     How the Grinch Stole Christmas   \n",
       "s7248    Movie                                          Kya Kehna   \n",
       "s7317    Movie                                       Little Nicky   \n",
       "s7703    Movie                                     Papa the Great   \n",
       "s7802    Movie                                              Pukar   \n",
       "s7956    Movie                                        Scary Movie   \n",
       "s7963    Movie                                           Scream 3   \n",
       "s8197    Movie                                     The Art of War   \n",
       "s8306    Movie                 The Flintstones in Viva Rock Vegas   \n",
       "s8723    Movie                                  What Lies Beneath   \n",
       "s8730    Movie                                 Where the Money Is   \n",
       "\n",
       "                              director  \\\n",
       "show_id                                  \n",
       "s181                       Peter Segal   \n",
       "s351                    Clint Eastwood   \n",
       "s360                         Spike Lee   \n",
       "s567                               McG   \n",
       "s594                        Chris Koch   \n",
       "s780                   Roger Christian   \n",
       "s953                     Jonathan Lynn   \n",
       "s3473     Stig Bergqvist, Paul Demeyer   \n",
       "s4546                        Will Yapp   \n",
       "s4724                   Khalid Mohamed   \n",
       "s4957                       Aziz Mirza   \n",
       "s5954    Rob LaDuca, Robert C. Ramirez   \n",
       "s6007                     Betty Thomas   \n",
       "s6148                      Mary Harron   \n",
       "s6155                     Larry Latham   \n",
       "s6312                   Stephen Daldry   \n",
       "s6438                  Nicholas Hytner   \n",
       "s6441                     David Dhawan   \n",
       "s6544                          Ang Lee   \n",
       "s6644                      Doug Lefler   \n",
       "s6754                       James Wong   \n",
       "s6913                   Satish Kaushik   \n",
       "s7014                       Ron Howard   \n",
       "s7248                      Kundan Shah   \n",
       "s7317                      Steve Brill   \n",
       "s7703                        Bhagyaraj   \n",
       "s7802                Rajkumar Santoshi   \n",
       "s7956              Keenen Ivory Wayans   \n",
       "s7963                       Wes Craven   \n",
       "s8197                 Christian Duguay   \n",
       "s8306                     Brian Levant   \n",
       "s8723                  Robert Zemeckis   \n",
       "s8730                  Marek Kanievska   \n",
       "\n",
       "                                                      cast  \\\n",
       "show_id                                                      \n",
       "s181     Eddie Murphy, Janet Jackson, Larry Miller, Joh...   \n",
       "s351     Clint Eastwood, Tommy Lee Jones, Donald Suther...   \n",
       "s360     Steve Harvey, D.L. Hughley, Cedric the Enterta...   \n",
       "s567     Cameron Diaz, Drew Barrymore, Lucy Liu, Bill M...   \n",
       "s594     Chris Elliott, Mark Webber, Jean Smart, Schuyl...   \n",
       "s780     John Travolta, Barry Pepper, Forest Whitaker, ...   \n",
       "s953     Bruce Willis, Matthew Perry, Rosanna Arquette,...   \n",
       "s3473    Elizabeth Daily, Tara Strong, Cheryl Chase, Ch...   \n",
       "s4546    Graham Chapman, Eric Idle, Terry Jones, Michae...   \n",
       "s4724    Karisma Kapoor, Jaya Bhaduri, Hrithik Roshan, ...   \n",
       "s4957    Shah Rukh Khan, Juhi Chawla, Paresh Rawal, Sat...   \n",
       "s5954    Ben Affleck, Mark Hamill, Richard Herd, Mauree...   \n",
       "s6007    Sandra Bullock, Viggo Mortensen, Dominic West,...   \n",
       "s6148    Christian Bale, Willem Dafoe, Jared Leto, Rees...   \n",
       "s6155    Thomas Dekker, Dom DeLuise, Pat Musick, Nehemi...   \n",
       "s6312    Jamie Bell, Gary Lewis, Stuart Wells, Billy Fa...   \n",
       "s6438    Amanda Schull, Zoe Saldana, Susan May Pratt, P...   \n",
       "s6441    Sanjay Dutt, Salman Khan, Karisma Kapoor, Dali...   \n",
       "s6544    Chow Yun Fat, Michelle Yeoh, Zhang Ziyi, Chang...   \n",
       "s6644    Christopher Masterson, Harry Van Gorkum, Rona ...   \n",
       "s6754    Devon Sawa, Ali Larter, Kerr Smith, Kristen Cl...   \n",
       "s6913    Anil Kapoor, Aishwarya Rai Bachchan, Sonali Be...   \n",
       "s7014    Jim Carrey, Taylor Momsen, Jeffrey Tambor, Chr...   \n",
       "s7248    Preity Zinta, Saif Ali Khan, Anupam Kher, Fari...   \n",
       "s7317    Adam Sandler, Patricia Arquette, Harvey Keitel...   \n",
       "s7703    Krishan Kumar, Nagma, Satya Prakash, Master Bo...   \n",
       "s7802    Anil Kapoor, Madhuri Dixit, Namrata Shirodkar,...   \n",
       "s7956    Anna Faris, Jon Abrahams, Shannon Elizabeth, S...   \n",
       "s7963    David Arquette, Neve Campbell, Courteney Cox, ...   \n",
       "s8197    Wesley Snipes, Anne Archer, Maury Chaykin, Mar...   \n",
       "s8306    Mark Addy, Stephen Baldwin, Kristen Johnston, ...   \n",
       "s8723    Harrison Ford, Michelle Pfeiffer, Diana Scarwi...   \n",
       "s8730    Paul Newman, Linda Fiorentino, Dermot Mulroney...   \n",
       "\n",
       "                                                country  release_year rating  \\\n",
       "show_id                                                                        \n",
       "s181                                           Unknown           2000  PG-13   \n",
       "s351                                      United States          2000  PG-13   \n",
       "s360                                      United States          2000      R   \n",
       "s567                             United States, Germany          2000  PG-13   \n",
       "s594                                      United States          2000     PG   \n",
       "s780                                      United States          2000  PG-13   \n",
       "s953                                      United States          2000      R   \n",
       "s3473                            Germany, United States          2000      G   \n",
       "s4546                                    United Kingdom          2000  TV-MA   \n",
       "s4724                                             India          2000  TV-14   \n",
       "s4957                                             India          2000  TV-14   \n",
       "s5954             United States, France, United Kingdom          2000  TV-PG   \n",
       "s6007                                     United States          2000  PG-13   \n",
       "s6148                             United States, Canada          2000      R   \n",
       "s6155                                     United States          2000      G   \n",
       "s6312                            United Kingdom, France          2000      R   \n",
       "s6438                                     United States          2000  PG-13   \n",
       "s6441                                             India          2000  TV-14   \n",
       "s6544           Taiwan, Hong Kong, United States, China          2000  PG-13   \n",
       "s6644                                     United States          2000     PG   \n",
       "s6754                                     United States          2000      R   \n",
       "s6913                                             India          2000  TV-14   \n",
       "s7014                                     United States          2000     PG   \n",
       "s7248                                             India          2000  TV-PG   \n",
       "s7317                                     United States          2000  PG-13   \n",
       "s7703                                             India          2000  TV-PG   \n",
       "s7802                                             India          2000  TV-14   \n",
       "s7956                                     United States          2000      R   \n",
       "s7963                                     United States          2000      R   \n",
       "s8197                             United States, Canada          2000      R   \n",
       "s8306                                     United States          2000     PG   \n",
       "s8723                                     United States          2000  PG-13   \n",
       "s8730    Germany, United States, United Kingdom, Canada          2000  PG-13   \n",
       "\n",
       "        duration                                          listed_in  \\\n",
       "show_id                                                               \n",
       "s181     107 min                          Comedies, Romantic Movies   \n",
       "s351     130 min       Action & Adventure, Dramas, Sci-Fi & Fantasy   \n",
       "s360     111 min                                    Stand-Up Comedy   \n",
       "s567      98 min                       Action & Adventure, Comedies   \n",
       "s594      89 min                 Children & Family Movies, Comedies   \n",
       "s780     118 min  Action & Adventure, Cult Movies, Sci-Fi & Fantasy   \n",
       "s953      99 min                       Action & Adventure, Comedies   \n",
       "s3473     79 min                 Children & Family Movies, Comedies   \n",
       "s4546     56 min                            Comedies, Documentaries   \n",
       "s4724    163 min     Dramas, International Movies, Music & Musicals   \n",
       "s4957    159 min             Comedies, Dramas, International Movies   \n",
       "s5954     75 min  Children & Family Movies, Dramas, Faith & Spir...   \n",
       "s6007    104 min                                   Comedies, Dramas   \n",
       "s6148    102 min                      Comedies, Cult Movies, Dramas   \n",
       "s6155     79 min                           Children & Family Movies   \n",
       "s6312    110 min   Dramas, Independent Movies, International Movies   \n",
       "s6438    116 min                                             Dramas   \n",
       "s6441    132 min    Comedies, International Movies, Romantic Movies   \n",
       "s6544    120 min  Action & Adventure, International Movies, Roma...   \n",
       "s6644     84 min               Action & Adventure, Sci-Fi & Fantasy   \n",
       "s6754     98 min              Cult Movies, Horror Movies, Thrillers   \n",
       "s6913    158 min     Dramas, International Movies, Music & Musicals   \n",
       "s7014    105 min                 Children & Family Movies, Comedies   \n",
       "s7248    149 min      Dramas, International Movies, Romantic Movies   \n",
       "s7317     90 min                                           Comedies   \n",
       "s7703    137 min             Comedies, Dramas, International Movies   \n",
       "s7802    165 min   Action & Adventure, Dramas, International Movies   \n",
       "s7956     88 min                            Comedies, Horror Movies   \n",
       "s7963    117 min                                      Horror Movies   \n",
       "s8197    117 min                                 Action & Adventure   \n",
       "s8306     91 min  Children & Family Movies, Comedies, Romantic M...   \n",
       "s8723    130 min                           Horror Movies, Thrillers   \n",
       "s8730     89 min               Action & Adventure, Comedies, Dramas   \n",
       "\n",
       "                                               description  loading_Year  \\\n",
       "show_id                                                                    \n",
       "s181     After getting engaged, Sherman Klump prepares ...          2021   \n",
       "s351     A retired engineer agrees to help NASA prevent...          2021   \n",
       "s360     Comedians Steve Harvey, Cedric the Entertainer...          2021   \n",
       "s567     A tight-knit trio of specially trained agents ...          2021   \n",
       "s594     When a snow day shuts down the whole town, the...          2021   \n",
       "s780     In the year 3000, an alien race known as the P...          2021   \n",
       "s953     An unhappily married dentist becomes mixed up ...          2021   \n",
       "s3473    The Rugrats take to the big screen and visit P...          2019   \n",
       "s4546    Discover how six seemingly ordinary but suprem...          2018   \n",
       "s4724    Fiza's brother disappears during Mumbai's horr...          2018   \n",
       "s4957    In this Bollywood entertainment, two journalis...          2018   \n",
       "s5954    With his gift of dream interpretation and his ...          2011   \n",
       "s6007    After her drunken antics result in property da...          2020   \n",
       "s6148    With chiseled good looks that belie his insani...          2019   \n",
       "s6155    When Fievel and friends go hunting for buried ...          2018   \n",
       "s6312    When a boy trades boxing school for ballet les...          2019   \n",
       "s6438    Vying for a spot in the American Ballet Compan...          2020   \n",
       "s6441    When a secretary saves her tycoon boss's life,...          2019   \n",
       "s6544    A young woman in ancient China longs for an ad...          2019   \n",
       "s6644    This sequel introduces Draco the dragon's offs...          2020   \n",
       "s6754    After narrowly avoiding a fatal plane explosio...          2020   \n",
       "s6913    Love blooms when kind-hearted Avinash takes in...          2018   \n",
       "s7014    The Grinch decides to rob Whoville of Christma...          2017   \n",
       "s7248    A young university student's world is shaken a...          2018   \n",
       "s7317    The devil sends his sweet son Nicky to Earth t...          2020   \n",
       "s7703    After witnessing a murder, a meek family man m...          2017   \n",
       "s7802    A notorious terrorist manipulates an Indian ar...          2018   \n",
       "s7956    The Wayans brothers spoof some of Hollywood's ...          2020   \n",
       "s7963    This installment of the tongue-in-cheek horror...          2019   \n",
       "s8197    Framed for the murder of an ambassador, a form...          2020   \n",
       "s8306    Yabba-dabba-doo! Digital dinosaurs rule the da...          2019   \n",
       "s8723    When Claire Spencer starts hearing ghostly voi...          2020   \n",
       "s8730    Paul Newman proves he's still got prodigious a...          2020   \n",
       "\n",
       "        loading_Month Minutes Units  \n",
       "show_id                              \n",
       "s181        September     107   min  \n",
       "s351           August     130   min  \n",
       "s360           August     111   min  \n",
       "s567             July      98   min  \n",
       "s594             July      89   min  \n",
       "s780             June     118   min  \n",
       "s953              May      99   min  \n",
       "s3473         October      79   min  \n",
       "s4546         October      56   min  \n",
       "s4724          August     163   min  \n",
       "s4957           April     159   min  \n",
       "s5954       September      75   min  \n",
       "s6007       September     104   min  \n",
       "s6148       September     102   min  \n",
       "s6155           April      79   min  \n",
       "s6312        February     110   min  \n",
       "s6438         January     116   min  \n",
       "s6441        December     132   min  \n",
       "s6544           March     120   min  \n",
       "s6644         January      84   min  \n",
       "s6754         January      98   min  \n",
       "s6913           March     158   min  \n",
       "s7014            June     105   min  \n",
       "s7248           April     149   min  \n",
       "s7317        December      90   min  \n",
       "s7703        December     137   min  \n",
       "s7802           March     165   min  \n",
       "s7956         January      88   min  \n",
       "s7963            July     117   min  \n",
       "s8197            July     117   min  \n",
       "s8306         October      91   min  \n",
       "s8723         January     130   min  \n",
       "s8730         January      89   min  "
      ]
     },
     "execution_count": 37,
     "metadata": {},
     "output_type": "execute_result"
    }
   ],
   "source": [
    "df[(df['type']=='Movie' )& (df['release_year']==2000)]"
   ]
  },
  {
   "cell_type": "code",
   "execution_count": 38,
   "id": "51ccb965",
   "metadata": {
    "execution": {
     "iopub.execute_input": "2024-01-18T13:44:48.528524Z",
     "iopub.status.busy": "2024-01-18T13:44:48.528082Z",
     "iopub.status.idle": "2024-01-18T13:44:48.535906Z",
     "shell.execute_reply": "2024-01-18T13:44:48.534129Z"
    },
    "papermill": {
     "duration": 0.03941,
     "end_time": "2024-01-18T13:44:48.538458",
     "exception": false,
     "start_time": "2024-01-18T13:44:48.499048",
     "status": "completed"
    },
    "tags": []
   },
   "outputs": [
    {
     "name": "stdout",
     "output_type": "stream",
     "text": [
      "There are : 33 Movie released in 2000\n"
     ]
    }
   ],
   "source": [
    "print(\"There are :\",len(df[(df['type']=='Movie' )& (df['release_year']==2000)]),\"Movie released in 2000\")\n",
    "#print(\"There are :\",df[(df['type']=='Movie' )& (df['release_year']==2000)].shape[0],\"Movie released in 2000\") #another way"
   ]
  },
  {
   "cell_type": "markdown",
   "id": "03f15957",
   "metadata": {
    "papermill": {
     "duration": 0.026469,
     "end_time": "2024-01-18T13:44:48.591568",
     "exception": false,
     "start_time": "2024-01-18T13:44:48.565099",
     "status": "completed"
    },
    "tags": []
   },
   "source": [
    "<h3>show only titles of all TV Shows that released in Egypt "
   ]
  },
  {
   "cell_type": "code",
   "execution_count": 39,
   "id": "8a8c540c",
   "metadata": {
    "execution": {
     "iopub.execute_input": "2024-01-18T13:44:48.643665Z",
     "iopub.status.busy": "2024-01-18T13:44:48.642275Z",
     "iopub.status.idle": "2024-01-18T13:44:48.653865Z",
     "shell.execute_reply": "2024-01-18T13:44:48.652665Z"
    },
    "papermill": {
     "duration": 0.040303,
     "end_time": "2024-01-18T13:44:48.655967",
     "exception": false,
     "start_time": "2024-01-18T13:44:48.615664",
     "status": "completed"
    },
    "tags": []
   },
   "outputs": [
    {
     "data": {
      "text/plain": [
       "show_id\n",
       "s1202    Abla Fahita: Drama Queen\n",
       "s1230                      My Way\n",
       "s1571            Once Upon a Time\n",
       "s1659                   Valentino\n",
       "s1738                  Paranormal\n",
       "s4023                 More to Say\n",
       "s4024       The Land of Hypocrisy\n",
       "s4027              Eugenie Nights\n",
       "s4028                This Evening\n",
       "s4031               Disappearance\n",
       "s4126    The Last of the Schmucks\n",
       "s4127               Hidden Worlds\n",
       "s4131                       Tayee\n",
       "s4985          Secret of the Nile\n",
       "Name: title, dtype: object"
      ]
     },
     "execution_count": 39,
     "metadata": {},
     "output_type": "execute_result"
    }
   ],
   "source": [
    "df[(df['type']=='TV Show')&(df['country']=='Egypt') ]['title']"
   ]
  },
  {
   "cell_type": "code",
   "execution_count": 40,
   "id": "4146eeff",
   "metadata": {
    "execution": {
     "iopub.execute_input": "2024-01-18T13:44:48.706913Z",
     "iopub.status.busy": "2024-01-18T13:44:48.706544Z",
     "iopub.status.idle": "2024-01-18T13:44:48.715713Z",
     "shell.execute_reply": "2024-01-18T13:44:48.714595Z"
    },
    "papermill": {
     "duration": 0.037987,
     "end_time": "2024-01-18T13:44:48.718199",
     "exception": false,
     "start_time": "2024-01-18T13:44:48.680212",
     "status": "completed"
    },
    "tags": []
   },
   "outputs": [
    {
     "data": {
      "text/plain": [
       "array(['Movie', 'TV Show'], dtype=object)"
      ]
     },
     "execution_count": 40,
     "metadata": {},
     "output_type": "execute_result"
    }
   ],
   "source": [
    "df['type'].unique()"
   ]
  },
  {
   "cell_type": "code",
   "execution_count": 41,
   "id": "1483f2f3",
   "metadata": {
    "execution": {
     "iopub.execute_input": "2024-01-18T13:44:48.770895Z",
     "iopub.status.busy": "2024-01-18T13:44:48.770333Z",
     "iopub.status.idle": "2024-01-18T13:44:48.777157Z",
     "shell.execute_reply": "2024-01-18T13:44:48.776443Z"
    },
    "papermill": {
     "duration": 0.036386,
     "end_time": "2024-01-18T13:44:48.779145",
     "exception": false,
     "start_time": "2024-01-18T13:44:48.742759",
     "status": "completed"
    },
    "tags": []
   },
   "outputs": [
    {
     "name": "stdout",
     "output_type": "stream",
     "text": [
      "There are : 14 TV Shows that released in Egypt \n"
     ]
    }
   ],
   "source": [
    "print(\"There are :\",len(df[(df['type']=='TV Show')&(df['country']=='Egypt') ]),\"TV Shows that released in Egypt \")\n",
    "#print(\"There are :\",df[(df['type']=='TV Show')&(df['country']=='Egypt') ].shape[0],\"TV Shows that released in Egypt only\") #another way"
   ]
  },
  {
   "cell_type": "markdown",
   "id": "9d3ec402",
   "metadata": {
    "papermill": {
     "duration": 0.024771,
     "end_time": "2024-01-18T13:44:48.828283",
     "exception": false,
     "start_time": "2024-01-18T13:44:48.803512",
     "status": "completed"
    },
    "tags": []
   },
   "source": [
    "<h3>Show top 15 directors , who gave the heighest num of Movies and TV Shows to Netflex"
   ]
  },
  {
   "cell_type": "code",
   "execution_count": 42,
   "id": "3380881b",
   "metadata": {
    "execution": {
     "iopub.execute_input": "2024-01-18T13:44:48.878089Z",
     "iopub.status.busy": "2024-01-18T13:44:48.876829Z",
     "iopub.status.idle": "2024-01-18T13:44:48.889108Z",
     "shell.execute_reply": "2024-01-18T13:44:48.887658Z"
    },
    "papermill": {
     "duration": 0.03963,
     "end_time": "2024-01-18T13:44:48.891709",
     "exception": false,
     "start_time": "2024-01-18T13:44:48.852079",
     "status": "completed"
    },
    "tags": []
   },
   "outputs": [
    {
     "data": {
      "text/plain": [
       "director\n",
       "Rajiv Chilaka             19\n",
       "Raúl Campos, Jan Suter    18\n",
       "Suhas Kadav               16\n",
       "Marcus Raboy              16\n",
       "Jay Karas                 14\n",
       "Cathy Garcia-Molina       13\n",
       "Martin Scorsese           12\n",
       "Jay Chapman               12\n",
       "Youssef Chahine           12\n",
       "Steven Spielberg          11\n",
       "Name: count, dtype: int64"
      ]
     },
     "execution_count": 42,
     "metadata": {},
     "output_type": "execute_result"
    }
   ],
   "source": [
    "df['director'].value_counts().iloc[1:11]\n",
    "#we start from index 1 as 0 is unknown \"Nan\""
   ]
  },
  {
   "cell_type": "code",
   "execution_count": 43,
   "id": "69754089",
   "metadata": {
    "execution": {
     "iopub.execute_input": "2024-01-18T13:44:48.944423Z",
     "iopub.status.busy": "2024-01-18T13:44:48.943986Z",
     "iopub.status.idle": "2024-01-18T13:44:48.954655Z",
     "shell.execute_reply": "2024-01-18T13:44:48.952841Z"
    },
    "papermill": {
     "duration": 0.04118,
     "end_time": "2024-01-18T13:44:48.957852",
     "exception": false,
     "start_time": "2024-01-18T13:44:48.916672",
     "status": "completed"
    },
    "tags": []
   },
   "outputs": [
    {
     "name": "stdout",
     "output_type": "stream",
     "text": [
      "first top 10 are:\n",
      "1 >> Rajiv Chilaka\n",
      "2 >> Raúl Campos, Jan Suter\n",
      "3 >> Suhas Kadav\n",
      "4 >> Marcus Raboy\n",
      "5 >> Jay Karas\n",
      "6 >> Cathy Garcia-Molina\n",
      "7 >> Martin Scorsese\n",
      "8 >> Jay Chapman\n",
      "9 >> Youssef Chahine\n",
      "10 >> Steven Spielberg\n"
     ]
    }
   ],
   "source": [
    "print(\"first top 10 are:\")\n",
    "i=0\n",
    "for name in df['director'].value_counts().iloc[1:11].index:\n",
    "    i+=1\n",
    "    print(i,\">>\",name)"
   ]
  },
  {
   "cell_type": "code",
   "execution_count": 44,
   "id": "c7f588d4",
   "metadata": {
    "execution": {
     "iopub.execute_input": "2024-01-18T13:44:49.008462Z",
     "iopub.status.busy": "2024-01-18T13:44:49.008040Z",
     "iopub.status.idle": "2024-01-18T13:44:49.266158Z",
     "shell.execute_reply": "2024-01-18T13:44:49.265062Z"
    },
    "papermill": {
     "duration": 0.28685,
     "end_time": "2024-01-18T13:44:49.268446",
     "exception": false,
     "start_time": "2024-01-18T13:44:48.981596",
     "status": "completed"
    },
    "tags": []
   },
   "outputs": [
    {
     "data": {
      "image/png": "[encoded data removed]",
      "text/plain": [
       "<Figure size 800x800 with 1 Axes>"
      ]
     },
     "metadata": {},
     "output_type": "display_data"
    }
   ],
   "source": [
    "data = df['director'].value_counts().iloc[1:11].to_dict()\n",
    "df2 = pd.DataFrame(list(data.items()), columns=['Director', 'Count'])\n",
    "explode = (0.1, 0, 0,0,0,0,0,0,0,0)\n",
    "# Plot the pie chart\n",
    "plt.figure(figsize=(8, 8))\n",
    "plt.pie(df2['Count'], labels=df2['Director'], autopct='%1.1f%%', startangle=90, colors=sns.color_palette('viridis', n_colors=10),explode=explode)\n",
    "plt.title('Top 10 Directors')\n",
    "plt.show()\n",
    "\n",
    "\n"
   ]
  },
  {
   "cell_type": "markdown",
   "id": "a9dbde26",
   "metadata": {
    "papermill": {
     "duration": 0.024991,
     "end_time": "2024-01-18T13:44:49.319996",
     "exception": false,
     "start_time": "2024-01-18T13:44:49.295005",
     "status": "completed"
    },
    "tags": []
   },
   "source": [
    "<h3>Show all Movies that is directord by \"Youssef Chahine\" in Egypt"
   ]
  },
  {
   "cell_type": "code",
   "execution_count": 45,
   "id": "d3810499",
   "metadata": {
    "execution": {
     "iopub.execute_input": "2024-01-18T13:44:49.375475Z",
     "iopub.status.busy": "2024-01-18T13:44:49.375027Z",
     "iopub.status.idle": "2024-01-18T13:44:49.399784Z",
     "shell.execute_reply": "2024-01-18T13:44:49.398286Z"
    },
    "papermill": {
     "duration": 0.056322,
     "end_time": "2024-01-18T13:44:49.401749",
     "exception": false,
     "start_time": "2024-01-18T13:44:49.345427",
     "status": "completed"
    },
    "tags": []
   },
   "outputs": [
    {
     "data": {
      "text/html": [
       "<div>\n",
       "<style scoped>\n",
       "    .dataframe tbody tr th:only-of-type {\n",
       "        vertical-align: middle;\n",
       "    }\n",
       "\n",
       "    .dataframe tbody tr th {\n",
       "        vertical-align: top;\n",
       "    }\n",
       "\n",
       "    .dataframe thead th {\n",
       "        text-align: right;\n",
       "    }\n",
       "</style>\n",
       "<table border=\"1\" class=\"dataframe\">\n",
       "  <thead>\n",
       "    <tr style=\"text-align: right;\">\n",
       "      <th></th>\n",
       "      <th>type</th>\n",
       "      <th>title</th>\n",
       "      <th>director</th>\n",
       "      <th>cast</th>\n",
       "      <th>country</th>\n",
       "      <th>release_year</th>\n",
       "      <th>rating</th>\n",
       "      <th>duration</th>\n",
       "      <th>listed_in</th>\n",
       "      <th>description</th>\n",
       "      <th>loading_Year</th>\n",
       "      <th>loading_Month</th>\n",
       "      <th>Minutes</th>\n",
       "      <th>Units</th>\n",
       "    </tr>\n",
       "    <tr>\n",
       "      <th>show_id</th>\n",
       "      <th></th>\n",
       "      <th></th>\n",
       "      <th></th>\n",
       "      <th></th>\n",
       "      <th></th>\n",
       "      <th></th>\n",
       "      <th></th>\n",
       "      <th></th>\n",
       "      <th></th>\n",
       "      <th></th>\n",
       "      <th></th>\n",
       "      <th></th>\n",
       "      <th></th>\n",
       "      <th></th>\n",
       "    </tr>\n",
       "  </thead>\n",
       "  <tbody>\n",
       "    <tr>\n",
       "      <th>s530</th>\n",
       "      <td>Movie</td>\n",
       "      <td>Return of the Prodigal Son</td>\n",
       "      <td>Youssef Chahine</td>\n",
       "      <td>Majida El Roumi, Souheir El Morshidy, Shoukry ...</td>\n",
       "      <td>Egypt</td>\n",
       "      <td>1976</td>\n",
       "      <td>TV-MA</td>\n",
       "      <td>124 min</td>\n",
       "      <td>Dramas, International Movies</td>\n",
       "      <td>Freed after spending 12 years in jail, a man's...</td>\n",
       "      <td>2021</td>\n",
       "      <td>July</td>\n",
       "      <td>124</td>\n",
       "      <td>min</td>\n",
       "    </tr>\n",
       "    <tr>\n",
       "      <th>s2368</th>\n",
       "      <td>Movie</td>\n",
       "      <td>An Egyptian Story</td>\n",
       "      <td>Youssef Chahine</td>\n",
       "      <td>Nour El-Sherif, Magda El-Khatib, Yousra, Mohse...</td>\n",
       "      <td>Egypt</td>\n",
       "      <td>1982</td>\n",
       "      <td>TV-MA</td>\n",
       "      <td>129 min</td>\n",
       "      <td>Classic Movies, Dramas, Independent Movies</td>\n",
       "      <td>While undergoing heart surgery in London, Yehi...</td>\n",
       "      <td>2020</td>\n",
       "      <td>June</td>\n",
       "      <td>129</td>\n",
       "      <td>min</td>\n",
       "    </tr>\n",
       "    <tr>\n",
       "      <th>s2369</th>\n",
       "      <td>Movie</td>\n",
       "      <td>Cairo Station</td>\n",
       "      <td>Youssef Chahine</td>\n",
       "      <td>Farid Shawqy, Hind Rostom, Youssef Chahine, Ha...</td>\n",
       "      <td>Egypt</td>\n",
       "      <td>1958</td>\n",
       "      <td>TV-14</td>\n",
       "      <td>73 min</td>\n",
       "      <td>Classic Movies, Dramas, International Movies</td>\n",
       "      <td>A Cairo newsstand vendor's fantasies morph int...</td>\n",
       "      <td>2020</td>\n",
       "      <td>June</td>\n",
       "      <td>73</td>\n",
       "      <td>min</td>\n",
       "    </tr>\n",
       "    <tr>\n",
       "      <th>s2370</th>\n",
       "      <td>Movie</td>\n",
       "      <td>Dark Waters</td>\n",
       "      <td>Youssef Chahine</td>\n",
       "      <td>Faten Hamama, Omar Sharif, Ahmed Ramzy, Hussei...</td>\n",
       "      <td>Egypt</td>\n",
       "      <td>1956</td>\n",
       "      <td>TV-14</td>\n",
       "      <td>104 min</td>\n",
       "      <td>Classic Movies, Dramas, International Movies</td>\n",
       "      <td>A fisherman returns home after a three-year ab...</td>\n",
       "      <td>2020</td>\n",
       "      <td>June</td>\n",
       "      <td>104</td>\n",
       "      <td>min</td>\n",
       "    </tr>\n",
       "    <tr>\n",
       "      <th>s2374</th>\n",
       "      <td>Movie</td>\n",
       "      <td>Saladin</td>\n",
       "      <td>Youssef Chahine</td>\n",
       "      <td>Ahmad Mazhar, Salah Zo El Faqqar, Nadia Lotfi,...</td>\n",
       "      <td>Egypt</td>\n",
       "      <td>1963</td>\n",
       "      <td>TV-MA</td>\n",
       "      <td>194 min</td>\n",
       "      <td>Action &amp; Adventure, Classic Movies, Dramas</td>\n",
       "      <td>The Sultan of Egypt and Syria launches a campa...</td>\n",
       "      <td>2020</td>\n",
       "      <td>June</td>\n",
       "      <td>194</td>\n",
       "      <td>min</td>\n",
       "    </tr>\n",
       "    <tr>\n",
       "      <th>s2376</th>\n",
       "      <td>Movie</td>\n",
       "      <td>The Blazing Sun</td>\n",
       "      <td>Youssef Chahine</td>\n",
       "      <td>Omar Sharif, Faten Hamama, Zaki Rostom, Farid ...</td>\n",
       "      <td>Egypt</td>\n",
       "      <td>1954</td>\n",
       "      <td>TV-14</td>\n",
       "      <td>116 min</td>\n",
       "      <td>Classic Movies, Dramas, International Movies</td>\n",
       "      <td>Competition between sugar cane producers turns...</td>\n",
       "      <td>2020</td>\n",
       "      <td>June</td>\n",
       "      <td>116</td>\n",
       "      <td>min</td>\n",
       "    </tr>\n",
       "    <tr>\n",
       "      <th>s2377</th>\n",
       "      <td>Movie</td>\n",
       "      <td>The Land</td>\n",
       "      <td>Youssef Chahine</td>\n",
       "      <td>Hamdy Ahmed, Nagwa Ibrahim, Ezzat El Alaili, T...</td>\n",
       "      <td>Egypt</td>\n",
       "      <td>1970</td>\n",
       "      <td>TV-MA</td>\n",
       "      <td>130 min</td>\n",
       "      <td>Classic Movies, Dramas, International Movies</td>\n",
       "      <td>A group of peasant farmers fights to protect t...</td>\n",
       "      <td>2020</td>\n",
       "      <td>June</td>\n",
       "      <td>130</td>\n",
       "      <td>min</td>\n",
       "    </tr>\n",
       "  </tbody>\n",
       "</table>\n",
       "</div>"
      ],
      "text/plain": [
       "          type                       title         director  \\\n",
       "show_id                                                       \n",
       "s530     Movie  Return of the Prodigal Son  Youssef Chahine   \n",
       "s2368    Movie           An Egyptian Story  Youssef Chahine   \n",
       "s2369    Movie               Cairo Station  Youssef Chahine   \n",
       "s2370    Movie                 Dark Waters  Youssef Chahine   \n",
       "s2374    Movie                     Saladin  Youssef Chahine   \n",
       "s2376    Movie             The Blazing Sun  Youssef Chahine   \n",
       "s2377    Movie                    The Land  Youssef Chahine   \n",
       "\n",
       "                                                      cast country  \\\n",
       "show_id                                                              \n",
       "s530     Majida El Roumi, Souheir El Morshidy, Shoukry ...   Egypt   \n",
       "s2368    Nour El-Sherif, Magda El-Khatib, Yousra, Mohse...   Egypt   \n",
       "s2369    Farid Shawqy, Hind Rostom, Youssef Chahine, Ha...   Egypt   \n",
       "s2370    Faten Hamama, Omar Sharif, Ahmed Ramzy, Hussei...   Egypt   \n",
       "s2374    Ahmad Mazhar, Salah Zo El Faqqar, Nadia Lotfi,...   Egypt   \n",
       "s2376    Omar Sharif, Faten Hamama, Zaki Rostom, Farid ...   Egypt   \n",
       "s2377    Hamdy Ahmed, Nagwa Ibrahim, Ezzat El Alaili, T...   Egypt   \n",
       "\n",
       "         release_year rating duration  \\\n",
       "show_id                                 \n",
       "s530             1976  TV-MA  124 min   \n",
       "s2368            1982  TV-MA  129 min   \n",
       "s2369            1958  TV-14   73 min   \n",
       "s2370            1956  TV-14  104 min   \n",
       "s2374            1963  TV-MA  194 min   \n",
       "s2376            1954  TV-14  116 min   \n",
       "s2377            1970  TV-MA  130 min   \n",
       "\n",
       "                                            listed_in  \\\n",
       "show_id                                                 \n",
       "s530                     Dramas, International Movies   \n",
       "s2368      Classic Movies, Dramas, Independent Movies   \n",
       "s2369    Classic Movies, Dramas, International Movies   \n",
       "s2370    Classic Movies, Dramas, International Movies   \n",
       "s2374      Action & Adventure, Classic Movies, Dramas   \n",
       "s2376    Classic Movies, Dramas, International Movies   \n",
       "s2377    Classic Movies, Dramas, International Movies   \n",
       "\n",
       "                                               description  loading_Year  \\\n",
       "show_id                                                                    \n",
       "s530     Freed after spending 12 years in jail, a man's...          2021   \n",
       "s2368    While undergoing heart surgery in London, Yehi...          2020   \n",
       "s2369    A Cairo newsstand vendor's fantasies morph int...          2020   \n",
       "s2370    A fisherman returns home after a three-year ab...          2020   \n",
       "s2374    The Sultan of Egypt and Syria launches a campa...          2020   \n",
       "s2376    Competition between sugar cane producers turns...          2020   \n",
       "s2377    A group of peasant farmers fights to protect t...          2020   \n",
       "\n",
       "        loading_Month Minutes Units  \n",
       "show_id                              \n",
       "s530             July     124   min  \n",
       "s2368            June     129   min  \n",
       "s2369            June      73   min  \n",
       "s2370            June     104   min  \n",
       "s2374            June     194   min  \n",
       "s2376            June     116   min  \n",
       "s2377            June     130   min  "
      ]
     },
     "execution_count": 45,
     "metadata": {},
     "output_type": "execute_result"
    }
   ],
   "source": [
    "df[ (df['type']=='Movie')&(df['director']=='Youssef Chahine') &(df['country']==\"Egypt\")]"
   ]
  },
  {
   "cell_type": "code",
   "execution_count": 46,
   "id": "68e4b016",
   "metadata": {
    "execution": {
     "iopub.execute_input": "2024-01-18T13:44:49.455462Z",
     "iopub.status.busy": "2024-01-18T13:44:49.454835Z",
     "iopub.status.idle": "2024-01-18T13:44:49.469666Z",
     "shell.execute_reply": "2024-01-18T13:44:49.468148Z"
    },
    "papermill": {
     "duration": 0.04492,
     "end_time": "2024-01-18T13:44:49.472162",
     "exception": false,
     "start_time": "2024-01-18T13:44:49.427242",
     "status": "completed"
    },
    "tags": []
   },
   "outputs": [
    {
     "name": "stdout",
     "output_type": "stream",
     "text": [
      "Youssef Chahine made  7 Movies in Egypt\n"
     ]
    }
   ],
   "source": [
    "print(\"Youssef Chahine made \",len(df[ (df['type']=='Movie')&(df['director']=='Youssef Chahine') &(df['country']==\"Egypt\")]),\"Movies in Egypt\")"
   ]
  },
  {
   "cell_type": "markdown",
   "id": "18244e28",
   "metadata": {
    "papermill": {
     "duration": 0.027981,
     "end_time": "2024-01-18T13:44:49.526019",
     "exception": false,
     "start_time": "2024-01-18T13:44:49.498038",
     "status": "completed"
    },
    "tags": []
   },
   "source": [
    "<h3>In how many Movies and TV shows , duration was 100 minute"
   ]
  },
  {
   "cell_type": "code",
   "execution_count": 47,
   "id": "0d8bc7e1",
   "metadata": {
    "execution": {
     "iopub.execute_input": "2024-01-18T13:44:49.587657Z",
     "iopub.status.busy": "2024-01-18T13:44:49.586862Z",
     "iopub.status.idle": "2024-01-18T13:44:49.616482Z",
     "shell.execute_reply": "2024-01-18T13:44:49.615132Z"
    },
    "papermill": {
     "duration": 0.065353,
     "end_time": "2024-01-18T13:44:49.619304",
     "exception": false,
     "start_time": "2024-01-18T13:44:49.553951",
     "status": "completed"
    },
    "tags": []
   },
   "outputs": [
    {
     "data": {
      "text/html": [
       "<div>\n",
       "<style scoped>\n",
       "    .dataframe tbody tr th:only-of-type {\n",
       "        vertical-align: middle;\n",
       "    }\n",
       "\n",
       "    .dataframe tbody tr th {\n",
       "        vertical-align: top;\n",
       "    }\n",
       "\n",
       "    .dataframe thead th {\n",
       "        text-align: right;\n",
       "    }\n",
       "</style>\n",
       "<table border=\"1\" class=\"dataframe\">\n",
       "  <thead>\n",
       "    <tr style=\"text-align: right;\">\n",
       "      <th></th>\n",
       "      <th>type</th>\n",
       "      <th>title</th>\n",
       "      <th>director</th>\n",
       "      <th>cast</th>\n",
       "      <th>country</th>\n",
       "      <th>release_year</th>\n",
       "      <th>rating</th>\n",
       "      <th>duration</th>\n",
       "      <th>listed_in</th>\n",
       "      <th>description</th>\n",
       "      <th>loading_Year</th>\n",
       "      <th>loading_Month</th>\n",
       "      <th>Minutes</th>\n",
       "      <th>Units</th>\n",
       "    </tr>\n",
       "    <tr>\n",
       "      <th>show_id</th>\n",
       "      <th></th>\n",
       "      <th></th>\n",
       "      <th></th>\n",
       "      <th></th>\n",
       "      <th></th>\n",
       "      <th></th>\n",
       "      <th></th>\n",
       "      <th></th>\n",
       "      <th></th>\n",
       "      <th></th>\n",
       "      <th></th>\n",
       "      <th></th>\n",
       "      <th></th>\n",
       "      <th></th>\n",
       "    </tr>\n",
       "  </thead>\n",
       "  <tbody>\n",
       "    <tr>\n",
       "      <th>s55</th>\n",
       "      <td>Movie</td>\n",
       "      <td>InuYasha the Movie: Affections Touching Across...</td>\n",
       "      <td>Toshiya Shinohara</td>\n",
       "      <td>Kappei Yamaguchi, Satsuki Yukino, Koji Tsujita...</td>\n",
       "      <td>Japan</td>\n",
       "      <td>2001</td>\n",
       "      <td>TV-PG</td>\n",
       "      <td>100 min</td>\n",
       "      <td>Action &amp; Adventure, Anime Features, Internatio...</td>\n",
       "      <td>A powerful demon has been sealed away for 200 ...</td>\n",
       "      <td>2021</td>\n",
       "      <td>September</td>\n",
       "      <td>100</td>\n",
       "      <td>min</td>\n",
       "    </tr>\n",
       "    <tr>\n",
       "      <th>s141</th>\n",
       "      <td>Movie</td>\n",
       "      <td>El patrón, radiografía de un crimen</td>\n",
       "      <td>Sebastián Schindel</td>\n",
       "      <td>Joaquín Furriel, Luis Ziembrowski, Guillermo P...</td>\n",
       "      <td>Argentina, Venezuela</td>\n",
       "      <td>2014</td>\n",
       "      <td>TV-MA</td>\n",
       "      <td>100 min</td>\n",
       "      <td>Dramas, International Movies, Thrillers</td>\n",
       "      <td>A lawyer defends an illiterate man whose explo...</td>\n",
       "      <td>2021</td>\n",
       "      <td>September</td>\n",
       "      <td>100</td>\n",
       "      <td>min</td>\n",
       "    </tr>\n",
       "    <tr>\n",
       "      <th>s301</th>\n",
       "      <td>Movie</td>\n",
       "      <td>Vivo</td>\n",
       "      <td>Kirk DeMicco, Brandon Jeffords</td>\n",
       "      <td>Lin-Manuel Miranda, Ynairaly Simo, Zoe Saldana...</td>\n",
       "      <td>Canada, United States</td>\n",
       "      <td>2021</td>\n",
       "      <td>PG</td>\n",
       "      <td>100 min</td>\n",
       "      <td>Children &amp; Family Movies, Music &amp; Musicals</td>\n",
       "      <td>A music-loving kinkajou embarks on the journey...</td>\n",
       "      <td>2021</td>\n",
       "      <td>August</td>\n",
       "      <td>100</td>\n",
       "      <td>min</td>\n",
       "    </tr>\n",
       "    <tr>\n",
       "      <th>s456</th>\n",
       "      <td>Movie</td>\n",
       "      <td>Emicida: AmarElo - Live in São Paulo</td>\n",
       "      <td>Fred Ouro Preto</td>\n",
       "      <td>Emicida</td>\n",
       "      <td>Unknown</td>\n",
       "      <td>2021</td>\n",
       "      <td>TV-MA</td>\n",
       "      <td>100 min</td>\n",
       "      <td>Documentaries, International Movies, Music &amp; M...</td>\n",
       "      <td>Brazilian rapper Emicida brings his progressiv...</td>\n",
       "      <td>2021</td>\n",
       "      <td>July</td>\n",
       "      <td>100</td>\n",
       "      <td>min</td>\n",
       "    </tr>\n",
       "    <tr>\n",
       "      <th>s462</th>\n",
       "      <td>Movie</td>\n",
       "      <td>The Unknown Saint</td>\n",
       "      <td>Alaa Eddine Aljem</td>\n",
       "      <td>Younes Bouab, Salah Bensalah, Bouchaib Essamak...</td>\n",
       "      <td>Unknown</td>\n",
       "      <td>2019</td>\n",
       "      <td>TV-14</td>\n",
       "      <td>100 min</td>\n",
       "      <td>Comedies, Dramas, Independent Movies</td>\n",
       "      <td>Following a stint behind bars, a thief returns...</td>\n",
       "      <td>2021</td>\n",
       "      <td>July</td>\n",
       "      <td>100</td>\n",
       "      <td>min</td>\n",
       "    </tr>\n",
       "    <tr>\n",
       "      <th>...</th>\n",
       "      <td>...</td>\n",
       "      <td>...</td>\n",
       "      <td>...</td>\n",
       "      <td>...</td>\n",
       "      <td>...</td>\n",
       "      <td>...</td>\n",
       "      <td>...</td>\n",
       "      <td>...</td>\n",
       "      <td>...</td>\n",
       "      <td>...</td>\n",
       "      <td>...</td>\n",
       "      <td>...</td>\n",
       "      <td>...</td>\n",
       "      <td>...</td>\n",
       "    </tr>\n",
       "    <tr>\n",
       "      <th>s8563</th>\n",
       "      <td>Movie</td>\n",
       "      <td>The Women's Balcony</td>\n",
       "      <td>Emil Ben-Shimon</td>\n",
       "      <td>Evelin Hagoel, Igal Naor, Orna Banay, Einat Sa...</td>\n",
       "      <td>Israel</td>\n",
       "      <td>2016</td>\n",
       "      <td>TV-PG</td>\n",
       "      <td>100 min</td>\n",
       "      <td>Comedies, Dramas, Faith &amp; Spirituality</td>\n",
       "      <td>A conservative rabbi steps in to lead a congre...</td>\n",
       "      <td>2017</td>\n",
       "      <td>December</td>\n",
       "      <td>100</td>\n",
       "      <td>min</td>\n",
       "    </tr>\n",
       "    <tr>\n",
       "      <th>s8623</th>\n",
       "      <td>Movie</td>\n",
       "      <td>Tremors 2: Aftershocks</td>\n",
       "      <td>S.S. Wilson</td>\n",
       "      <td>Fred Ward, Chris Gartin, Helen Shaver, Michael...</td>\n",
       "      <td>Unknown</td>\n",
       "      <td>1995</td>\n",
       "      <td>PG-13</td>\n",
       "      <td>100 min</td>\n",
       "      <td>Comedies, Horror Movies, Sci-Fi &amp; Fantasy</td>\n",
       "      <td>A rag-tag team of survivalists and scientists ...</td>\n",
       "      <td>2020</td>\n",
       "      <td>January</td>\n",
       "      <td>100</td>\n",
       "      <td>min</td>\n",
       "    </tr>\n",
       "    <tr>\n",
       "      <th>s8628</th>\n",
       "      <td>Movie</td>\n",
       "      <td>Trespass Against Us</td>\n",
       "      <td>Adam Smith</td>\n",
       "      <td>Michael Fassbender, Brendan Gleeson, Lyndsey M...</td>\n",
       "      <td>United Kingdom</td>\n",
       "      <td>2016</td>\n",
       "      <td>R</td>\n",
       "      <td>100 min</td>\n",
       "      <td>Dramas</td>\n",
       "      <td>A man from a criminal family yearns to break a...</td>\n",
       "      <td>2019</td>\n",
       "      <td>February</td>\n",
       "      <td>100</td>\n",
       "      <td>min</td>\n",
       "    </tr>\n",
       "    <tr>\n",
       "      <th>s8746</th>\n",
       "      <td>Movie</td>\n",
       "      <td>Willy Wonka &amp; the Chocolate Factory</td>\n",
       "      <td>Mel Stuart</td>\n",
       "      <td>Gene Wilder, Jack Albertson, Peter Ostrum, Roy...</td>\n",
       "      <td>United States, East Germany, West Germany</td>\n",
       "      <td>1971</td>\n",
       "      <td>G</td>\n",
       "      <td>100 min</td>\n",
       "      <td>Children &amp; Family Movies, Classic Movies, Come...</td>\n",
       "      <td>Zany Willy Wonka causes a stir when he announc...</td>\n",
       "      <td>2020</td>\n",
       "      <td>January</td>\n",
       "      <td>100</td>\n",
       "      <td>min</td>\n",
       "    </tr>\n",
       "    <tr>\n",
       "      <th>s8751</th>\n",
       "      <td>Movie</td>\n",
       "      <td>Winter's Bone</td>\n",
       "      <td>Debra Granik</td>\n",
       "      <td>Jennifer Lawrence, John Hawkes, Kevin Breznaha...</td>\n",
       "      <td>United States</td>\n",
       "      <td>2010</td>\n",
       "      <td>R</td>\n",
       "      <td>100 min</td>\n",
       "      <td>Dramas, Independent Movies</td>\n",
       "      <td>In this unflinching noir drama, a resilient te...</td>\n",
       "      <td>2019</td>\n",
       "      <td>March</td>\n",
       "      <td>100</td>\n",
       "      <td>min</td>\n",
       "    </tr>\n",
       "  </tbody>\n",
       "</table>\n",
       "<p>108 rows × 14 columns</p>\n",
       "</div>"
      ],
      "text/plain": [
       "          type                                              title  \\\n",
       "show_id                                                             \n",
       "s55      Movie  InuYasha the Movie: Affections Touching Across...   \n",
       "s141     Movie                El patrón, radiografía de un crimen   \n",
       "s301     Movie                                               Vivo   \n",
       "s456     Movie               Emicida: AmarElo - Live in São Paulo   \n",
       "s462     Movie                                  The Unknown Saint   \n",
       "...        ...                                                ...   \n",
       "s8563    Movie                                The Women's Balcony   \n",
       "s8623    Movie                             Tremors 2: Aftershocks   \n",
       "s8628    Movie                                Trespass Against Us   \n",
       "s8746    Movie                Willy Wonka & the Chocolate Factory   \n",
       "s8751    Movie                                      Winter's Bone   \n",
       "\n",
       "                               director  \\\n",
       "show_id                                   \n",
       "s55                   Toshiya Shinohara   \n",
       "s141                 Sebastián Schindel   \n",
       "s301     Kirk DeMicco, Brandon Jeffords   \n",
       "s456                    Fred Ouro Preto   \n",
       "s462                  Alaa Eddine Aljem   \n",
       "...                                 ...   \n",
       "s8563                   Emil Ben-Shimon   \n",
       "s8623                       S.S. Wilson   \n",
       "s8628                        Adam Smith   \n",
       "s8746                        Mel Stuart   \n",
       "s8751                      Debra Granik   \n",
       "\n",
       "                                                      cast  \\\n",
       "show_id                                                      \n",
       "s55      Kappei Yamaguchi, Satsuki Yukino, Koji Tsujita...   \n",
       "s141     Joaquín Furriel, Luis Ziembrowski, Guillermo P...   \n",
       "s301     Lin-Manuel Miranda, Ynairaly Simo, Zoe Saldana...   \n",
       "s456                                               Emicida   \n",
       "s462     Younes Bouab, Salah Bensalah, Bouchaib Essamak...   \n",
       "...                                                    ...   \n",
       "s8563    Evelin Hagoel, Igal Naor, Orna Banay, Einat Sa...   \n",
       "s8623    Fred Ward, Chris Gartin, Helen Shaver, Michael...   \n",
       "s8628    Michael Fassbender, Brendan Gleeson, Lyndsey M...   \n",
       "s8746    Gene Wilder, Jack Albertson, Peter Ostrum, Roy...   \n",
       "s8751    Jennifer Lawrence, John Hawkes, Kevin Breznaha...   \n",
       "\n",
       "                                           country  release_year rating  \\\n",
       "show_id                                                                   \n",
       "s55                                          Japan          2001  TV-PG   \n",
       "s141                          Argentina, Venezuela          2014  TV-MA   \n",
       "s301                         Canada, United States          2021     PG   \n",
       "s456                                      Unknown           2021  TV-MA   \n",
       "s462                                      Unknown           2019  TV-14   \n",
       "...                                            ...           ...    ...   \n",
       "s8563                                       Israel          2016  TV-PG   \n",
       "s8623                                     Unknown           1995  PG-13   \n",
       "s8628                               United Kingdom          2016      R   \n",
       "s8746    United States, East Germany, West Germany          1971      G   \n",
       "s8751                                United States          2010      R   \n",
       "\n",
       "        duration                                          listed_in  \\\n",
       "show_id                                                               \n",
       "s55      100 min  Action & Adventure, Anime Features, Internatio...   \n",
       "s141     100 min            Dramas, International Movies, Thrillers   \n",
       "s301     100 min         Children & Family Movies, Music & Musicals   \n",
       "s456     100 min  Documentaries, International Movies, Music & M...   \n",
       "s462     100 min               Comedies, Dramas, Independent Movies   \n",
       "...          ...                                                ...   \n",
       "s8563    100 min             Comedies, Dramas, Faith & Spirituality   \n",
       "s8623    100 min          Comedies, Horror Movies, Sci-Fi & Fantasy   \n",
       "s8628    100 min                                             Dramas   \n",
       "s8746    100 min  Children & Family Movies, Classic Movies, Come...   \n",
       "s8751    100 min                         Dramas, Independent Movies   \n",
       "\n",
       "                                               description  loading_Year  \\\n",
       "show_id                                                                    \n",
       "s55      A powerful demon has been sealed away for 200 ...          2021   \n",
       "s141     A lawyer defends an illiterate man whose explo...          2021   \n",
       "s301     A music-loving kinkajou embarks on the journey...          2021   \n",
       "s456     Brazilian rapper Emicida brings his progressiv...          2021   \n",
       "s462     Following a stint behind bars, a thief returns...          2021   \n",
       "...                                                    ...           ...   \n",
       "s8563    A conservative rabbi steps in to lead a congre...          2017   \n",
       "s8623    A rag-tag team of survivalists and scientists ...          2020   \n",
       "s8628    A man from a criminal family yearns to break a...          2019   \n",
       "s8746    Zany Willy Wonka causes a stir when he announc...          2020   \n",
       "s8751    In this unflinching noir drama, a resilient te...          2019   \n",
       "\n",
       "        loading_Month Minutes Units  \n",
       "show_id                              \n",
       "s55         September     100   min  \n",
       "s141        September     100   min  \n",
       "s301           August     100   min  \n",
       "s456             July     100   min  \n",
       "s462             July     100   min  \n",
       "...               ...     ...   ...  \n",
       "s8563        December     100   min  \n",
       "s8623         January     100   min  \n",
       "s8628        February     100   min  \n",
       "s8746         January     100   min  \n",
       "s8751           March     100   min  \n",
       "\n",
       "[108 rows x 14 columns]"
      ]
     },
     "execution_count": 47,
     "metadata": {},
     "output_type": "execute_result"
    }
   ],
   "source": [
    "df[df['duration']=='100 min']"
   ]
  },
  {
   "cell_type": "code",
   "execution_count": 48,
   "id": "4a9452db",
   "metadata": {
    "execution": {
     "iopub.execute_input": "2024-01-18T13:44:49.682616Z",
     "iopub.status.busy": "2024-01-18T13:44:49.682127Z",
     "iopub.status.idle": "2024-01-18T13:44:49.689586Z",
     "shell.execute_reply": "2024-01-18T13:44:49.688772Z"
    },
    "papermill": {
     "duration": 0.042757,
     "end_time": "2024-01-18T13:44:49.691554",
     "exception": false,
     "start_time": "2024-01-18T13:44:49.648797",
     "status": "completed"
    },
    "tags": []
   },
   "outputs": [
    {
     "name": "stdout",
     "output_type": "stream",
     "text": [
      "108 Movies and TV shows have a duration  100 minute\n"
     ]
    }
   ],
   "source": [
    "print(len(df[df['duration']=='100 min']) ,\"Movies and TV shows have a duration  100 minute\")"
   ]
  },
  {
   "cell_type": "markdown",
   "id": "c487368c",
   "metadata": {
    "papermill": {
     "duration": 0.033074,
     "end_time": "2024-01-18T13:44:49.752297",
     "exception": false,
     "start_time": "2024-01-18T13:44:49.719223",
     "status": "completed"
    },
    "tags": []
   },
   "source": [
    "<h3>Show different Ratings defned by Netfilx"
   ]
  },
  {
   "cell_type": "code",
   "execution_count": 49,
   "id": "50181815",
   "metadata": {
    "execution": {
     "iopub.execute_input": "2024-01-18T13:44:49.832922Z",
     "iopub.status.busy": "2024-01-18T13:44:49.832473Z",
     "iopub.status.idle": "2024-01-18T13:44:49.840555Z",
     "shell.execute_reply": "2024-01-18T13:44:49.838537Z"
    },
    "papermill": {
     "duration": 0.04855,
     "end_time": "2024-01-18T13:44:49.843295",
     "exception": false,
     "start_time": "2024-01-18T13:44:49.794745",
     "status": "completed"
    },
    "tags": []
   },
   "outputs": [
    {
     "data": {
      "text/plain": [
       "Index(['type', 'title', 'director', 'cast', 'country', 'release_year',\n",
       "       'rating', 'duration', 'listed_in', 'description', 'loading_Year',\n",
       "       'loading_Month', 'Minutes', 'Units'],\n",
       "      dtype='object')"
      ]
     },
     "execution_count": 49,
     "metadata": {},
     "output_type": "execute_result"
    }
   ],
   "source": [
    "df.columns"
   ]
  },
  {
   "cell_type": "code",
   "execution_count": 50,
   "id": "6d3a835f",
   "metadata": {
    "execution": {
     "iopub.execute_input": "2024-01-18T13:44:49.904025Z",
     "iopub.status.busy": "2024-01-18T13:44:49.903662Z",
     "iopub.status.idle": "2024-01-18T13:44:49.912142Z",
     "shell.execute_reply": "2024-01-18T13:44:49.910626Z"
    },
    "papermill": {
     "duration": 0.042544,
     "end_time": "2024-01-18T13:44:49.915261",
     "exception": false,
     "start_time": "2024-01-18T13:44:49.872717",
     "status": "completed"
    },
    "tags": []
   },
   "outputs": [
    {
     "data": {
      "text/plain": [
       "array(['PG-13', 'TV-MA', 'PG', 'TV-14', 'TV-PG', 'TV-Y', 'TV-Y7', 'R',\n",
       "       'TV-G', 'G', 'NC-17', 'NR', 'TV-Y7-FV', 'UR'], dtype=object)"
      ]
     },
     "execution_count": 50,
     "metadata": {},
     "output_type": "execute_result"
    }
   ],
   "source": [
    "df['rating'].unique()"
   ]
  },
  {
   "cell_type": "markdown",
   "id": "6e42cab2",
   "metadata": {
    "execution": {
     "iopub.execute_input": "2024-01-07T15:04:13.665286Z",
     "iopub.status.busy": "2024-01-07T15:04:13.664500Z",
     "iopub.status.idle": "2024-01-07T15:04:13.674035Z",
     "shell.execute_reply": "2024-01-07T15:04:13.671885Z",
     "shell.execute_reply.started": "2024-01-07T15:04:13.665244Z"
    },
    "papermill": {
     "duration": 0.026854,
     "end_time": "2024-01-18T13:44:49.969041",
     "exception": false,
     "start_time": "2024-01-18T13:44:49.942187",
     "status": "completed"
    },
    "tags": []
   },
   "source": [
    "<h3>How many Movies got \"TV-14\" in \"Germany\""
   ]
  },
  {
   "cell_type": "code",
   "execution_count": 51,
   "id": "9d8092d6",
   "metadata": {
    "execution": {
     "iopub.execute_input": "2024-01-18T13:44:50.026121Z",
     "iopub.status.busy": "2024-01-18T13:44:50.025734Z",
     "iopub.status.idle": "2024-01-18T13:44:50.049657Z",
     "shell.execute_reply": "2024-01-18T13:44:50.048125Z"
    },
    "papermill": {
     "duration": 0.057062,
     "end_time": "2024-01-18T13:44:50.052106",
     "exception": false,
     "start_time": "2024-01-18T13:44:49.995044",
     "status": "completed"
    },
    "tags": []
   },
   "outputs": [
    {
     "data": {
      "text/html": [
       "<div>\n",
       "<style scoped>\n",
       "    .dataframe tbody tr th:only-of-type {\n",
       "        vertical-align: middle;\n",
       "    }\n",
       "\n",
       "    .dataframe tbody tr th {\n",
       "        vertical-align: top;\n",
       "    }\n",
       "\n",
       "    .dataframe thead th {\n",
       "        text-align: right;\n",
       "    }\n",
       "</style>\n",
       "<table border=\"1\" class=\"dataframe\">\n",
       "  <thead>\n",
       "    <tr style=\"text-align: right;\">\n",
       "      <th></th>\n",
       "      <th>type</th>\n",
       "      <th>title</th>\n",
       "      <th>director</th>\n",
       "      <th>cast</th>\n",
       "      <th>country</th>\n",
       "      <th>release_year</th>\n",
       "      <th>rating</th>\n",
       "      <th>duration</th>\n",
       "      <th>listed_in</th>\n",
       "      <th>description</th>\n",
       "      <th>loading_Year</th>\n",
       "      <th>loading_Month</th>\n",
       "      <th>Minutes</th>\n",
       "      <th>Units</th>\n",
       "    </tr>\n",
       "    <tr>\n",
       "      <th>show_id</th>\n",
       "      <th></th>\n",
       "      <th></th>\n",
       "      <th></th>\n",
       "      <th></th>\n",
       "      <th></th>\n",
       "      <th></th>\n",
       "      <th></th>\n",
       "      <th></th>\n",
       "      <th></th>\n",
       "      <th></th>\n",
       "      <th></th>\n",
       "      <th></th>\n",
       "      <th></th>\n",
       "      <th></th>\n",
       "    </tr>\n",
       "  </thead>\n",
       "  <tbody>\n",
       "    <tr>\n",
       "      <th>s706</th>\n",
       "      <td>Movie</td>\n",
       "      <td>Biking Borders</td>\n",
       "      <td>Max Jabs</td>\n",
       "      <td>Max Jabs, Nono Konopka</td>\n",
       "      <td>Germany</td>\n",
       "      <td>2019</td>\n",
       "      <td>TV-14</td>\n",
       "      <td>89 min</td>\n",
       "      <td>Documentaries, International Movies, Sports Mo...</td>\n",
       "      <td>Best friends Max and Nono bike from Berlin to ...</td>\n",
       "      <td>2021</td>\n",
       "      <td>June</td>\n",
       "      <td>89</td>\n",
       "      <td>min</td>\n",
       "    </tr>\n",
       "    <tr>\n",
       "      <th>s1032</th>\n",
       "      <td>Movie</td>\n",
       "      <td>Into the Beat</td>\n",
       "      <td>Stefan Westerwelle</td>\n",
       "      <td>Alexandra Pfeifer, Yalany Marschner, Trystan P...</td>\n",
       "      <td>Germany</td>\n",
       "      <td>2020</td>\n",
       "      <td>TV-14</td>\n",
       "      <td>102 min</td>\n",
       "      <td>Dramas, International Movies, Romantic Movies</td>\n",
       "      <td>A teen ballerina discovers hip-hop by chance a...</td>\n",
       "      <td>2021</td>\n",
       "      <td>April</td>\n",
       "      <td>102</td>\n",
       "      <td>min</td>\n",
       "    </tr>\n",
       "    <tr>\n",
       "      <th>s1253</th>\n",
       "      <td>Movie</td>\n",
       "      <td>How to Be Really Bad</td>\n",
       "      <td>Marco Petry</td>\n",
       "      <td>Emma Bading, Janina Fautz, Ludwig Simon, Samue...</td>\n",
       "      <td>Germany</td>\n",
       "      <td>2018</td>\n",
       "      <td>TV-14</td>\n",
       "      <td>100 min</td>\n",
       "      <td>Comedies, International Movies</td>\n",
       "      <td>The devil's sassy (and bored) daughter makes a...</td>\n",
       "      <td>2021</td>\n",
       "      <td>March</td>\n",
       "      <td>100</td>\n",
       "      <td>min</td>\n",
       "    </tr>\n",
       "    <tr>\n",
       "      <th>s4872</th>\n",
       "      <td>Movie</td>\n",
       "      <td>My Fuhrer</td>\n",
       "      <td>Dani Levy</td>\n",
       "      <td>Helge Schneider, Ulrich Mühe, Sylvester Groth,...</td>\n",
       "      <td>Germany</td>\n",
       "      <td>2007</td>\n",
       "      <td>TV-14</td>\n",
       "      <td>91 min</td>\n",
       "      <td>Comedies, International Movies</td>\n",
       "      <td>Germany's most celebrated actor is commissione...</td>\n",
       "      <td>2018</td>\n",
       "      <td>May</td>\n",
       "      <td>91</td>\n",
       "      <td>min</td>\n",
       "    </tr>\n",
       "    <tr>\n",
       "      <th>s5012</th>\n",
       "      <td>Movie</td>\n",
       "      <td>Schubert In Love</td>\n",
       "      <td>Lars Büchel</td>\n",
       "      <td>Olaf Schubert, Mario Adorf, Marie Leuenberger,...</td>\n",
       "      <td>Germany</td>\n",
       "      <td>2016</td>\n",
       "      <td>TV-14</td>\n",
       "      <td>94 min</td>\n",
       "      <td>Comedies, International Movies</td>\n",
       "      <td>The last of his family line, Olaf Schubert doe...</td>\n",
       "      <td>2018</td>\n",
       "      <td>March</td>\n",
       "      <td>94</td>\n",
       "      <td>min</td>\n",
       "    </tr>\n",
       "    <tr>\n",
       "      <th>s5107</th>\n",
       "      <td>Movie</td>\n",
       "      <td>Bibi &amp; Tina: Tohuwabohu Total</td>\n",
       "      <td>Detlev Buck</td>\n",
       "      <td>Lina Larissa Strahl, Lisa-Marie Koroll, Louis ...</td>\n",
       "      <td>Germany</td>\n",
       "      <td>2017</td>\n",
       "      <td>TV-14</td>\n",
       "      <td>106 min</td>\n",
       "      <td>Children &amp; Family Movies, Music &amp; Musicals</td>\n",
       "      <td>Teen witch Bibi and her pal Tina return to the...</td>\n",
       "      <td>2017</td>\n",
       "      <td>December</td>\n",
       "      <td>106</td>\n",
       "      <td>min</td>\n",
       "    </tr>\n",
       "    <tr>\n",
       "      <th>s5528</th>\n",
       "      <td>Movie</td>\n",
       "      <td>Bibi &amp; Tina II</td>\n",
       "      <td>Detlev Buck</td>\n",
       "      <td>Lina Larissa Strahl, Lisa-Marie Koroll, Louis ...</td>\n",
       "      <td>Germany</td>\n",
       "      <td>2014</td>\n",
       "      <td>TV-14</td>\n",
       "      <td>105 min</td>\n",
       "      <td>Children &amp; Family Movies, Music &amp; Musicals</td>\n",
       "      <td>When robbers hit Falkenstein castle, teen witc...</td>\n",
       "      <td>2017</td>\n",
       "      <td>April</td>\n",
       "      <td>105</td>\n",
       "      <td>min</td>\n",
       "    </tr>\n",
       "    <tr>\n",
       "      <th>s5529</th>\n",
       "      <td>Movie</td>\n",
       "      <td>Bibi &amp; Tina: Girls Versus Boys</td>\n",
       "      <td>Detlev Buck</td>\n",
       "      <td>Lina Larissa Strahl, Lisa-Marie Koroll, Tilman...</td>\n",
       "      <td>Germany</td>\n",
       "      <td>2016</td>\n",
       "      <td>TV-14</td>\n",
       "      <td>107 min</td>\n",
       "      <td>Children &amp; Family Movies, Music &amp; Musicals</td>\n",
       "      <td>At summer camp, young Bibi and her friends are...</td>\n",
       "      <td>2017</td>\n",
       "      <td>April</td>\n",
       "      <td>107</td>\n",
       "      <td>min</td>\n",
       "    </tr>\n",
       "    <tr>\n",
       "      <th>s8441</th>\n",
       "      <td>Movie</td>\n",
       "      <td>The NSU-Complex</td>\n",
       "      <td>Stefan Aust, Dirk Laabs</td>\n",
       "      <td>Unknown</td>\n",
       "      <td>Germany</td>\n",
       "      <td>2016</td>\n",
       "      <td>TV-14</td>\n",
       "      <td>90 min</td>\n",
       "      <td>Documentaries, International Movies</td>\n",
       "      <td>For 13 years, the underground neo-Nazi organiz...</td>\n",
       "      <td>2016</td>\n",
       "      <td>December</td>\n",
       "      <td>90</td>\n",
       "      <td>min</td>\n",
       "    </tr>\n",
       "  </tbody>\n",
       "</table>\n",
       "</div>"
      ],
      "text/plain": [
       "          type                           title                 director  \\\n",
       "show_id                                                                   \n",
       "s706     Movie                  Biking Borders                 Max Jabs   \n",
       "s1032    Movie                   Into the Beat       Stefan Westerwelle   \n",
       "s1253    Movie            How to Be Really Bad              Marco Petry   \n",
       "s4872    Movie                       My Fuhrer                Dani Levy   \n",
       "s5012    Movie                Schubert In Love              Lars Büchel   \n",
       "s5107    Movie   Bibi & Tina: Tohuwabohu Total              Detlev Buck   \n",
       "s5528    Movie                  Bibi & Tina II              Detlev Buck   \n",
       "s5529    Movie  Bibi & Tina: Girls Versus Boys              Detlev Buck   \n",
       "s8441    Movie                 The NSU-Complex  Stefan Aust, Dirk Laabs   \n",
       "\n",
       "                                                      cast  country  \\\n",
       "show_id                                                               \n",
       "s706                                Max Jabs, Nono Konopka  Germany   \n",
       "s1032    Alexandra Pfeifer, Yalany Marschner, Trystan P...  Germany   \n",
       "s1253    Emma Bading, Janina Fautz, Ludwig Simon, Samue...  Germany   \n",
       "s4872    Helge Schneider, Ulrich Mühe, Sylvester Groth,...  Germany   \n",
       "s5012    Olaf Schubert, Mario Adorf, Marie Leuenberger,...  Germany   \n",
       "s5107    Lina Larissa Strahl, Lisa-Marie Koroll, Louis ...  Germany   \n",
       "s5528    Lina Larissa Strahl, Lisa-Marie Koroll, Louis ...  Germany   \n",
       "s5529    Lina Larissa Strahl, Lisa-Marie Koroll, Tilman...  Germany   \n",
       "s8441                                             Unknown   Germany   \n",
       "\n",
       "         release_year rating duration  \\\n",
       "show_id                                 \n",
       "s706             2019  TV-14   89 min   \n",
       "s1032            2020  TV-14  102 min   \n",
       "s1253            2018  TV-14  100 min   \n",
       "s4872            2007  TV-14   91 min   \n",
       "s5012            2016  TV-14   94 min   \n",
       "s5107            2017  TV-14  106 min   \n",
       "s5528            2014  TV-14  105 min   \n",
       "s5529            2016  TV-14  107 min   \n",
       "s8441            2016  TV-14   90 min   \n",
       "\n",
       "                                                 listed_in  \\\n",
       "show_id                                                      \n",
       "s706     Documentaries, International Movies, Sports Mo...   \n",
       "s1032        Dramas, International Movies, Romantic Movies   \n",
       "s1253                       Comedies, International Movies   \n",
       "s4872                       Comedies, International Movies   \n",
       "s5012                       Comedies, International Movies   \n",
       "s5107           Children & Family Movies, Music & Musicals   \n",
       "s5528           Children & Family Movies, Music & Musicals   \n",
       "s5529           Children & Family Movies, Music & Musicals   \n",
       "s8441                  Documentaries, International Movies   \n",
       "\n",
       "                                               description  loading_Year  \\\n",
       "show_id                                                                    \n",
       "s706     Best friends Max and Nono bike from Berlin to ...          2021   \n",
       "s1032    A teen ballerina discovers hip-hop by chance a...          2021   \n",
       "s1253    The devil's sassy (and bored) daughter makes a...          2021   \n",
       "s4872    Germany's most celebrated actor is commissione...          2018   \n",
       "s5012    The last of his family line, Olaf Schubert doe...          2018   \n",
       "s5107    Teen witch Bibi and her pal Tina return to the...          2017   \n",
       "s5528    When robbers hit Falkenstein castle, teen witc...          2017   \n",
       "s5529    At summer camp, young Bibi and her friends are...          2017   \n",
       "s8441    For 13 years, the underground neo-Nazi organiz...          2016   \n",
       "\n",
       "        loading_Month Minutes Units  \n",
       "show_id                              \n",
       "s706             June      89   min  \n",
       "s1032           April     102   min  \n",
       "s1253           March     100   min  \n",
       "s4872             May      91   min  \n",
       "s5012           March      94   min  \n",
       "s5107        December     106   min  \n",
       "s5528           April     105   min  \n",
       "s5529           April     107   min  \n",
       "s8441        December      90   min  "
      ]
     },
     "execution_count": 51,
     "metadata": {},
     "output_type": "execute_result"
    }
   ],
   "source": [
    "df[(df['type']==\"Movie\")&(df['rating']=='TV-14')&(df['country']=='Germany')]"
   ]
  },
  {
   "cell_type": "code",
   "execution_count": 52,
   "id": "501dd144",
   "metadata": {
    "execution": {
     "iopub.execute_input": "2024-01-18T13:44:50.115141Z",
     "iopub.status.busy": "2024-01-18T13:44:50.114694Z",
     "iopub.status.idle": "2024-01-18T13:44:50.125686Z",
     "shell.execute_reply": "2024-01-18T13:44:50.124653Z"
    },
    "papermill": {
     "duration": 0.045149,
     "end_time": "2024-01-18T13:44:50.127586",
     "exception": false,
     "start_time": "2024-01-18T13:44:50.082437",
     "status": "completed"
    },
    "tags": []
   },
   "outputs": [
    {
     "name": "stdout",
     "output_type": "stream",
     "text": [
      "9  Movies got 'TV-14' in 'Germany'\n"
     ]
    }
   ],
   "source": [
    "print(len(df[(df['type']==\"Movie\")&(df['rating']=='TV-14')&(df['country']=='Germany')]),\" Movies got 'TV-14' in 'Germany'\")"
   ]
  },
  {
   "cell_type": "markdown",
   "id": "3e5d1d1c",
   "metadata": {
    "papermill": {
     "duration": 0.02651,
     "end_time": "2024-01-18T13:44:50.181300",
     "exception": false,
     "start_time": "2024-01-18T13:44:50.154790",
     "status": "completed"
    },
    "tags": []
   },
   "source": [
    "<h3>How many TV Show got the \"R\" rating after year 2010"
   ]
  },
  {
   "cell_type": "code",
   "execution_count": 53,
   "id": "1a364fd6",
   "metadata": {
    "execution": {
     "iopub.execute_input": "2024-01-18T13:44:50.244721Z",
     "iopub.status.busy": "2024-01-18T13:44:50.244272Z",
     "iopub.status.idle": "2024-01-18T13:44:50.264327Z",
     "shell.execute_reply": "2024-01-18T13:44:50.262692Z"
    },
    "papermill": {
     "duration": 0.05475,
     "end_time": "2024-01-18T13:44:50.266272",
     "exception": false,
     "start_time": "2024-01-18T13:44:50.211522",
     "status": "completed"
    },
    "tags": []
   },
   "outputs": [
    {
     "data": {
      "text/html": [
       "<div>\n",
       "<style scoped>\n",
       "    .dataframe tbody tr th:only-of-type {\n",
       "        vertical-align: middle;\n",
       "    }\n",
       "\n",
       "    .dataframe tbody tr th {\n",
       "        vertical-align: top;\n",
       "    }\n",
       "\n",
       "    .dataframe thead th {\n",
       "        text-align: right;\n",
       "    }\n",
       "</style>\n",
       "<table border=\"1\" class=\"dataframe\">\n",
       "  <thead>\n",
       "    <tr style=\"text-align: right;\">\n",
       "      <th></th>\n",
       "      <th>type</th>\n",
       "      <th>title</th>\n",
       "      <th>director</th>\n",
       "      <th>cast</th>\n",
       "      <th>country</th>\n",
       "      <th>release_year</th>\n",
       "      <th>rating</th>\n",
       "      <th>duration</th>\n",
       "      <th>listed_in</th>\n",
       "      <th>description</th>\n",
       "      <th>loading_Year</th>\n",
       "      <th>loading_Month</th>\n",
       "      <th>Minutes</th>\n",
       "      <th>Units</th>\n",
       "    </tr>\n",
       "    <tr>\n",
       "      <th>show_id</th>\n",
       "      <th></th>\n",
       "      <th></th>\n",
       "      <th></th>\n",
       "      <th></th>\n",
       "      <th></th>\n",
       "      <th></th>\n",
       "      <th></th>\n",
       "      <th></th>\n",
       "      <th></th>\n",
       "      <th></th>\n",
       "      <th></th>\n",
       "      <th></th>\n",
       "      <th></th>\n",
       "      <th></th>\n",
       "    </tr>\n",
       "  </thead>\n",
       "  <tbody>\n",
       "    <tr>\n",
       "      <th>s3894</th>\n",
       "      <td>TV Show</td>\n",
       "      <td>The Hateful Eight: Extended Version</td>\n",
       "      <td>Quentin Tarantino</td>\n",
       "      <td>Samuel L. Jackson, Kurt Russell, Jennifer Jaso...</td>\n",
       "      <td>Unknown</td>\n",
       "      <td>2015</td>\n",
       "      <td>R</td>\n",
       "      <td>1 Season</td>\n",
       "      <td>TV Shows</td>\n",
       "      <td>Trapped at a stagecoach stop as a storm rages ...</td>\n",
       "      <td>2019</td>\n",
       "      <td>April</td>\n",
       "      <td>1</td>\n",
       "      <td>Season</td>\n",
       "    </tr>\n",
       "    <tr>\n",
       "      <th>s7594</th>\n",
       "      <td>TV Show</td>\n",
       "      <td>Nobel</td>\n",
       "      <td>Unknown</td>\n",
       "      <td>Aksel Hennie, Tuva Novotny, Anders Danielsen L...</td>\n",
       "      <td>Norway</td>\n",
       "      <td>2016</td>\n",
       "      <td>R</td>\n",
       "      <td>1 Season</td>\n",
       "      <td>International TV Shows, TV Dramas, TV Thrillers</td>\n",
       "      <td>A series of incidents in Afghanistan set compl...</td>\n",
       "      <td>2016</td>\n",
       "      <td>December</td>\n",
       "      <td>1</td>\n",
       "      <td>Season</td>\n",
       "    </tr>\n",
       "  </tbody>\n",
       "</table>\n",
       "</div>"
      ],
      "text/plain": [
       "            type                                title           director  \\\n",
       "show_id                                                                    \n",
       "s3894    TV Show  The Hateful Eight: Extended Version  Quentin Tarantino   \n",
       "s7594    TV Show                                Nobel           Unknown    \n",
       "\n",
       "                                                      cast   country  \\\n",
       "show_id                                                                \n",
       "s3894    Samuel L. Jackson, Kurt Russell, Jennifer Jaso...  Unknown    \n",
       "s7594    Aksel Hennie, Tuva Novotny, Anders Danielsen L...    Norway   \n",
       "\n",
       "         release_year rating  duration  \\\n",
       "show_id                                  \n",
       "s3894            2015      R  1 Season   \n",
       "s7594            2016      R  1 Season   \n",
       "\n",
       "                                               listed_in  \\\n",
       "show_id                                                    \n",
       "s3894                                           TV Shows   \n",
       "s7594    International TV Shows, TV Dramas, TV Thrillers   \n",
       "\n",
       "                                               description  loading_Year  \\\n",
       "show_id                                                                    \n",
       "s3894    Trapped at a stagecoach stop as a storm rages ...          2019   \n",
       "s7594    A series of incidents in Afghanistan set compl...          2016   \n",
       "\n",
       "        loading_Month Minutes   Units  \n",
       "show_id                                \n",
       "s3894           April       1  Season  \n",
       "s7594        December       1  Season  "
      ]
     },
     "execution_count": 53,
     "metadata": {},
     "output_type": "execute_result"
    }
   ],
   "source": [
    "df[(df['type']==\"TV Show\")&(df['rating']=='R')&(df['release_year']>2010)]"
   ]
  },
  {
   "cell_type": "code",
   "execution_count": 54,
   "id": "3bf32412",
   "metadata": {
    "execution": {
     "iopub.execute_input": "2024-01-18T13:44:50.331286Z",
     "iopub.status.busy": "2024-01-18T13:44:50.330800Z",
     "iopub.status.idle": "2024-01-18T13:44:50.340829Z",
     "shell.execute_reply": "2024-01-18T13:44:50.339001Z"
    },
    "papermill": {
     "duration": 0.045107,
     "end_time": "2024-01-18T13:44:50.342964",
     "exception": false,
     "start_time": "2024-01-18T13:44:50.297857",
     "status": "completed"
    },
    "tags": []
   },
   "outputs": [
    {
     "name": "stdout",
     "output_type": "stream",
     "text": [
      "2 TV Show got the \"R\" rating after year 2010\n"
     ]
    }
   ],
   "source": [
    "print(len(df[(df['type']==\"TV Show\")&(df['rating']=='R')&(df['release_year']>2010)]),'TV Show got the \"R\" rating after year 2010')"
   ]
  },
  {
   "cell_type": "markdown",
   "id": "bbcb0732",
   "metadata": {
    "papermill": {
     "duration": 0.02642,
     "end_time": "2024-01-18T13:44:50.396781",
     "exception": false,
     "start_time": "2024-01-18T13:44:50.370361",
     "status": "completed"
    },
    "tags": []
   },
   "source": [
    "<h3>Which Country has the heighest no of TV Shows"
   ]
  },
  {
   "cell_type": "code",
   "execution_count": 55,
   "id": "fabc5126",
   "metadata": {
    "execution": {
     "iopub.execute_input": "2024-01-18T13:44:50.450708Z",
     "iopub.status.busy": "2024-01-18T13:44:50.450282Z",
     "iopub.status.idle": "2024-01-18T13:44:50.461931Z",
     "shell.execute_reply": "2024-01-18T13:44:50.461168Z"
    },
    "papermill": {
     "duration": 0.040763,
     "end_time": "2024-01-18T13:44:50.463526",
     "exception": false,
     "start_time": "2024-01-18T13:44:50.422763",
     "status": "completed"
    },
    "tags": []
   },
   "outputs": [
    {
     "data": {
      "text/plain": [
       "country\n",
       "United States                                    754\n",
       "Unknown                                          390\n",
       "United Kingdom                                   212\n",
       "Japan                                            167\n",
       "South Korea                                      158\n",
       "                                                ... \n",
       "Belarus                                            1\n",
       "United Kingdom, Australia                          1\n",
       "France, Australia, Germany                         1\n",
       "Australia, New Zealand, United States              1\n",
       "United States, France, South Korea, Indonesia      1\n",
       "Name: count, Length: 197, dtype: int64"
      ]
     },
     "execution_count": 55,
     "metadata": {},
     "output_type": "execute_result"
    }
   ],
   "source": [
    "df[df['type']=='TV Show']['country'].value_counts()"
   ]
  },
  {
   "cell_type": "code",
   "execution_count": 56,
   "id": "030b4b77",
   "metadata": {
    "execution": {
     "iopub.execute_input": "2024-01-18T13:44:50.521050Z",
     "iopub.status.busy": "2024-01-18T13:44:50.520630Z",
     "iopub.status.idle": "2024-01-18T13:44:50.529961Z",
     "shell.execute_reply": "2024-01-18T13:44:50.529219Z"
    },
    "papermill": {
     "duration": 0.041248,
     "end_time": "2024-01-18T13:44:50.532310",
     "exception": false,
     "start_time": "2024-01-18T13:44:50.491062",
     "status": "completed"
    },
    "tags": []
   },
   "outputs": [
    {
     "name": "stdout",
     "output_type": "stream",
     "text": [
      "( United States ) is the country that has the heighest no of TV Shows \n"
     ]
    }
   ],
   "source": [
    "print(\"(\",df[df['type']=='TV Show']['country'].value_counts().index[0],\") is the country that has the heighest no of TV Shows \")"
   ]
  },
  {
   "cell_type": "code",
   "execution_count": 57,
   "id": "2efe3242",
   "metadata": {
    "execution": {
     "iopub.execute_input": "2024-01-18T13:44:50.592616Z",
     "iopub.status.busy": "2024-01-18T13:44:50.592211Z",
     "iopub.status.idle": "2024-01-18T13:44:50.964762Z",
     "shell.execute_reply": "2024-01-18T13:44:50.962632Z"
    },
    "papermill": {
     "duration": 0.405573,
     "end_time": "2024-01-18T13:44:50.967979",
     "exception": false,
     "start_time": "2024-01-18T13:44:50.562406",
     "status": "completed"
    },
    "tags": []
   },
   "outputs": [
    {
     "data": {
      "image/png": "[encoded data removed]",
      "text/plain": [
       "<Figure size 1000x600 with 1 Axes>"
      ]
     },
     "metadata": {},
     "output_type": "display_data"
    }
   ],
   "source": [
    "data = df[df['type']=='TV Show']['country'].value_counts().sort_values(ascending=False).head(10)\n",
    "plt.figure(figsize=(10, 6))\n",
    "sns.barplot(x=data.values, y=data.index, palette='viridis')\n",
    "plt.title('Number of TV Shows for heighest 10 country ')\n",
    "plt.xlabel('Number of TV Shows')\n",
    "plt.ylabel('Country')\n",
    "plt.show()\n"
   ]
  },
  {
   "cell_type": "markdown",
   "id": "d292810a",
   "metadata": {
    "papermill": {
     "duration": 0.028497,
     "end_time": "2024-01-18T13:44:51.026699",
     "exception": false,
     "start_time": "2024-01-18T13:44:50.998202",
     "status": "completed"
    },
    "tags": []
   },
   "source": [
    "<h3>Show all Dramas Moives "
   ]
  },
  {
   "cell_type": "code",
   "execution_count": 58,
   "id": "1ba234db",
   "metadata": {
    "execution": {
     "iopub.execute_input": "2024-01-18T13:44:51.097721Z",
     "iopub.status.busy": "2024-01-18T13:44:51.097176Z",
     "iopub.status.idle": "2024-01-18T13:44:51.136128Z",
     "shell.execute_reply": "2024-01-18T13:44:51.135089Z"
    },
    "papermill": {
     "duration": 0.078236,
     "end_time": "2024-01-18T13:44:51.139838",
     "exception": false,
     "start_time": "2024-01-18T13:44:51.061602",
     "status": "completed"
    },
    "tags": []
   },
   "outputs": [
    {
     "data": {
      "text/html": [
       "<div>\n",
       "<style scoped>\n",
       "    .dataframe tbody tr th:only-of-type {\n",
       "        vertical-align: middle;\n",
       "    }\n",
       "\n",
       "    .dataframe tbody tr th {\n",
       "        vertical-align: top;\n",
       "    }\n",
       "\n",
       "    .dataframe thead th {\n",
       "        text-align: right;\n",
       "    }\n",
       "</style>\n",
       "<table border=\"1\" class=\"dataframe\">\n",
       "  <thead>\n",
       "    <tr style=\"text-align: right;\">\n",
       "      <th></th>\n",
       "      <th>type</th>\n",
       "      <th>title</th>\n",
       "      <th>director</th>\n",
       "      <th>cast</th>\n",
       "      <th>country</th>\n",
       "      <th>release_year</th>\n",
       "      <th>rating</th>\n",
       "      <th>duration</th>\n",
       "      <th>listed_in</th>\n",
       "      <th>description</th>\n",
       "      <th>loading_Year</th>\n",
       "      <th>loading_Month</th>\n",
       "      <th>Minutes</th>\n",
       "      <th>Units</th>\n",
       "    </tr>\n",
       "    <tr>\n",
       "      <th>show_id</th>\n",
       "      <th></th>\n",
       "      <th></th>\n",
       "      <th></th>\n",
       "      <th></th>\n",
       "      <th></th>\n",
       "      <th></th>\n",
       "      <th></th>\n",
       "      <th></th>\n",
       "      <th></th>\n",
       "      <th></th>\n",
       "      <th></th>\n",
       "      <th></th>\n",
       "      <th></th>\n",
       "      <th></th>\n",
       "    </tr>\n",
       "  </thead>\n",
       "  <tbody>\n",
       "    <tr>\n",
       "      <th>s113</th>\n",
       "      <td>Movie</td>\n",
       "      <td>Worth</td>\n",
       "      <td>Sara Colangelo</td>\n",
       "      <td>Michael Keaton, Stanley Tucci, Amy Ryan, Shuno...</td>\n",
       "      <td>Unknown</td>\n",
       "      <td>2021</td>\n",
       "      <td>PG-13</td>\n",
       "      <td>119 min</td>\n",
       "      <td>Dramas</td>\n",
       "      <td>In the wake of the Sept. 11 attacks, a lawyer ...</td>\n",
       "      <td>2021</td>\n",
       "      <td>September</td>\n",
       "      <td>119</td>\n",
       "      <td>min</td>\n",
       "    </tr>\n",
       "    <tr>\n",
       "      <th>s130</th>\n",
       "      <td>Movie</td>\n",
       "      <td>An Unfinished Life</td>\n",
       "      <td>Lasse Hallström</td>\n",
       "      <td>Robert Redford, Jennifer Lopez, Morgan Freeman...</td>\n",
       "      <td>Germany, United States</td>\n",
       "      <td>2005</td>\n",
       "      <td>PG-13</td>\n",
       "      <td>108 min</td>\n",
       "      <td>Dramas</td>\n",
       "      <td>A grieving widow and her daughter move in with...</td>\n",
       "      <td>2021</td>\n",
       "      <td>September</td>\n",
       "      <td>108</td>\n",
       "      <td>min</td>\n",
       "    </tr>\n",
       "    <tr>\n",
       "      <th>s143</th>\n",
       "      <td>Movie</td>\n",
       "      <td>Freedom Writers</td>\n",
       "      <td>Richard LaGravenese</td>\n",
       "      <td>Hilary Swank, Patrick Dempsey, Scott Glenn, Im...</td>\n",
       "      <td>Germany, United States</td>\n",
       "      <td>2007</td>\n",
       "      <td>PG-13</td>\n",
       "      <td>124 min</td>\n",
       "      <td>Dramas</td>\n",
       "      <td>While her at-risk students are reading classic...</td>\n",
       "      <td>2021</td>\n",
       "      <td>September</td>\n",
       "      <td>124</td>\n",
       "      <td>min</td>\n",
       "    </tr>\n",
       "    <tr>\n",
       "      <th>s163</th>\n",
       "      <td>Movie</td>\n",
       "      <td>Marshall</td>\n",
       "      <td>Reginald Hudlin</td>\n",
       "      <td>Chadwick Boseman, Josh Gad, Kate Hudson, Sterl...</td>\n",
       "      <td>United States, China, Hong Kong</td>\n",
       "      <td>2017</td>\n",
       "      <td>PG-13</td>\n",
       "      <td>118 min</td>\n",
       "      <td>Dramas</td>\n",
       "      <td>This biopic of Thurgood Marshall, the first Bl...</td>\n",
       "      <td>2021</td>\n",
       "      <td>September</td>\n",
       "      <td>118</td>\n",
       "      <td>min</td>\n",
       "    </tr>\n",
       "    <tr>\n",
       "      <th>s330</th>\n",
       "      <td>Movie</td>\n",
       "      <td>Catch Me If You Can</td>\n",
       "      <td>Steven Spielberg</td>\n",
       "      <td>Leonardo DiCaprio, Tom Hanks, Christopher Walk...</td>\n",
       "      <td>United States, Canada</td>\n",
       "      <td>2002</td>\n",
       "      <td>PG-13</td>\n",
       "      <td>142 min</td>\n",
       "      <td>Dramas</td>\n",
       "      <td>An FBI agent makes it his mission to put cunni...</td>\n",
       "      <td>2021</td>\n",
       "      <td>August</td>\n",
       "      <td>142</td>\n",
       "      <td>min</td>\n",
       "    </tr>\n",
       "    <tr>\n",
       "      <th>...</th>\n",
       "      <td>...</td>\n",
       "      <td>...</td>\n",
       "      <td>...</td>\n",
       "      <td>...</td>\n",
       "      <td>...</td>\n",
       "      <td>...</td>\n",
       "      <td>...</td>\n",
       "      <td>...</td>\n",
       "      <td>...</td>\n",
       "      <td>...</td>\n",
       "      <td>...</td>\n",
       "      <td>...</td>\n",
       "      <td>...</td>\n",
       "      <td>...</td>\n",
       "    </tr>\n",
       "    <tr>\n",
       "      <th>s8675</th>\n",
       "      <td>Movie</td>\n",
       "      <td>Viceroy's House</td>\n",
       "      <td>Gurinder Chadha</td>\n",
       "      <td>Hugh Bonneville, Gillian Anderson, Manish Daya...</td>\n",
       "      <td>United Kingdom, India, Sweden</td>\n",
       "      <td>2017</td>\n",
       "      <td>NR</td>\n",
       "      <td>106 min</td>\n",
       "      <td>Dramas</td>\n",
       "      <td>As viceroy Lord Mountbatten arrives in Delhi t...</td>\n",
       "      <td>2017</td>\n",
       "      <td>December</td>\n",
       "      <td>106</td>\n",
       "      <td>min</td>\n",
       "    </tr>\n",
       "    <tr>\n",
       "      <th>s8676</th>\n",
       "      <td>Movie</td>\n",
       "      <td>Victor</td>\n",
       "      <td>Brandon Dickerson</td>\n",
       "      <td>Patrick Davis, Lisa Vidal, Josh Pence, José Zú...</td>\n",
       "      <td>United States</td>\n",
       "      <td>2015</td>\n",
       "      <td>PG-13</td>\n",
       "      <td>110 min</td>\n",
       "      <td>Dramas</td>\n",
       "      <td>In 1962 Brooklyn, a Puerto Rican teen who join...</td>\n",
       "      <td>2017</td>\n",
       "      <td>July</td>\n",
       "      <td>110</td>\n",
       "      <td>min</td>\n",
       "    </tr>\n",
       "    <tr>\n",
       "      <th>s8686</th>\n",
       "      <td>Movie</td>\n",
       "      <td>VS.</td>\n",
       "      <td>Ed Lilly</td>\n",
       "      <td>Connor Swindells, Fola Evans-Akingbola, Nichol...</td>\n",
       "      <td>United Kingdom</td>\n",
       "      <td>2018</td>\n",
       "      <td>TV-MA</td>\n",
       "      <td>99 min</td>\n",
       "      <td>Dramas</td>\n",
       "      <td>A young man in foster care finds his voice in ...</td>\n",
       "      <td>2019</td>\n",
       "      <td>June</td>\n",
       "      <td>99</td>\n",
       "      <td>min</td>\n",
       "    </tr>\n",
       "    <tr>\n",
       "      <th>s8692</th>\n",
       "      <td>Movie</td>\n",
       "      <td>Wakefield</td>\n",
       "      <td>Robin Swicord</td>\n",
       "      <td>Bryan Cranston, Jennifer Garner, Jason O'Mara,...</td>\n",
       "      <td>United States</td>\n",
       "      <td>2016</td>\n",
       "      <td>R</td>\n",
       "      <td>109 min</td>\n",
       "      <td>Dramas</td>\n",
       "      <td>An unhappy father and lawyer quits his suburba...</td>\n",
       "      <td>2019</td>\n",
       "      <td>March</td>\n",
       "      <td>109</td>\n",
       "      <td>min</td>\n",
       "    </tr>\n",
       "    <tr>\n",
       "      <th>s8697</th>\n",
       "      <td>Movie</td>\n",
       "      <td>War Horse</td>\n",
       "      <td>Steven Spielberg</td>\n",
       "      <td>Emily Watson, David Thewlis, Peter Mullan, Nie...</td>\n",
       "      <td>United States, India</td>\n",
       "      <td>2011</td>\n",
       "      <td>PG-13</td>\n",
       "      <td>147 min</td>\n",
       "      <td>Dramas</td>\n",
       "      <td>During World War I, the bond between a young E...</td>\n",
       "      <td>2019</td>\n",
       "      <td>May</td>\n",
       "      <td>147</td>\n",
       "      <td>min</td>\n",
       "    </tr>\n",
       "  </tbody>\n",
       "</table>\n",
       "<p>137 rows × 14 columns</p>\n",
       "</div>"
      ],
      "text/plain": [
       "          type                title             director  \\\n",
       "show_id                                                    \n",
       "s113     Movie                Worth       Sara Colangelo   \n",
       "s130     Movie   An Unfinished Life      Lasse Hallström   \n",
       "s143     Movie      Freedom Writers  Richard LaGravenese   \n",
       "s163     Movie             Marshall      Reginald Hudlin   \n",
       "s330     Movie  Catch Me If You Can     Steven Spielberg   \n",
       "...        ...                  ...                  ...   \n",
       "s8675    Movie      Viceroy's House      Gurinder Chadha   \n",
       "s8676    Movie               Victor    Brandon Dickerson   \n",
       "s8686    Movie                  VS.             Ed Lilly   \n",
       "s8692    Movie            Wakefield        Robin Swicord   \n",
       "s8697    Movie            War Horse     Steven Spielberg   \n",
       "\n",
       "                                                      cast  \\\n",
       "show_id                                                      \n",
       "s113     Michael Keaton, Stanley Tucci, Amy Ryan, Shuno...   \n",
       "s130     Robert Redford, Jennifer Lopez, Morgan Freeman...   \n",
       "s143     Hilary Swank, Patrick Dempsey, Scott Glenn, Im...   \n",
       "s163     Chadwick Boseman, Josh Gad, Kate Hudson, Sterl...   \n",
       "s330     Leonardo DiCaprio, Tom Hanks, Christopher Walk...   \n",
       "...                                                    ...   \n",
       "s8675    Hugh Bonneville, Gillian Anderson, Manish Daya...   \n",
       "s8676    Patrick Davis, Lisa Vidal, Josh Pence, José Zú...   \n",
       "s8686    Connor Swindells, Fola Evans-Akingbola, Nichol...   \n",
       "s8692    Bryan Cranston, Jennifer Garner, Jason O'Mara,...   \n",
       "s8697    Emily Watson, David Thewlis, Peter Mullan, Nie...   \n",
       "\n",
       "                                 country  release_year rating duration  \\\n",
       "show_id                                                                  \n",
       "s113                            Unknown           2021  PG-13  119 min   \n",
       "s130              Germany, United States          2005  PG-13  108 min   \n",
       "s143              Germany, United States          2007  PG-13  124 min   \n",
       "s163     United States, China, Hong Kong          2017  PG-13  118 min   \n",
       "s330               United States, Canada          2002  PG-13  142 min   \n",
       "...                                  ...           ...    ...      ...   \n",
       "s8675      United Kingdom, India, Sweden          2017     NR  106 min   \n",
       "s8676                      United States          2015  PG-13  110 min   \n",
       "s8686                     United Kingdom          2018  TV-MA   99 min   \n",
       "s8692                      United States          2016      R  109 min   \n",
       "s8697               United States, India          2011  PG-13  147 min   \n",
       "\n",
       "        listed_in                                        description  \\\n",
       "show_id                                                                \n",
       "s113       Dramas  In the wake of the Sept. 11 attacks, a lawyer ...   \n",
       "s130       Dramas  A grieving widow and her daughter move in with...   \n",
       "s143       Dramas  While her at-risk students are reading classic...   \n",
       "s163       Dramas  This biopic of Thurgood Marshall, the first Bl...   \n",
       "s330       Dramas  An FBI agent makes it his mission to put cunni...   \n",
       "...           ...                                                ...   \n",
       "s8675      Dramas  As viceroy Lord Mountbatten arrives in Delhi t...   \n",
       "s8676      Dramas  In 1962 Brooklyn, a Puerto Rican teen who join...   \n",
       "s8686      Dramas  A young man in foster care finds his voice in ...   \n",
       "s8692      Dramas  An unhappy father and lawyer quits his suburba...   \n",
       "s8697      Dramas  During World War I, the bond between a young E...   \n",
       "\n",
       "         loading_Year loading_Month Minutes Units  \n",
       "show_id                                            \n",
       "s113             2021     September     119   min  \n",
       "s130             2021     September     108   min  \n",
       "s143             2021     September     124   min  \n",
       "s163             2021     September     118   min  \n",
       "s330             2021        August     142   min  \n",
       "...               ...           ...     ...   ...  \n",
       "s8675            2017      December     106   min  \n",
       "s8676            2017          July     110   min  \n",
       "s8686            2019          June      99   min  \n",
       "s8692            2019         March     109   min  \n",
       "s8697            2019           May     147   min  \n",
       "\n",
       "[137 rows x 14 columns]"
      ]
     },
     "execution_count": 58,
     "metadata": {},
     "output_type": "execute_result"
    }
   ],
   "source": [
    "df[(df['type']=='Movie')&(df['listed_in']=='Dramas')]"
   ]
  },
  {
   "cell_type": "code",
   "execution_count": 59,
   "id": "1c7dbc82",
   "metadata": {
    "execution": {
     "iopub.execute_input": "2024-01-18T13:44:51.214886Z",
     "iopub.status.busy": "2024-01-18T13:44:51.214505Z",
     "iopub.status.idle": "2024-01-18T13:44:51.224471Z",
     "shell.execute_reply": "2024-01-18T13:44:51.221873Z"
    },
    "papermill": {
     "duration": 0.0532,
     "end_time": "2024-01-18T13:44:51.227172",
     "exception": false,
     "start_time": "2024-01-18T13:44:51.173972",
     "status": "completed"
    },
    "tags": []
   },
   "outputs": [
    {
     "name": "stdout",
     "output_type": "stream",
     "text": [
      "There are ( 137 ) Dramas Moives\n"
     ]
    }
   ],
   "source": [
    "print(\"There are (\",len(df[(df['type']=='Movie')&(df['listed_in']=='Dramas')]),\") Dramas Moives\")"
   ]
  },
  {
   "cell_type": "code",
   "execution_count": 60,
   "id": "bd372e12",
   "metadata": {
    "execution": {
     "iopub.execute_input": "2024-01-18T13:44:51.297432Z",
     "iopub.status.busy": "2024-01-18T13:44:51.296931Z",
     "iopub.status.idle": "2024-01-18T13:44:51.307391Z",
     "shell.execute_reply": "2024-01-18T13:44:51.306005Z"
    },
    "papermill": {
     "duration": 0.048646,
     "end_time": "2024-01-18T13:44:51.310624",
     "exception": false,
     "start_time": "2024-01-18T13:44:51.261978",
     "status": "completed"
    },
    "tags": []
   },
   "outputs": [],
   "source": [
    "df_filter = df[(df[\"release_year\"] < 2020) & (df[\"release_year\"] > 1900)]\n",
    "df_filter =df_filter .head(2000)"
   ]
  },
  {
   "cell_type": "code",
   "execution_count": 61,
   "id": "3b6b9d29",
   "metadata": {
    "execution": {
     "iopub.execute_input": "2024-01-18T13:44:51.377266Z",
     "iopub.status.busy": "2024-01-18T13:44:51.376818Z",
     "iopub.status.idle": "2024-01-18T13:44:51.796743Z",
     "shell.execute_reply": "2024-01-18T13:44:51.795358Z"
    },
    "papermill": {
     "duration": 0.457115,
     "end_time": "2024-01-18T13:44:51.799807",
     "exception": false,
     "start_time": "2024-01-18T13:44:51.342692",
     "status": "completed"
    },
    "tags": []
   },
   "outputs": [
    {
     "data": {
      "image/png": "[encoded data removed]",
      "text/plain": [
       "<Figure size 1000x600 with 1 Axes>"
      ]
     },
     "metadata": {},
     "output_type": "display_data"
    }
   ],
   "source": [
    "plt.figure(figsize=(10, 6))\n",
    "ax=sns.countplot(data=df_filter, x='rating', hue='type', palette='pastel')\n",
    "plt.title(' Content Type available according to ratings', fontsize=15)\n",
    "plt.xlabel('Rating', fontsize=14)\n",
    "ax.legend(loc='center left', bbox_to_anchor=(0.600,0.90),\n",
    "          ncol=3, fancybox=True, shadow=True)\n",
    "plt.show()"
   ]
  },
  {
   "cell_type": "markdown",
   "id": "b0770a06",
   "metadata": {
    "papermill": {
     "duration": 0.031043,
     "end_time": "2024-01-18T13:44:51.863973",
     "exception": false,
     "start_time": "2024-01-18T13:44:51.832930",
     "status": "completed"
    },
    "tags": []
   },
   "source": [
    "<h1>Wish You Luck\n",
    "<h3>Esraa Meslam"
   ]
  }
 ],
 "metadata": {
  "kaggle": {
   "accelerator": "none",
   "dataSources": [
    {
     "datasetId": 434238,
     "sourceId": 2654038,
     "sourceType": "datasetVersion"
    }
   ],
   "dockerImageVersionId": 30626,
   "isGpuEnabled": false,
   "isInternetEnabled": true,
   "language": "python",
   "sourceType": "notebook"
  },
  "kernelspec": {
   "display_name": "Python 3",
   "language": "python",
   "name": "python3"
  },
  "language_info": {
   "codemirror_mode": {
    "name": "ipython",
    "version": 3
   },
   "file_extension": ".py",
   "mimetype": "text/x-python",
   "name": "python",
   "nbconvert_exporter": "python",
   "pygments_lexer": "ipython3",
   "version": "3.10.12"
  },
  "papermill": {
   "default_parameters": {},
   "duration": 20.376081,
   "end_time": "2024-01-18T13:44:52.719845",
   "environment_variables": {},
   "exception": null,
   "input_path": "__notebook__.ipynb",
   "output_path": "__notebook__.ipynb",
   "parameters": {},
   "start_time": "2024-01-18T13:44:32.343764",
   "version": "2.4.0"
  }
 },
 "nbformat": 4,
 "nbformat_minor": 5
}
